{
 "cells": [
  {
   "cell_type": "code",
   "execution_count": 1,
   "id": "06158df1",
   "metadata": {},
   "outputs": [],
   "source": [
    "import pandas as pd\n",
    "import matplotlib.pyplot as plt\n",
    "import seaborn as sns"
   ]
  },
  {
   "cell_type": "code",
   "execution_count": 2,
   "id": "c7851049",
   "metadata": {},
   "outputs": [],
   "source": [
    "data = pd.read_csv('course+-+Quiz+P4+(1).csv')"
   ]
  },
  {
   "cell_type": "code",
   "execution_count": 3,
   "id": "5bf41dae",
   "metadata": {},
   "outputs": [
    {
     "name": "stdout",
     "output_type": "stream",
     "text": [
      "<class 'pandas.core.frame.DataFrame'>\n",
      "RangeIndex: 340 entries, 0 to 339\n",
      "Data columns (total 6 columns):\n",
      " #   Column          Non-Null Count  Dtype \n",
      "---  ------          --------------  ----- \n",
      " 0   Position        340 non-null    int64 \n",
      " 1   Sexe            340 non-null    object\n",
      " 2   Temps           340 non-null    object\n",
      " 3   Dept            340 non-null    int64 \n",
      " 4   Temps_secondes  340 non-null    int64 \n",
      " 5   Age             340 non-null    int64 \n",
      "dtypes: int64(4), object(2)\n",
      "memory usage: 16.1+ KB\n"
     ]
    }
   ],
   "source": [
    "data.info()"
   ]
  },
  {
   "cell_type": "markdown",
   "id": "36e52659",
   "metadata": {},
   "source": [
    "## discretation"
   ]
  },
  {
   "cell_type": "code",
   "execution_count": 4,
   "id": "0d7621a7",
   "metadata": {},
   "outputs": [],
   "source": [
    "import seaborn as sns\n",
    "\n",
    "import matplotlib.pyplot as plt\n",
    "\n",
    "\n",
    "data['cat'] = 0\n",
    "\n",
    "data.loc[data['Age'] <= 30, 'cat'] = '- 30'\n",
    "\n",
    "data.loc[(data['Age'] > 30) & (data['Age'] <= 40), 'cat'] = '30-40'\n",
    "\n",
    "data.loc[(data['Age'] > 40) & (data['Age'] <= 50), 'cat'] = '40-50'\n",
    "\n",
    "data.loc[(data['Age'] > 50) & (data['Age'] <= 60), 'cat'] = '50-60'\n",
    "\n",
    "data.loc[(data['Age'] > 60), 'cat'] = '60+'\n"
   ]
  },
  {
   "cell_type": "code",
   "execution_count": 5,
   "id": "c6a8ed48",
   "metadata": {},
   "outputs": [
    {
     "data": {
      "image/png": "[encoded data removed]",
      "text/plain": [
       "<Figure size 432x288 with 1 Axes>"
      ]
     },
     "metadata": {
      "needs_background": "light"
     },
     "output_type": "display_data"
    }
   ],
   "source": [
    "sns.boxplot(y='Position', x='cat', data=data, orient='v')\n",
    "\n",
    "plt.show()"
   ]
  },
  {
   "cell_type": "markdown",
   "id": "264ada2e",
   "metadata": {},
   "source": [
    "## calcul variance"
   ]
  },
  {
   "cell_type": "code",
   "execution_count": 6,
   "id": "db6519e1",
   "metadata": {},
   "outputs": [
    {
     "ename": "ModuleNotFoundError",
     "evalue": "No module named 'statsmodels'",
     "output_type": "error",
     "traceback": [
      "\u001b[0;31m---------------------------------------------------------------------------\u001b[0m",
      "\u001b[0;31mModuleNotFoundError\u001b[0m                       Traceback (most recent call last)",
      "Input \u001b[0;32mIn [6]\u001b[0m, in \u001b[0;36m<cell line: 1>\u001b[0;34m()\u001b[0m\n\u001b[0;32m----> 1\u001b[0m \u001b[38;5;28;01mimport\u001b[39;00m \u001b[38;5;21;01mstatsmodels\u001b[39;00m\u001b[38;5;21;01m.\u001b[39;00m\u001b[38;5;21;01mapi\u001b[39;00m \u001b[38;5;28;01mas\u001b[39;00m \u001b[38;5;21;01msm\u001b[39;00m\n\u001b[1;32m      3\u001b[0m Y \u001b[38;5;241m=\u001b[39m data[\u001b[38;5;124m'\u001b[39m\u001b[38;5;124mPosition\u001b[39m\u001b[38;5;124m'\u001b[39m]\n\u001b[1;32m      5\u001b[0m X \u001b[38;5;241m=\u001b[39m data[[\u001b[38;5;124m\"\u001b[39m\u001b[38;5;124mAge\u001b[39m\u001b[38;5;124m\"\u001b[39m]]\u001b[38;5;241m.\u001b[39mcopy()\n",
      "\u001b[0;31mModuleNotFoundError\u001b[0m: No module named 'statsmodels'"
     ]
    }
   ],
   "source": [
    "import statsmodels.api as sm\n",
    "\n",
    "Y = data['Position']\n",
    "\n",
    "X = data[[\"Age\"]].copy()\n",
    "\n",
    "X['intercept'] = 1\n",
    "\n",
    "result = sm.OLS(Y, X).fit()\n",
    "\n",
    "\n",
    "a,b = result.params\n",
    "\n",
    "print(a, b, result.rsquared)"
   ]
  },
  {
   "cell_type": "markdown",
   "id": "373b7008",
   "metadata": {},
   "source": [
    "## ANOVA "
   ]
  },
  {
   "cell_type": "code",
   "execution_count": 7,
   "id": "eb169e1c",
   "metadata": {},
   "outputs": [
    {
     "data": {
      "text/plain": [
       "0.20400517398334017"
      ]
     },
     "execution_count": 7,
     "metadata": {},
     "output_type": "execute_result"
    }
   ],
   "source": [
    "X = \"Sexe\" # qualitative\n",
    "\n",
    "Y = \"Temps_secondes\" # quantitative\n",
    "\n",
    "\n",
    "def eta_squared(x,y):\n",
    "\n",
    "    moyenne_y = y.mean()\n",
    "\n",
    "    classes = []\n",
    "\n",
    "    for classe in x.unique():\n",
    "\n",
    "        yi_classe = y[x==classe]\n",
    "\n",
    "        classes.append({'ni': len(yi_classe),\n",
    "\n",
    "                        'moyenne_classe': yi_classe.mean()})\n",
    "\n",
    "    SCT = sum([(yj-moyenne_y)**2 for yj in y])\n",
    "\n",
    "    SCE = sum([c['ni']*(c['moyenne_classe']-moyenne_y)**2 for c in classes])\n",
    "\n",
    "    return SCE/SCT\n",
    "\n",
    "\n",
    "eta_squared(data[X],data[Y])"
   ]
  },
  {
   "cell_type": "code",
   "execution_count": null,
   "id": "2fc21367",
   "metadata": {},
   "outputs": [],
   "source": []
  }
 ],
 "metadata": {
  "kernelspec": {
   "display_name": "Python 3 (ipykernel)",
   "language": "python",
   "name": "python3"
  },
  "language_info": {
   "codemirror_mode": {
    "name": "ipython",
    "version": 3
   },
   "file_extension": ".py",
   "mimetype": "text/x-python",
   "name": "python",
   "nbconvert_exporter": "python",
   "pygments_lexer": "ipython3",
   "version": "3.10.5"
  }
 },
 "nbformat": 4,
 "nbformat_minor": 5
}
