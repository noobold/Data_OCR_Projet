{
 "cells": [
  {
   "cell_type": "markdown",
   "id": "9ecae60e",
   "metadata": {},
   "source": [
    "# DATA V2 Projet 4 OpenClassRoom\n",
    "## Analyses des données\n",
    "### import des bibliotheques et des fichiers"
   ]
  },
  {
   "cell_type": "code",
   "execution_count": 1,
   "id": "4b7d539d",
   "metadata": {},
   "outputs": [],
   "source": [
    "#import des bibliotheques\n",
    "import pandas as pd\n",
    "import matplotlib.pyplot as plt\n",
    "import seaborn as sns "
   ]
  },
  {
   "cell_type": "code",
   "execution_count": 2,
   "id": "ddb66bd1",
   "metadata": {},
   "outputs": [],
   "source": [
    "from fonction.fonction_perso import *"
   ]
  },
  {
   "cell_type": "code",
   "execution_count": 3,
   "id": "31e30d47",
   "metadata": {},
   "outputs": [],
   "source": [
    "#importation des csv dans des dataframes et données exterieures\n",
    "pop_nutri_aide = pd.read_csv('donnee_analyse/pop_nutri_aide.csv')\n",
    "pop_dispo = pd.read_csv('donnee_analyse/pop_dispo.csv')\n",
    "nom_cereale = pd.read_csv('donnee_analyse/cereale.csv')\n",
    "\n",
    "# données extérieures : une personne a besoin de 2500 Kcal\n",
    "# src : https://www.ciwf.fr/actualites/2013/07/nourrir-9-milliards-habitants\n",
    "calorie_necessaire = 2500"
   ]
  },
  {
   "cell_type": "markdown",
   "id": "f1b31b3d",
   "metadata": {},
   "source": [
    "### Question 1: proportion de personne en état de sous-nutrition en 2017"
   ]
  },
  {
   "cell_type": "code",
   "execution_count": 4,
   "id": "f34473a3",
   "metadata": {},
   "outputs": [
    {
     "name": "stdout",
     "output_type": "stream",
     "text": [
      "la proportion de personne en état de sous-nutrition est de : 7.1 %\n"
     ]
    },
    {
     "data": {
      "image/png": "[encoded data removed]",
      "text/plain": [
       "<Figure size 432x288 with 1 Axes>"
      ]
     },
     "metadata": {},
     "output_type": "display_data"
    }
   ],
   "source": [
    "#filtrage de l'année\n",
    "Q1 = pop_nutri_aide.loc[(pop_nutri_aide['Année'] == 2017)] \n",
    "\n",
    "#somme des colonnes enregistrées dans des variables\n",
    "pop_sousnutri_totale = Q1['Sous_nutrition en nbr d habitant'].sum()\n",
    "pop_totale = Q1['Population en nbr d habitant'].sum()\n",
    "\n",
    "#la reponse en mode texte:\n",
    "print(\"la proportion de personne en état de sous-nutrition est de :\",\n",
    "      round(pop_sousnutri_totale/pop_totale*100,2),\"%\")\n",
    "\n",
    "#camembert avec matplotlib pyplot\n",
    "sns.set_theme(style=\"dark\", color_codes=True)\n",
    "\n",
    "plt.title(label='proportion de la population en sous-nutrition')\n",
    "plt.pie([pop_totale-pop_sousnutri_totale,pop_sousnutri_totale],normalize=True,\n",
    "        labels=['population totale','sous-nutrition'],autopct=\"%1.1f%%\",colors=['cyan','red']);\n"
   ]
  },
  {
   "cell_type": "markdown",
   "id": "6599a814",
   "metadata": {},
   "source": [
    "### Question 2: Le nombre théorique de personnes qui pourraient être nourries en 2017"
   ]
  },
  {
   "cell_type": "code",
   "execution_count": 5,
   "id": "a7c98f4a",
   "metadata": {},
   "outputs": [
    {
     "name": "stdout",
     "output_type": "stream",
     "text": [
      "on pourrait nourrir  8367593850 personnes\n",
      "on produit 110 % de la population totale\n"
     ]
    }
   ],
   "source": [
    "#ne prendre que les 2 colonnes dispo-alimentaire et Population\n",
    "Q2 = pop_dispo.iloc[:,[5,19]].copy(deep=True) \n",
    "\n",
    "#création nouvelle colonne avec le nombre de Kcal dispo \n",
    "Q2['dispo_alimentaire'] = Q2['Disponibilité alimentaire (Kcal/personne/jour)']*Q2['Population en nbr d habitant']\n",
    "\n",
    "# calcul et enregistrement dans des variables\n",
    "dispo_alim_totale = Q2['dispo_alimentaire'].sum()\n",
    "nourriture_par_personne = dispo_alim_totale/calorie_necessaire\n",
    "prop_prod = int(nourriture_par_personne/(pop_totale)*100)\n",
    "\n",
    "#affichage de la reponse en mode terminal\n",
    "print(\"on pourrait nourrir \",int(nourriture_par_personne),\"personnes\")\n",
    "print(\"on produit\",int(prop_prod),\"% de la population totale\" ) "
   ]
  },
  {
   "cell_type": "markdown",
   "id": "a7114c0a",
   "metadata": {},
   "source": [
    "### Question 3: idem pour la disponibilté alimentaire des produits végétaux"
   ]
  },
  {
   "cell_type": "code",
   "execution_count": 6,
   "id": "36174c2b",
   "metadata": {
    "scrolled": true
   },
   "outputs": [
    {
     "name": "stdout",
     "output_type": "stream",
     "text": [
      "on pourrait nourrir  6904305684 personnes\n",
      "on produit 91 % de l'alimentation nécessaire à la population totale'\n"
     ]
    }
   ],
   "source": [
    "#tableaux avec seulement les données necessaires à la question\n",
    "Q3 = pop_dispo.iloc[:,[2,5,19]].copy(deep=True) \n",
    "\n",
    "#on enleve la nourriture d'origine animale\n",
    "Q3= Q3[Q3['Origine'] == 'vegetale']\n",
    "\n",
    "#création d'une colonne dispo alimentaire\n",
    "Q3['dispo_alimentaire'] = Q3['Disponibilité alimentaire (Kcal/personne/jour)']*Q3['Population en nbr d habitant']\n",
    "\n",
    "#calcul et enregistrement dans les variables\n",
    "dispo_alim_vegetale = Q3['dispo_alimentaire'].sum()\n",
    "nourriture_par_personne_vegan = dispo_alim_vegetale/calorie_necessaire\n",
    "prop_prod_vegan = int(nourriture_par_personne_vegan/(pop_totale)*100)\n",
    "\n",
    "#affichage en mode texte\n",
    "print(\"on pourrait nourrir \",int(nourriture_par_personne_vegan),\"personnes\")\n",
    "print(\"on produit\",int(prop_prod_vegan),\"% de l'alimentation nécessaire à la population totale'\" ) "
   ]
  },
  {
   "cell_type": "markdown",
   "id": "f78d968f",
   "metadata": {},
   "source": [
    "### Création d'un diagramme avec les questions 2 et 3"
   ]
  },
  {
   "cell_type": "code",
   "execution_count": 7,
   "id": "150c28a2",
   "metadata": {},
   "outputs": [
    {
     "data": {
      "image/png": "[encoded data removed]",
      "text/plain": [
       "<Figure size 432x288 with 1 Axes>"
      ]
     },
     "metadata": {},
     "output_type": "display_data"
    }
   ],
   "source": [
    "# Préparation de la figure\n",
    "sns.set_theme(style=\"dark\", color_codes=True)\n",
    "\n",
    "\n",
    "fig = plt.figure()\n",
    "ax = fig.add_axes([0, 0, 1,1])\n",
    "\n",
    "etiquettes = ['100%', 'proportion production', 'prop nourriture vegane']\n",
    "valeurs = [100, prop_prod, prop_prod_vegan]\n",
    "couleurs = ['darkturquoise','red','green']\n",
    "\n",
    "# Affichage des données\n",
    "ax.bar(etiquettes, valeurs,color=couleurs)\n",
    "# Titre du graphique\n",
    "plt.title(\"Histogramme proportion production de nourriture\") ; \n",
    "\n"
   ]
  },
  {
   "cell_type": "markdown",
   "id": "e6c25412",
   "metadata": {},
   "source": [
    "### question 4 :l’utilisation de la disponibilité intérieure, \n",
    "#### en particulier la part qui est attribuée à l’alimentation animale, celle qui est perdue et celle qui est concrètement utilisée pour l'alimentation humaine. Ajouter la part de la population humaine"
   ]
  },
  {
   "cell_type": "code",
   "execution_count": 20,
   "id": "a7d6075a",
   "metadata": {},
   "outputs": [
    {
     "name": "stdout",
     "output_type": "stream",
     "text": [
      "la part de nourriture perdue est de : 4.65 %\n",
      "la part de nourriture mangée par les animaux est de : 13.23 %\n",
      "la part de nourriture mangée par les humains est de : 49.37 %\n"
     ]
    },
    {
     "data": {
      "text/html": [
       "<div>\n",
       "<style scoped>\n",
       "    .dataframe tbody tr th:only-of-type {\n",
       "        vertical-align: middle;\n",
       "    }\n",
       "\n",
       "    .dataframe tbody tr th {\n",
       "        vertical-align: top;\n",
       "    }\n",
       "\n",
       "    .dataframe thead th {\n",
       "        text-align: right;\n",
       "    }\n",
       "</style>\n",
       "<table border=\"1\" class=\"dataframe\">\n",
       "  <thead>\n",
       "    <tr style=\"text-align: right;\">\n",
       "      <th></th>\n",
       "      <th>0</th>\n",
       "    </tr>\n",
       "  </thead>\n",
       "  <tbody>\n",
       "    <tr>\n",
       "      <th>Aliments pour animaux</th>\n",
       "      <td>13.23</td>\n",
       "    </tr>\n",
       "    <tr>\n",
       "      <th>Autres Utilisations</th>\n",
       "      <td>8.82</td>\n",
       "    </tr>\n",
       "    <tr>\n",
       "      <th>Nourriture</th>\n",
       "      <td>49.37</td>\n",
       "    </tr>\n",
       "    <tr>\n",
       "      <th>Pertes</th>\n",
       "      <td>4.65</td>\n",
       "    </tr>\n",
       "    <tr>\n",
       "      <th>Semences</th>\n",
       "      <td>1.58</td>\n",
       "    </tr>\n",
       "    <tr>\n",
       "      <th>Traitement</th>\n",
       "      <td>22.45</td>\n",
       "    </tr>\n",
       "  </tbody>\n",
       "</table>\n",
       "</div>"
      ],
      "text/plain": [
       "                           0\n",
       "Aliments pour animaux  13.23\n",
       "Autres Utilisations     8.82\n",
       "Nourriture             49.37\n",
       "Pertes                  4.65\n",
       "Semences                1.58\n",
       "Traitement             22.45"
      ]
     },
     "execution_count": 20,
     "metadata": {},
     "output_type": "execute_result"
    }
   ],
   "source": [
    "#création et calcul d'un dataframe Q4\n",
    "disponibilité_int_totale = pop_dispo['Disponibilité intérieure'].sum()\n",
    "Q4 = pd.DataFrame(pop_dispo.iloc[:,[3,4,12,13,15,16]].sum())\n",
    "Q4 = round(Q4 / disponibilité_int_totale *100,2)\n",
    "\n",
    "#affichage en mode texte\n",
    "print(\"la part de nourriture perdue est de :\",Q4.iat[3,0],\"%\")\n",
    "print(\"la part de nourriture mangée par les animaux est de :\",Q4.iat[0,0],\"%\")\n",
    "print(\"la part de nourriture mangée par les humains est de :\",Q4.iat[2,0],\"%\")\n",
    "\n",
    "#affichage de Q4\n",
    "Q4.head(10)"
   ]
  },
  {
   "cell_type": "markdown",
   "id": "14227aaa",
   "metadata": {},
   "source": [
    "### histogramme Question 4 "
   ]
  },
  {
   "cell_type": "code",
   "execution_count": 9,
   "id": "388ef2ac",
   "metadata": {},
   "outputs": [
    {
     "data": {
      "image/png": "[encoded data removed]",
      "text/plain": [
       "<Figure size 432x288 with 1 Axes>"
      ]
     },
     "metadata": {},
     "output_type": "display_data"
    }
   ],
   "source": [
    "#trier le data avant \n",
    "Q4 = Q4.sort_values(by = 0,ascending= False)\n",
    "sns.set_theme(style=\"dark\", color_codes=True)\n",
    "\n",
    "# Préparation de la figure\n",
    "fig = plt.figure() #creation objet figure\n",
    "\n",
    "ax = fig.add_axes([0, 0, 1,1]) #creation de l'objet axe dans figure\n",
    "\n",
    "etiquettes = ['Nourriture','Traitement','Aliments\\npour\\nAnimaux','Autres\\nUtilisations','Pertes','Semences']\n",
    "valeurs = [Q4.iat[0,0],Q4.iat[1,0],Q4.iat[2,0],Q4.iat[3,0],Q4.iat[4,0],Q4.iat[5,0]]\n",
    "couleurs = ['red','darkturquoise','darkturquoise','darkturquoise','darkturquoise','darkturquoise']\n",
    "\n",
    "# Affichage des données\n",
    "ax.bar(etiquettes, valeurs,color=couleurs) #application methode bar\n",
    "\n",
    "# Titre du graphique\n",
    "plt.title(\"Histogramme proportion production de nourriture\") ; "
   ]
  },
  {
   "cell_type": "markdown",
   "id": "8f14707f",
   "metadata": {},
   "source": [
    "### Question 5: les pays où la proportion de personnes sous-alimentées est la plus forte en 2017"
   ]
  },
  {
   "cell_type": "code",
   "execution_count": 10,
   "id": "68b626a7",
   "metadata": {},
   "outputs": [
    {
     "data": {
      "text/html": [
       "<div>\n",
       "<style scoped>\n",
       "    .dataframe tbody tr th:only-of-type {\n",
       "        vertical-align: middle;\n",
       "    }\n",
       "\n",
       "    .dataframe tbody tr th {\n",
       "        vertical-align: top;\n",
       "    }\n",
       "\n",
       "    .dataframe thead th {\n",
       "        text-align: right;\n",
       "    }\n",
       "</style>\n",
       "<table border=\"1\" class=\"dataframe\">\n",
       "  <thead>\n",
       "    <tr style=\"text-align: right;\">\n",
       "      <th></th>\n",
       "      <th>Zone</th>\n",
       "      <th>Année</th>\n",
       "      <th>Population en nbr d habitant</th>\n",
       "      <th>Sous_nutrition en nbr d habitant</th>\n",
       "      <th>Aide</th>\n",
       "      <th>proportion</th>\n",
       "    </tr>\n",
       "  </thead>\n",
       "  <tbody>\n",
       "    <tr>\n",
       "      <th>472</th>\n",
       "      <td>Haïti</td>\n",
       "      <td>2017</td>\n",
       "      <td>10982366.0</td>\n",
       "      <td>5300000.0</td>\n",
       "      <td>NaN</td>\n",
       "      <td>48.259182</td>\n",
       "    </tr>\n",
       "    <tr>\n",
       "      <th>946</th>\n",
       "      <td>République populaire démocratique de Corée</td>\n",
       "      <td>2017</td>\n",
       "      <td>25429825.0</td>\n",
       "      <td>12000000.0</td>\n",
       "      <td>NaN</td>\n",
       "      <td>47.188685</td>\n",
       "    </tr>\n",
       "    <tr>\n",
       "      <th>652</th>\n",
       "      <td>Madagascar</td>\n",
       "      <td>2017</td>\n",
       "      <td>25570512.0</td>\n",
       "      <td>10500000.0</td>\n",
       "      <td>NaN</td>\n",
       "      <td>41.062924</td>\n",
       "    </tr>\n",
       "    <tr>\n",
       "      <th>622</th>\n",
       "      <td>Libéria</td>\n",
       "      <td>2017</td>\n",
       "      <td>4702226.0</td>\n",
       "      <td>1800000.0</td>\n",
       "      <td>NaN</td>\n",
       "      <td>38.279742</td>\n",
       "    </tr>\n",
       "    <tr>\n",
       "      <th>604</th>\n",
       "      <td>Lesotho</td>\n",
       "      <td>2017</td>\n",
       "      <td>2091534.0</td>\n",
       "      <td>800000.0</td>\n",
       "      <td>NaN</td>\n",
       "      <td>38.249438</td>\n",
       "    </tr>\n",
       "    <tr>\n",
       "      <th>1102</th>\n",
       "      <td>Tchad</td>\n",
       "      <td>2017</td>\n",
       "      <td>15016753.0</td>\n",
       "      <td>5700000.0</td>\n",
       "      <td>NaN</td>\n",
       "      <td>37.957606</td>\n",
       "    </tr>\n",
       "    <tr>\n",
       "      <th>970</th>\n",
       "      <td>Rwanda</td>\n",
       "      <td>2017</td>\n",
       "      <td>11980961.0</td>\n",
       "      <td>4200000.0</td>\n",
       "      <td>NaN</td>\n",
       "      <td>35.055619</td>\n",
       "    </tr>\n",
       "    <tr>\n",
       "      <th>730</th>\n",
       "      <td>Mozambique</td>\n",
       "      <td>2017</td>\n",
       "      <td>28649018.0</td>\n",
       "      <td>9400000.0</td>\n",
       "      <td>NaN</td>\n",
       "      <td>32.810898</td>\n",
       "    </tr>\n",
       "    <tr>\n",
       "      <th>1120</th>\n",
       "      <td>Timor-Leste</td>\n",
       "      <td>2017</td>\n",
       "      <td>1243258.0</td>\n",
       "      <td>400000.0</td>\n",
       "      <td>NaN</td>\n",
       "      <td>32.173531</td>\n",
       "    </tr>\n",
       "    <tr>\n",
       "      <th>4</th>\n",
       "      <td>Afghanistan</td>\n",
       "      <td>2017</td>\n",
       "      <td>36296113.0</td>\n",
       "      <td>10500000.0</td>\n",
       "      <td>NaN</td>\n",
       "      <td>28.928718</td>\n",
       "    </tr>\n",
       "  </tbody>\n",
       "</table>\n",
       "</div>"
      ],
      "text/plain": [
       "                                            Zone  Année  \\\n",
       "472                                        Haïti   2017   \n",
       "946   République populaire démocratique de Corée   2017   \n",
       "652                                   Madagascar   2017   \n",
       "622                                      Libéria   2017   \n",
       "604                                      Lesotho   2017   \n",
       "1102                                       Tchad   2017   \n",
       "970                                       Rwanda   2017   \n",
       "730                                   Mozambique   2017   \n",
       "1120                                 Timor-Leste   2017   \n",
       "4                                    Afghanistan   2017   \n",
       "\n",
       "      Population en nbr d habitant  Sous_nutrition en nbr d habitant  Aide  \\\n",
       "472                     10982366.0                         5300000.0   NaN   \n",
       "946                     25429825.0                        12000000.0   NaN   \n",
       "652                     25570512.0                        10500000.0   NaN   \n",
       "622                      4702226.0                         1800000.0   NaN   \n",
       "604                      2091534.0                          800000.0   NaN   \n",
       "1102                    15016753.0                         5700000.0   NaN   \n",
       "970                     11980961.0                         4200000.0   NaN   \n",
       "730                     28649018.0                         9400000.0   NaN   \n",
       "1120                     1243258.0                          400000.0   NaN   \n",
       "4                       36296113.0                        10500000.0   NaN   \n",
       "\n",
       "      proportion  \n",
       "472    48.259182  \n",
       "946    47.188685  \n",
       "652    41.062924  \n",
       "622    38.279742  \n",
       "604    38.249438  \n",
       "1102   37.957606  \n",
       "970    35.055619  \n",
       "730    32.810898  \n",
       "1120   32.173531  \n",
       "4      28.928718  "
      ]
     },
     "execution_count": 10,
     "metadata": {},
     "output_type": "execute_result"
    }
   ],
   "source": [
    "#filtrage de l'année\n",
    "Q5 = pop_nutri_aide.loc[(pop_nutri_aide['Année'] == 2017)].copy(deep=True) \n",
    "\n",
    "#calcul\n",
    "Q5['proportion'] = Q5['Sous_nutrition en nbr d habitant']/Q5['Population en nbr d habitant']*100\n",
    "\n",
    "#affichage des 10 premiers et tri\n",
    "Q5.sort_values(by='proportion',ascending=False).head(10)\n"
   ]
  },
  {
   "cell_type": "markdown",
   "id": "9324b7fb",
   "metadata": {},
   "source": [
    "### Question 6 : ceux qui ont le plus bénéficié d'aide depuis 2013"
   ]
  },
  {
   "cell_type": "code",
   "execution_count": 11,
   "id": "f4c50cce",
   "metadata": {},
   "outputs": [
    {
     "name": "stdout",
     "output_type": "stream",
     "text": [
      "Help on function Q6conv in module fonction.fonction_perso:\n",
      "\n",
      "Q6conv(valeur)\n",
      "    retourne une valeur divisée par 1000\n",
      "    Parameters:\n",
      "        valeur:float\n",
      "        \n",
      "    Returns:\n",
      "        valeur*1000:float\n",
      "\n",
      "les valeurs sont en million de tonnes\n"
     ]
    },
    {
     "data": {
      "text/plain": [
       "Zone\n",
       "République arabe syrienne           1858.943\n",
       "Éthiopie                            1381.294\n",
       "Yémen                               1206.484\n",
       "Soudan du Sud                        695.248\n",
       "Soudan                               669.784\n",
       "Kenya                                552.836\n",
       "Bangladesh                           348.188\n",
       "Somalie                              292.678\n",
       "République démocratique du Congo     288.502\n",
       "Niger                                276.344\n",
       "Name: Aide, dtype: float64"
      ]
     },
     "execution_count": 11,
     "metadata": {},
     "output_type": "execute_result"
    }
   ],
   "source": [
    "# pour info:\n",
    "help(Q6conv)\n",
    "\n",
    "#la somme par pays des aides données depuis 2013\n",
    "Q6 = pop_nutri_aide.groupby(['Zone'])['Aide'].agg('sum')\n",
    "Q6 = Q6.map(Q6conv)\n",
    "\n",
    "#affichage et classement\n",
    "\n",
    "print('les valeurs sont en million de tonnes')\n",
    "Q6.sort_values(ascending=False).head(10) "
   ]
  },
  {
   "cell_type": "markdown",
   "id": "a624d7e9",
   "metadata": {},
   "source": [
    "### question 7: ceux ayant le moins et le plus de disponibilité/habitant\n",
    "#### Affichage des pays ayant le moins de disponibilité par habitant"
   ]
  },
  {
   "cell_type": "code",
   "execution_count": 12,
   "id": "8b30bcee",
   "metadata": {},
   "outputs": [
    {
     "data": {
      "text/plain": [
       "Zone\n",
       "République centrafricaine                     1879.0\n",
       "Zambie                                        1924.0\n",
       "Madagascar                                    2056.0\n",
       "Afghanistan                                   2087.0\n",
       "Haïti                                         2089.0\n",
       "République populaire démocratique de Corée    2093.0\n",
       "Tchad                                         2109.0\n",
       "Zimbabwe                                      2113.0\n",
       "Ouganda                                       2126.0\n",
       "Timor-Leste                                   2129.0\n",
       "Name: Disponibilité alimentaire (Kcal/personne/jour), dtype: float64"
      ]
     },
     "execution_count": 12,
     "metadata": {},
     "output_type": "execute_result"
    }
   ],
   "source": [
    "#affichage des 10 premiers et calculs\n",
    "pop_dispo.groupby(['Zone'])['Disponibilité alimentaire (Kcal/personne/jour)'].agg('sum').sort_values().head(10)\n"
   ]
  },
  {
   "cell_type": "markdown",
   "id": "6835a6c4",
   "metadata": {},
   "source": [
    "#### Affichage des pays ayant le plus de disponibilité par habitant"
   ]
  },
  {
   "cell_type": "code",
   "execution_count": 13,
   "id": "561858d1",
   "metadata": {},
   "outputs": [
    {
     "data": {
      "text/plain": [
       "Zone\n",
       "Allemagne                3503.0\n",
       "Égypte                   3518.0\n",
       "Luxembourg               3540.0\n",
       "Italie                   3578.0\n",
       "Irlande                  3602.0\n",
       "Israël                   3610.0\n",
       "États-Unis d'Amérique    3682.0\n",
       "Turquie                  3708.0\n",
       "Belgique                 3737.0\n",
       "Autriche                 3770.0\n",
       "Name: Disponibilité alimentaire (Kcal/personne/jour), dtype: float64"
      ]
     },
     "execution_count": 13,
     "metadata": {},
     "output_type": "execute_result"
    }
   ],
   "source": [
    "#affichage des 10 derniers et calculs\n",
    "pop_dispo.groupby(['Zone'])['Disponibilité alimentaire (Kcal/personne/jour)'].agg('sum').sort_values().tail(10)"
   ]
  },
  {
   "cell_type": "markdown",
   "id": "c67b0fe2",
   "metadata": {},
   "source": [
    "### Question 8 : utilisations des céréales"
   ]
  },
  {
   "cell_type": "code",
   "execution_count": 14,
   "id": "6ceeb4c8",
   "metadata": {},
   "outputs": [
    {
     "name": "stdout",
     "output_type": "stream",
     "text": [
      "la part de consommation animale est de : 803.962 million de tonne.\n",
      "la part de consommation humaine est de 615.286 million de tonne.\n"
     ]
    },
    {
     "data": {
      "image/png": "[encoded data removed]",
      "text/plain": [
       "<Figure size 432x288 with 1 Axes>"
      ]
     },
     "metadata": {},
     "output_type": "display_data"
    }
   ],
   "source": [
    "#filtrage pour n'avoir que les cereales \n",
    "Q8 = pop_dispo[pop_dispo.Produit.isin(nom_cereale['cereale'])]\n",
    "\n",
    "#consommation animale\n",
    "conso_animaux = Q6conv(Q8['Aliments pour animaux'].sum())\n",
    "\n",
    "#consommation humaine\n",
    "conso_humaine = Q6conv(Q8['Nourriture'].sum())\n",
    "\n",
    "#affichage\n",
    "print(\"la part de consommation animale est de :\",conso_animaux,\"million de tonne.\")\n",
    "print(\"la part de consommation humaine est de\",conso_humaine,\"million de tonne.\")\n",
    "\n",
    "#un autre graph\n",
    "\n",
    "plt.title(label='part de la consommation de céréale entre humain et animaux')\n",
    "plt.bar(1,conso_animaux,color = 'red')\n",
    "plt.bar(2,conso_humaine,color = 'darkturquoise')\n",
    "plt.xticks([1,2],[\"consommation animale\",'consommation humaine']);\n",
    "\n"
   ]
  },
  {
   "cell_type": "markdown",
   "id": "2a54c6e7",
   "metadata": {},
   "source": [
    "### Question 9: Utilisation du manioc en Thaïlande"
   ]
  },
  {
   "cell_type": "code",
   "execution_count": 18,
   "id": "635f78b9",
   "metadata": {},
   "outputs": [
    {
     "name": "stdout",
     "output_type": "stream",
     "text": [
      "La proportion de la population en sous-nutrition de la Thaïlande est de 8.96 %\n"
     ]
    },
    {
     "data": {
      "image/png": "[encoded data removed]",
      "text/plain": [
       "<Figure size 432x288 with 1 Axes>"
      ]
     },
     "metadata": {},
     "output_type": "display_data"
    }
   ],
   "source": [
    "\n",
    "#mini dataframe Manioc Thaïlande\n",
    "thai_manioc_query = pop_dispo.query(\"Zone == 'Thaïlande' & Produit == 'Manioc'\")\n",
    "\n",
    "#mini dataframe sous nutri thailande 2017 repris dataframe filtre de la Question 5\n",
    "thai_sous_nutri_query = Q5.query(\"Zone == 'Thaïlande'\")\n",
    "\n",
    "#proportion de la population en sous nutrition\n",
    "proportion_sousnutri_thailande = round(thai_sous_nutri_query.at[1114,'proportion'],2)\n",
    "\n",
    "#affichage en mode texte de la sous nutrition en thaïlande\n",
    "print(\"La proportion de la population en sous-nutrition de la Thaïlande est de\",proportion_sousnutri_thailande,\"%\")\n",
    "\n",
    "#utilisation du manioc \n",
    "\n",
    "#préparation barplot\n",
    "\n",
    "maniocfig = plt.figure()\n",
    "ax = maniocfig.add_axes([0,0,1,1])\n",
    "\n",
    "valeur = [thai_manioc_query.iat[0,10],thai_manioc_query.at[13620,'Pertes'],thai_manioc_query.at[13620,'Nourriture']]\n",
    "label = ['Exportation','Pertes','Nourriture \\n humaine']\n",
    "couleurs = ['Red','darkturquoise','darkturquoise']\n",
    "\n",
    "ax.bar(label,valeur,color=couleurs)\n",
    "\n",
    "plt.title(label='utilisation du manioc en Thaïlande');"
   ]
  },
  {
   "cell_type": "code",
   "execution_count": null,
   "id": "0bc94029",
   "metadata": {},
   "outputs": [],
   "source": []
  }
 ],
 "metadata": {
  "kernelspec": {
   "display_name": "Python 3 (ipykernel)",
   "language": "python",
   "name": "python3"
  },
  "language_info": {
   "codemirror_mode": {
    "name": "ipython",
    "version": 3
   },
   "file_extension": ".py",
   "mimetype": "text/x-python",
   "name": "python",
   "nbconvert_exporter": "python",
   "pygments_lexer": "ipython3",
   "version": "3.10.5"
  }
 },
 "nbformat": 4,
 "nbformat_minor": 5
}
