{
 "cells": [
  {
   "cell_type": "markdown",
   "id": "08753827",
   "metadata": {},
   "source": [
    "# DATA V2 Projet 4 OpenClassRoom\n"
   ]
  },
  {
   "cell_type": "markdown",
   "id": "738ffb12",
   "metadata": {},
   "source": [
    "## Liens vers notebook pour les analyses de base"
   ]
  },
  {
   "cell_type": "markdown",
   "id": "e6a95c01",
   "metadata": {},
   "source": [
    "[Jupiter recherche donnee base](recherche_donnee_base.ipynb)"
   ]
  },
  {
   "cell_type": "markdown",
   "id": "1b3e2012",
   "metadata": {},
   "source": [
    "## Nettoyage des données\n",
    "### importation des bibliothèques ainsi que des fichiers"
   ]
  },
  {
   "cell_type": "code",
   "execution_count": 1,
   "id": "ee664386",
   "metadata": {},
   "outputs": [],
   "source": [
    "# import de pandas\n",
    "import pandas as pd"
   ]
  },
  {
   "cell_type": "code",
   "execution_count": 2,
   "id": "5eee77f7",
   "metadata": {
    "scrolled": true
   },
   "outputs": [],
   "source": [
    "#fonction utilisée surtout dans les .map\n",
    "#fichier source dans le sous-repertoire fonction, fichier fonction_perso.py\n",
    "from fonction.fonction_perso import *"
   ]
  },
  {
   "cell_type": "code",
   "execution_count": 3,
   "id": "2f56f658",
   "metadata": {},
   "outputs": [],
   "source": [
    "#import des fichiers csv dans le repertoire du notebook\n",
    "population = pd.read_csv('donnee/population.csv')\n",
    "sous_nutrition = pd.read_csv('donnee/sous_nutrition.csv')\n",
    "aide_alimentaire = pd.read_csv('donnee/aide_alimentaire.csv')\n",
    "dispo_alimentaire = pd.read_csv('donnee/dispo_alimentaire.csv')\n",
    "nettoyage_cereale = pd.read_csv('donnee/FAO_obtenir_liste_cereale.csv')"
   ]
  },
  {
   "cell_type": "markdown",
   "id": "d6b9b84a",
   "metadata": {},
   "source": [
    "### Nettoyage des Dataframes "
   ]
  },
  {
   "cell_type": "code",
   "execution_count": 4,
   "id": "2379d110",
   "metadata": {},
   "outputs": [
    {
     "name": "stdout",
     "output_type": "stream",
     "text": [
      "Help on function remplaceinferieurpar0 in module fonction.fonction_perso:\n",
      "\n",
      "remplaceinferieurpar0(valeur)\n",
      "    remplace ce qui commence par < par un 0.0\n",
      "    \n",
      "    Parameters : valeur (void)\n",
      "    \n",
      "    Returns:\n",
      "    void or float : valeur or 0.0\n",
      "\n"
     ]
    }
   ],
   "source": [
    "#fonction perso, pour information:\n",
    "help(remplaceinferieurpar0)\n",
    "\n",
    "#remplacer les < par 0\n",
    "sous_nutrition['Valeur'] = sous_nutrition['Valeur'].map(remplaceinferieurpar0)\n"
   ]
  },
  {
   "cell_type": "code",
   "execution_count": 5,
   "id": "ab3a7509",
   "metadata": {},
   "outputs": [],
   "source": [
    "#passer toutes les valeurs en float\n",
    "sous_nutrition['Valeur'] = sous_nutrition['Valeur'].astype(float)"
   ]
  },
  {
   "cell_type": "code",
   "execution_count": 6,
   "id": "41eb178e",
   "metadata": {},
   "outputs": [
    {
     "name": "stdout",
     "output_type": "stream",
     "text": [
      "retourne une valeur multiplier par 1000\n",
      "    \n",
      "    Parameters:\n",
      "        valeur:float\n",
      "        \n",
      "    Returns:\n",
      "        valeur*1000:float\n",
      "    \n"
     ]
    }
   ],
   "source": [
    "#pour information, fonction perso\n",
    "print(multi1000.__doc__)\n",
    "\n",
    "#sous-nutrition Valeur en million d'habitant, je prefere en millier pour avoir la même echelle que population.cvs\n",
    "sous_nutrition['Valeur']= sous_nutrition['Valeur'].map(multi1000)"
   ]
  },
  {
   "cell_type": "code",
   "execution_count": 7,
   "id": "0ff9a58d",
   "metadata": {},
   "outputs": [],
   "source": [
    "#apres analyse, j'ai remarqué que j'utilisais les données population et sous-nutrition en nombre d'habitant\n",
    "sous_nutrition['Valeur']= sous_nutrition['Valeur'].map(multi1000)\n",
    "population['Valeur']= population['Valeur'].map(multi1000)"
   ]
  },
  {
   "cell_type": "code",
   "execution_count": 8,
   "id": "777f8383",
   "metadata": {},
   "outputs": [
    {
     "name": "stdout",
     "output_type": "stream",
     "text": [
      "Help on function changement_annee in module fonction.fonction_perso:\n",
      "\n",
      "changement_annee(str_annee)\n",
      "    retourne xxxx+1 au lieu de 'xxxx-yyyy'\n",
      "    \n",
      "    Parameters:\n",
      "        str_annee:string\n",
      "        \n",
      "    Returns:\n",
      "        str_annee:string\n",
      "\n"
     ]
    }
   ],
   "source": [
    "#pour information, fonction perso\n",
    "help(changement_annee)\n",
    "\n",
    "#changement d'année de la colonne Année de sous-nutrition\n",
    "sous_nutrition['Année'] = sous_nutrition['Année'].map(changement_annee)\n"
   ]
  },
  {
   "cell_type": "code",
   "execution_count": 9,
   "id": "7d76dccc",
   "metadata": {},
   "outputs": [],
   "source": [
    "#pays beneficiaire: je le change en Zone je prefere avoir le même nom de colonne\n",
    "aide_alimentaire= aide_alimentaire.rename(columns={'Pays bénéficiaire':'Zone'})"
   ]
  },
  {
   "cell_type": "markdown",
   "id": "92ed2008",
   "metadata": {},
   "source": [
    "### Jointure pour créer des DataFrames "
   ]
  },
  {
   "cell_type": "code",
   "execution_count": 10,
   "id": "a8ebd27b",
   "metadata": {},
   "outputs": [],
   "source": [
    "\n",
    "#jointure pour fusionner population et sous-nutrition (question 1,5,6)\n",
    "join_population_sous_nutrition = pd.merge(population,sous_nutrition,on=['Zone','Année'])\n",
    "\n",
    "#changement des noms de colonnes.\n",
    "join_population_sous_nutrition.columns = ('Zone','Année','Population','Sous_nutrition')\n",
    "\n",
    "#ajout d'un dataframe pour ajouter l'aide alimentaire\n",
    "\n",
    "#grouper les pays année en faisant une somme de la qté d'aliments\n",
    "aide_group = aide_alimentaire.groupby(['Zone','Année'])['Valeur'].agg('sum')\n",
    "\n",
    "#joindre l'aide alimentaire et le reste\n",
    "join_population_sous_nutrition = pd.merge(join_population_sous_nutrition,aide_group,on=['Zone','Année'],\n",
    "                                          how='left')\n",
    "\n",
    "#changement des noms de colonnes.\n",
    "join_population_sous_nutrition.columns = ('Zone','Année','Population en nbr d habitant'\n",
    "                                          ,'Sous_nutrition en nbr d habitant'\n",
    "                                          ,'Aide')\n"
   ]
  },
  {
   "cell_type": "code",
   "execution_count": 11,
   "id": "74747430",
   "metadata": {},
   "outputs": [],
   "source": [
    "#jointure population et dispo pour les question 2,3,4,7\n",
    "population2017 = population.loc[(population['Année']==2017)] #filtrage population pour garder que 2017\n",
    "population2017.columns = ('Zone','Année','Population en nbr d habitant')\n",
    "join_pop_dispo = pd.merge(dispo_alimentaire,population2017,on=['Zone'],how='inner')"
   ]
  },
  {
   "cell_type": "code",
   "execution_count": 12,
   "id": "c6d72db4",
   "metadata": {},
   "outputs": [],
   "source": [
    "#création d'un dataframe avec les noms des cereales pour question julien\n",
    "liste_cereale = pd.DataFrame (nettoyage_cereale['Produit'].unique(),columns=['cereale'])\n"
   ]
  },
  {
   "cell_type": "markdown",
   "id": "1afdbdc8",
   "metadata": {},
   "source": [
    "### Création des fichiers CSV pour effectuer les recherches dans le prochain notebook"
   ]
  },
  {
   "cell_type": "code",
   "execution_count": 13,
   "id": "885f2d86",
   "metadata": {},
   "outputs": [],
   "source": [
    "#création de fichier CSV\n",
    "join_population_sous_nutrition.to_csv('donnee_analyse/pop_nutri_aide.csv',index=False)\n",
    "join_pop_dispo.to_csv('donnee_analyse/pop_dispo.csv',index=False)\n",
    "liste_cereale.to_csv('donnee_analyse/cereale.csv')"
   ]
  },
  {
   "cell_type": "markdown",
   "id": "e2c5d223",
   "metadata": {},
   "source": [
    "### Lien pour voir les analyses demandées"
   ]
  },
  {
   "cell_type": "markdown",
   "id": "430feefb",
   "metadata": {},
   "source": [
    "[jupiter Analyse](Analyse.ipynb)"
   ]
  }
 ],
 "metadata": {
  "hide_input": false,
  "kernelspec": {
   "display_name": "Python 3 (ipykernel)",
   "language": "python",
   "name": "python3"
  },
  "language_info": {
   "codemirror_mode": {
    "name": "ipython",
    "version": 3
   },
   "file_extension": ".py",
   "mimetype": "text/x-python",
   "name": "python",
   "nbconvert_exporter": "python",
   "pygments_lexer": "ipython3",
   "version": "3.10.8"
  }
 },
 "nbformat": 4,
 "nbformat_minor": 5
}
