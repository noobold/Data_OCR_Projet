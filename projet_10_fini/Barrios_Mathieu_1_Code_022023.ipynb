{
 "cells": [
  {
   "cell_type": "markdown",
   "id": "fb91e7b1",
   "metadata": {},
   "source": [
    "# OpenClassRoom Projet 10 Data V2 : OMCFM : détection de faux billets\n",
    "## 2 : Analyse des algorythmes\n",
    "\n",
    "Analyse datasets lien vers [notebook](graphe_datasets.ipynb)<br>\n",
    "Autres classifications : [KNN,naive_baye](bonus_autre.ipynb)<br>\n",
    "lien vers l'application : [Application](Application.ipynb)<br>\n"
   ]
  },
  {
   "cell_type": "markdown",
   "id": "190a1e3c",
   "metadata": {},
   "source": [
    "### Sommaire :\n",
    "#### Analyse du fichier [billets.csv](#billets)\n",
    "Traitements des Nan avec [régression lineaire](#reglinearmargin)<br>\n",
    "#### Analyse du fichier [billets_productions.csv](#billets_prod)\n",
    "#### Modèle de Détection\n",
    "[Régression logistique](#reglogis)<br>\n",
    "[Kmeans](#kmeans)<br>\n",
    "#### Application des prédictions\n",
    "avec la [régression logistique](#predic_logis)<br>\n",
    "avec le [Kmeans](#predic_Kmeans)<br>"
   ]
  },
  {
   "cell_type": "code",
   "execution_count": 1,
   "id": "a76e5456",
   "metadata": {},
   "outputs": [],
   "source": [
    "#importation des bibliotheques\n",
    "import pandas as pd\n",
    "\n",
    "#bibliotheque graphique\n",
    "import matplotlib.pyplot as plt\n",
    "import seaborn as sns\n",
    "\n",
    "from joblib import dump, load\n",
    "\n",
    "#import fichiers perso\n",
    "import fonctions.perso_reg_lin as perso_reg\n",
    "import fonctions.perso_classement as perso_classement\n",
    "import fonctions.perso_pandas as perso_pandas\n",
    "    "
   ]
  },
  {
   "cell_type": "code",
   "execution_count": 2,
   "id": "72f06b6e",
   "metadata": {},
   "outputs": [],
   "source": [
    "#donnée à changer au choix\n",
    "sns.set_theme(style='dark')\n",
    "#comment on traite les copy warning. Je veux changer l'original donc None \n",
    "pd.set_option('mode.chained_assignment',None)"
   ]
  },
  {
   "cell_type": "code",
   "execution_count": 3,
   "id": "c1b88413",
   "metadata": {},
   "outputs": [],
   "source": [
    "#import des fichiers\n",
    "data_billets = pd.read_csv(\"donnee_de_base/billets.csv\",sep=\";\")\n",
    "#difference entre les 2 fichiers : separateurs : virgules pour le fichier prod et ; pour la base\n",
    "# la colonne \"id\" sert d'index\n",
    "data_billets_test_exemple = pd.read_csv(\"donnee_de_base/billets_production.csv\",index_col='id')\n"
   ]
  },
  {
   "cell_type": "markdown",
   "id": "f28036f5",
   "metadata": {},
   "source": [
    "Analyse rapide : 1500 billets référencés.<br>\n",
    "Des NaN se trouvent dans la colonne margin_low, ils seront à traiter<br>"
   ]
  },
  {
   "cell_type": "markdown",
   "id": "6918ad42",
   "metadata": {},
   "source": [
    "Vérification des données disponibles :"
   ]
  },
  {
   "cell_type": "markdown",
   "id": "9b77d528",
   "metadata": {},
   "source": [
    "Nombre de billets, nombre de vrais, nombre de faux:"
   ]
  },
  {
   "cell_type": "code",
   "execution_count": 4,
   "id": "754b30f5",
   "metadata": {},
   "outputs": [
    {
     "name": "stdout",
     "output_type": "stream",
     "text": [
      "Dans les données il y a  1000 vrais billets et 500 faux billets\n",
      "il y a donc  33.33 % de faux billets dans le fichier exemple\n",
      "il y a donc  66.67 % de vrais billets dans le fichier exemple\n"
     ]
    }
   ],
   "source": [
    "nb_billet_total =data_billets.shape[0] \n",
    "nb_vrais_billet = data_billets[data_billets['is_genuine']==True].shape[0]\n",
    "nb_faux_billet = data_billets[data_billets['is_genuine']==False].shape[0]\n",
    "print('Dans les données il y a ',nb_vrais_billet,'vrais billets et',nb_faux_billet,'faux billets')\n",
    "print('il y a donc ',round(nb_faux_billet/nb_billet_total*100,2),'% de faux billets dans le fichier exemple')\n",
    "print('il y a donc ',round(nb_vrais_billet/nb_billet_total*100,2),'% de vrais billets dans le fichier exemple')"
   ]
  },
  {
   "cell_type": "markdown",
   "id": "5e90f578",
   "metadata": {},
   "source": [
    "Matrice de corrélation: sur margin_low, on n'observe pas de grosse corrélation entre les variables. Max de corrélation 0.67 sur lenght (is genuine étant un booléen je le classe à part).<br>\n",
    "Rappel : 1 : corrélation parfaite <br>0 : pas de corrélation<br>-1 : corrélation inverse"
   ]
  },
  {
   "cell_type": "markdown",
   "id": "f4545465",
   "metadata": {},
   "source": [
    "<a id=reglinearmargin></a>\n",
    "#### régression linéaire pour retrouver margin_low"
   ]
  },
  {
   "cell_type": "code",
   "execution_count": 5,
   "id": "e1e514ca",
   "metadata": {},
   "outputs": [],
   "source": [
    "#src : https://scikit-learn.org/stable/auto_examples/linear_model/plot_ols.html\n",
    "data_linear = data_billets[~data_billets['margin_low'].isnull()]\n",
    "\n",
    "data_linear.loc[:,'is_genuine'] = data_linear['is_genuine'].astype(float)"
   ]
  },
  {
   "cell_type": "code",
   "execution_count": 6,
   "id": "47e9b65b",
   "metadata": {},
   "outputs": [
    {
     "name": "stdout",
     "output_type": "stream",
     "text": [
      "<class 'pandas.core.frame.DataFrame'>\n",
      "Int64Index: 1463 entries, 0 to 1499\n",
      "Data columns (total 7 columns):\n",
      " #   Column        Non-Null Count  Dtype  \n",
      "---  ------        --------------  -----  \n",
      " 0   is_genuine    1463 non-null   float64\n",
      " 1   diagonal      1463 non-null   float64\n",
      " 2   height_left   1463 non-null   float64\n",
      " 3   height_right  1463 non-null   float64\n",
      " 4   margin_low    1463 non-null   float64\n",
      " 5   margin_up     1463 non-null   float64\n",
      " 6   length        1463 non-null   float64\n",
      "dtypes: float64(7)\n",
      "memory usage: 91.4 KB\n"
     ]
    }
   ],
   "source": [
    "data_linear.info()"
   ]
  },
  {
   "cell_type": "code",
   "execution_count": 7,
   "id": "49595b90",
   "metadata": {
    "scrolled": false
   },
   "outputs": [
    {
     "name": "stdout",
     "output_type": "stream",
     "text": [
      "intercept (const dans statmodels) 60.29860050536974\n",
      "Coefficients: \n",
      " [-0.49535341]\n",
      "Erreur des moindres carrés train : 0.24\n",
      "Coefficient de determination train : 0.43\n",
      "erreur max train:  2.137264358995428\n",
      "score train : 0.43407114289853244\n",
      "score test : 0.4720533533553434\n"
     ]
    },
    {
     "data": {
      "image/png": "[encoded data removed]",
      "text/plain": [
       "<Figure size 640x480 with 1 Axes>"
      ]
     },
     "metadata": {},
     "output_type": "display_data"
    },
    {
     "name": "stdout",
     "output_type": "stream",
     "text": [
      "\n",
      " test de Normalité des erreurs\n",
      "\n",
      "\n",
      "Interprétation du test:\n",
      "H0 : La série suit une loi Normale\n",
      "H1 : La série ne suit pas une loi Normale\n",
      "Étant donné que la p-values est inférieure au niveau de signification alpha = 0.05 ,\n",
      "on doit rejeter l'hypothèse nulle H0 et retenir l'hypothèse H1.\n",
      "Le risque de rejeter l'hypothèse nulle H0 alors qu'elle est vraie est inferieur à  0.0 %\n",
      "\n",
      "\n",
      "                            OLS Regression Results                            \n",
      "==============================================================================\n",
      "Dep. Variable:             margin_low   R-squared:                       0.434\n",
      "Model:                            OLS   Adj. R-squared:                  0.434\n",
      "Method:                 Least Squares   F-statistic:                     839.9\n",
      "Date:                Wed, 22 Feb 2023   Prob (F-statistic):          1.58e-137\n",
      "Time:                        15:11:25   Log-Likelihood:                -780.54\n",
      "No. Observations:                1097   AIC:                             1565.\n",
      "Df Residuals:                    1095   BIC:                             1575.\n",
      "Df Model:                           1                                         \n",
      "Covariance Type:            nonrobust                                         \n",
      "==============================================================================\n",
      "                 coef    std err          t      P>|t|      [0.025      0.975]\n",
      "------------------------------------------------------------------------------\n",
      "const         60.2986      1.926     31.307      0.000      56.519      64.078\n",
      "length        -0.4954      0.017    -28.981      0.000      -0.529      -0.462\n",
      "==============================================================================\n",
      "Omnibus:                       67.128   Durbin-Watson:                   2.026\n",
      "Prob(Omnibus):                  0.000   Jarque-Bera (JB):               91.326\n",
      "Skew:                           0.531   Prob(JB):                     1.48e-20\n",
      "Kurtosis:                       3.932   Cond. No.                     1.46e+04\n",
      "==============================================================================\n",
      "\n",
      "Notes:\n",
      "[1] Standard Errors assume that the covariance matrix of the errors is correctly specified.\n",
      "[2] The condition number is large, 1.46e+04. This might indicate that there are\n",
      "strong multicollinearity or other numerical problems.\n"
     ]
    },
    {
     "data": {
      "text/html": [
       "<style>#sk-container-id-1 {color: black;background-color: white;}#sk-container-id-1 pre{padding: 0;}#sk-container-id-1 div.sk-toggleable {background-color: white;}#sk-container-id-1 label.sk-toggleable__label {cursor: pointer;display: block;width: 100%;margin-bottom: 0;padding: 0.3em;box-sizing: border-box;text-align: center;}#sk-container-id-1 label.sk-toggleable__label-arrow:before {content: \"▸\";float: left;margin-right: 0.25em;color: #696969;}#sk-container-id-1 label.sk-toggleable__label-arrow:hover:before {color: black;}#sk-container-id-1 div.sk-estimator:hover label.sk-toggleable__label-arrow:before {color: black;}#sk-container-id-1 div.sk-toggleable__content {max-height: 0;max-width: 0;overflow: hidden;text-align: left;background-color: #f0f8ff;}#sk-container-id-1 div.sk-toggleable__content pre {margin: 0.2em;color: black;border-radius: 0.25em;background-color: #f0f8ff;}#sk-container-id-1 input.sk-toggleable__control:checked~div.sk-toggleable__content {max-height: 200px;max-width: 100%;overflow: auto;}#sk-container-id-1 input.sk-toggleable__control:checked~label.sk-toggleable__label-arrow:before {content: \"▾\";}#sk-container-id-1 div.sk-estimator input.sk-toggleable__control:checked~label.sk-toggleable__label {background-color: #d4ebff;}#sk-container-id-1 div.sk-label input.sk-toggleable__control:checked~label.sk-toggleable__label {background-color: #d4ebff;}#sk-container-id-1 input.sk-hidden--visually {border: 0;clip: rect(1px 1px 1px 1px);clip: rect(1px, 1px, 1px, 1px);height: 1px;margin: -1px;overflow: hidden;padding: 0;position: absolute;width: 1px;}#sk-container-id-1 div.sk-estimator {font-family: monospace;background-color: #f0f8ff;border: 1px dotted black;border-radius: 0.25em;box-sizing: border-box;margin-bottom: 0.5em;}#sk-container-id-1 div.sk-estimator:hover {background-color: #d4ebff;}#sk-container-id-1 div.sk-parallel-item::after {content: \"\";width: 100%;border-bottom: 1px solid gray;flex-grow: 1;}#sk-container-id-1 div.sk-label:hover label.sk-toggleable__label {background-color: #d4ebff;}#sk-container-id-1 div.sk-serial::before {content: \"\";position: absolute;border-left: 1px solid gray;box-sizing: border-box;top: 0;bottom: 0;left: 50%;z-index: 0;}#sk-container-id-1 div.sk-serial {display: flex;flex-direction: column;align-items: center;background-color: white;padding-right: 0.2em;padding-left: 0.2em;position: relative;}#sk-container-id-1 div.sk-item {position: relative;z-index: 1;}#sk-container-id-1 div.sk-parallel {display: flex;align-items: stretch;justify-content: center;background-color: white;position: relative;}#sk-container-id-1 div.sk-item::before, #sk-container-id-1 div.sk-parallel-item::before {content: \"\";position: absolute;border-left: 1px solid gray;box-sizing: border-box;top: 0;bottom: 0;left: 50%;z-index: -1;}#sk-container-id-1 div.sk-parallel-item {display: flex;flex-direction: column;z-index: 1;position: relative;background-color: white;}#sk-container-id-1 div.sk-parallel-item:first-child::after {align-self: flex-end;width: 50%;}#sk-container-id-1 div.sk-parallel-item:last-child::after {align-self: flex-start;width: 50%;}#sk-container-id-1 div.sk-parallel-item:only-child::after {width: 0;}#sk-container-id-1 div.sk-dashed-wrapped {border: 1px dashed gray;margin: 0 0.4em 0.5em 0.4em;box-sizing: border-box;padding-bottom: 0.4em;background-color: white;}#sk-container-id-1 div.sk-label label {font-family: monospace;font-weight: bold;display: inline-block;line-height: 1.2em;}#sk-container-id-1 div.sk-label-container {text-align: center;}#sk-container-id-1 div.sk-container {/* jupyter's `normalize.less` sets `[hidden] { display: none; }` but bootstrap.min.css set `[hidden] { display: none !important; }` so we also need the `!important` here to be able to override the default hidden behavior on the sphinx rendered scikit-learn.org. See: https://github.com/scikit-learn/scikit-learn/issues/21755 */display: inline-block !important;position: relative;}#sk-container-id-1 div.sk-text-repr-fallback {display: none;}</style><div id=\"sk-container-id-1\" class=\"sk-top-container\"><div class=\"sk-text-repr-fallback\"><pre>LinearRegression()</pre><b>In a Jupyter environment, please rerun this cell to show the HTML representation or trust the notebook. <br />On GitHub, the HTML representation is unable to render, please try loading this page with nbviewer.org.</b></div><div class=\"sk-container\" hidden><div class=\"sk-item\"><div class=\"sk-estimator sk-toggleable\"><input class=\"sk-toggleable__control sk-hidden--visually\" id=\"sk-estimator-id-1\" type=\"checkbox\" checked><label for=\"sk-estimator-id-1\" class=\"sk-toggleable__label sk-toggleable__label-arrow\">LinearRegression</label><div class=\"sk-toggleable__content\"><pre>LinearRegression()</pre></div></div></div></div></div>"
      ],
      "text/plain": [
       "LinearRegression()"
      ]
     },
     "execution_count": 7,
     "metadata": {},
     "output_type": "execute_result"
    }
   ],
   "source": [
    "perso_reg.auto_regression_lineaire(data_linear[['length','margin_low']],'margin_low',intercept=True)"
   ]
  },
  {
   "cell_type": "markdown",
   "id": "6167a8b8",
   "metadata": {},
   "source": [
    "Régression linéaire simple :<br>\n",
    "Coefficient de détermination très bas. On peut essayer d'avoir mieux<br>\n",
    "Et d'autres soucis."
   ]
  },
  {
   "cell_type": "code",
   "execution_count": 8,
   "id": "546aba93",
   "metadata": {},
   "outputs": [],
   "source": [
    "liste_colonne = ['is_genuine',\n",
    "                 'diagonal',\n",
    "                 'height_left',\n",
    "                 'height_right',\n",
    "                 'margin_low',\n",
    "                 'margin_up',\n",
    "                 'length'\n",
    "                ]"
   ]
  },
  {
   "cell_type": "code",
   "execution_count": 9,
   "id": "e4785e6e",
   "metadata": {
    "scrolled": false
   },
   "outputs": [
    {
     "name": "stdout",
     "output_type": "stream",
     "text": [
      "intercept (const dans statmodels) -3.245772764801453\n",
      "Coefficients: \n",
      " [-1.213588    0.01031642  0.00276712  0.04723002 -0.25875826  0.02123901]\n",
      "Erreur des moindres carrés train : 0.17\n",
      "Coefficient de determination train : 0.62\n",
      "erreur max train:  1.474356447418458\n",
      "score train : 0.6236750185782756\n",
      "score test : 0.5897599623896639\n"
     ]
    },
    {
     "data": {
      "image/png": "[encoded data removed]",
      "text/plain": [
       "<Figure size 640x480 with 1 Axes>"
      ]
     },
     "metadata": {},
     "output_type": "display_data"
    },
    {
     "name": "stdout",
     "output_type": "stream",
     "text": [
      "\n",
      " test de Normalité des erreurs\n",
      "\n",
      "\n",
      "Interprétation du test:\n",
      "H0 : La série suit une loi Normale\n",
      "H1 : La série ne suit pas une loi Normale\n",
      "Étant donné que la p-values est inférieure au niveau de signification alpha = 0.05 ,\n",
      "on doit rejeter l'hypothèse nulle H0 et retenir l'hypothèse H1.\n",
      "Le risque de rejeter l'hypothèse nulle H0 alors qu'elle est vraie est inferieur à  0.01 %\n",
      "\n",
      "\n",
      "                            OLS Regression Results                            \n",
      "==============================================================================\n",
      "Dep. Variable:             margin_low   R-squared:                       0.624\n",
      "Model:                            OLS   Adj. R-squared:                  0.622\n",
      "Method:                 Least Squares   F-statistic:                     301.1\n",
      "Date:                Wed, 22 Feb 2023   Prob (F-statistic):          2.80e-227\n",
      "Time:                        15:11:25   Log-Likelihood:                -580.39\n",
      "No. Observations:                1097   AIC:                             1175.\n",
      "Df Residuals:                    1090   BIC:                             1210.\n",
      "Df Model:                           6                                         \n",
      "Covariance Type:            nonrobust                                         \n",
      "================================================================================\n",
      "                   coef    std err          t      P>|t|      [0.025      0.975]\n",
      "--------------------------------------------------------------------------------\n",
      "const           -3.2458      9.769     -0.332      0.740     -22.415      15.923\n",
      "is_genuine      -1.2136      0.057    -21.200      0.000      -1.326      -1.101\n",
      "diagonal         0.0103      0.041      0.249      0.804      -0.071       0.092\n",
      "height_left      0.0028      0.044      0.063      0.950      -0.084       0.090\n",
      "height_right     0.0472      0.045      1.057      0.291      -0.040       0.135\n",
      "margin_up       -0.2588      0.068     -3.806      0.000      -0.392      -0.125\n",
      "length           0.0212      0.027      0.784      0.433      -0.032       0.074\n",
      "==============================================================================\n",
      "Omnibus:                       15.370   Durbin-Watson:                   2.004\n",
      "Prob(Omnibus):                  0.000   Jarque-Bera (JB):               26.022\n",
      "Skew:                          -0.007   Prob(JB):                     2.24e-06\n",
      "Kurtosis:                       3.754   Cond. No.                     1.99e+05\n",
      "==============================================================================\n",
      "\n",
      "Notes:\n",
      "[1] Standard Errors assume that the covariance matrix of the errors is correctly specified.\n",
      "[2] The condition number is large, 1.99e+05. This might indicate that there are\n",
      "strong multicollinearity or other numerical problems.\n"
     ]
    }
   ],
   "source": [
    "regr = perso_reg.auto_regression_lineaire(data_linear[liste_colonne],'margin_low',intercept=True)"
   ]
  },
  {
   "cell_type": "markdown",
   "id": "38e6b8ff",
   "metadata": {},
   "source": [
    "régression linéaire multiple:<br>\n",
    "coefficient de détermination mieux<br>\n",
    "erreur des moindres carrés plus basse (donc meilleure regression que précédemment)<br>\n",
    "Des données en trop car non significatives sont présentes.<br>"
   ]
  },
  {
   "cell_type": "code",
   "execution_count": 10,
   "id": "a5c740a3",
   "metadata": {},
   "outputs": [],
   "source": [
    "#après avoir retiré une à une les colonnes inutiles\n",
    "liste_colonne = ['is_genuine',\n",
    "                 #'diagonal',\n",
    "                 #'height_left',\n",
    "                 #'height_right',\n",
    "                 'margin_low',\n",
    "                 'margin_up',\n",
    "                 #'length'\n",
    "                ]"
   ]
  },
  {
   "cell_type": "code",
   "execution_count": 11,
   "id": "3f092cef",
   "metadata": {},
   "outputs": [
    {
     "name": "stdout",
     "output_type": "stream",
     "text": [
      "intercept (const dans statmodels) 5.9959161450569685\n",
      "Coefficients: \n",
      " [-1.1552154  -0.23786822]\n",
      "Erreur des moindres carrés train : 0.17\n",
      "Coefficient de determination train : 0.61\n",
      "erreur max train:  1.484291622539219\n",
      "score train : 0.607024034375945\n",
      "score test : 0.6426382405704203\n"
     ]
    },
    {
     "data": {
      "image/png": "[encoded data removed]",
      "text/plain": [
       "<Figure size 640x480 with 1 Axes>"
      ]
     },
     "metadata": {},
     "output_type": "display_data"
    },
    {
     "name": "stdout",
     "output_type": "stream",
     "text": [
      "\n",
      " test de Normalité des erreurs\n",
      "\n",
      "\n",
      "Interprétation du test:\n",
      "H0 : La série suit une loi Normale\n",
      "H1 : La série ne suit pas une loi Normale\n",
      "Étant donné que la p-values est inférieure au niveau de signification alpha = 0.05 ,\n",
      "on doit rejeter l'hypothèse nulle H0 et retenir l'hypothèse H1.\n",
      "Le risque de rejeter l'hypothèse nulle H0 alors qu'elle est vraie est inferieur à  0.11 %\n",
      "\n",
      "\n",
      "                            OLS Regression Results                            \n",
      "==============================================================================\n",
      "Dep. Variable:             margin_low   R-squared:                       0.607\n",
      "Model:                            OLS   Adj. R-squared:                  0.606\n",
      "Method:                 Least Squares   F-statistic:                     844.9\n",
      "Date:                Wed, 22 Feb 2023   Prob (F-statistic):          1.31e-222\n",
      "Time:                        15:11:25   Log-Likelihood:                -587.69\n",
      "No. Observations:                1097   AIC:                             1181.\n",
      "Df Residuals:                    1094   BIC:                             1196.\n",
      "Df Model:                           2                                         \n",
      "Covariance Type:            nonrobust                                         \n",
      "==============================================================================\n",
      "                 coef    std err          t      P>|t|      [0.025      0.975]\n",
      "------------------------------------------------------------------------------\n",
      "const          5.9959      0.229     26.166      0.000       5.546       6.446\n",
      "is_genuine    -1.1552      0.034    -34.205      0.000      -1.221      -1.089\n",
      "margin_up     -0.2379      0.068     -3.500      0.000      -0.371      -0.105\n",
      "==============================================================================\n",
      "Omnibus:                       11.026   Durbin-Watson:                   2.081\n",
      "Prob(Omnibus):                  0.004   Jarque-Bera (JB):               16.564\n",
      "Skew:                          -0.025   Prob(JB):                     0.000253\n",
      "Kurtosis:                       3.600   Cond. No.                         64.8\n",
      "==============================================================================\n",
      "\n",
      "Notes:\n",
      "[1] Standard Errors assume that the covariance matrix of the errors is correctly specified.\n"
     ]
    }
   ],
   "source": [
    "regr = perso_reg.auto_regression_lineaire(data_linear[liste_colonne],'margin_low',intercept=True)"
   ]
  },
  {
   "cell_type": "markdown",
   "id": "08cfe892",
   "metadata": {},
   "source": [
    "régression multiple nettoyée :<br>\n",
    "erreur des moindre carrés identique, R² identique<br>\n",
    "La distribution des erreurs est testée par shapiro<br>\n",
    "La régression est non valide mais, faute de mieux on l'applique.<br>\n",
    "<br>\n",
    "On va faire les classements avec un data avec regression linéaire et sans.<br>\n",
    "On choisira le meilleur des classements<br>"
   ]
  },
  {
   "cell_type": "code",
   "execution_count": 12,
   "id": "dfca16f5",
   "metadata": {},
   "outputs": [
    {
     "data": {
      "image/png": "[encoded data removed]",
      "text/plain": [
       "<Figure size 601.097x500 with 1 Axes>"
      ]
     },
     "metadata": {},
     "output_type": "display_data"
    }
   ],
   "source": [
    "#distribution margin_low\n",
    "sns.displot(data_billets, x=\"margin_low\",hue='is_genuine', kind=\"kde\")\n",
    "\n",
    "plt.show()"
   ]
  },
  {
   "cell_type": "code",
   "execution_count": 13,
   "id": "1874ea60",
   "metadata": {},
   "outputs": [],
   "source": [
    "#application sur le dataset:\n",
    "\n",
    "#creation du dataset billets nan\n",
    "data_billets_nan= data_billets.loc[data_billets['margin_low'].isnull()]\n",
    "#enlever la colonne avec des NAN\n",
    "data_billets_nan.pop('margin_low')\n",
    "\n",
    "#appliquer la regression lineaire sur le dataset\n",
    "#enlever margin low du nom de colonne\n",
    "liste_colonne.remove('margin_low')\n",
    "\n",
    "data_billets.loc[\n",
    "    data_billets['margin_low'].isnull()\n",
    "    ,['margin_low']] = regr.predict(data_billets_nan[liste_colonne])"
   ]
  },
  {
   "cell_type": "code",
   "execution_count": 14,
   "id": "5b0e0fe3",
   "metadata": {},
   "outputs": [
    {
     "data": {
      "image/png": "[encoded data removed]",
      "text/plain": [
       "<Figure size 601.097x500 with 1 Axes>"
      ]
     },
     "metadata": {},
     "output_type": "display_data"
    }
   ],
   "source": [
    "#distribution margin_low\n",
    "sns.displot(data_billets, x=\"margin_low\",hue='is_genuine', kind=\"kde\")\n",
    "plt.show()"
   ]
  },
  {
   "cell_type": "code",
   "execution_count": 15,
   "id": "1856c97e",
   "metadata": {},
   "outputs": [
    {
     "data": {
      "text/html": [
       "<div>\n",
       "<style scoped>\n",
       "    .dataframe tbody tr th:only-of-type {\n",
       "        vertical-align: middle;\n",
       "    }\n",
       "\n",
       "    .dataframe tbody tr th {\n",
       "        vertical-align: top;\n",
       "    }\n",
       "\n",
       "    .dataframe thead th {\n",
       "        text-align: right;\n",
       "    }\n",
       "</style>\n",
       "<table border=\"1\" class=\"dataframe\">\n",
       "  <thead>\n",
       "    <tr style=\"text-align: right;\">\n",
       "      <th></th>\n",
       "      <th>is_genuine</th>\n",
       "      <th>diagonal</th>\n",
       "      <th>height_left</th>\n",
       "      <th>height_right</th>\n",
       "      <th>margin_low</th>\n",
       "      <th>margin_up</th>\n",
       "      <th>length</th>\n",
       "    </tr>\n",
       "  </thead>\n",
       "  <tbody>\n",
       "  </tbody>\n",
       "</table>\n",
       "</div>"
      ],
      "text/plain": [
       "Empty DataFrame\n",
       "Columns: [is_genuine, diagonal, height_left, height_right, margin_low, margin_up, length]\n",
       "Index: []"
      ]
     },
     "execution_count": 15,
     "metadata": {},
     "output_type": "execute_result"
    }
   ],
   "source": [
    "data_billets[data_billets.isnull().any(axis=1)]"
   ]
  },
  {
   "cell_type": "code",
   "execution_count": 16,
   "id": "91adc5d3",
   "metadata": {},
   "outputs": [
    {
     "name": "stdout",
     "output_type": "stream",
     "text": [
      "<class 'pandas.core.frame.DataFrame'>\n",
      "RangeIndex: 1500 entries, 0 to 1499\n",
      "Data columns (total 7 columns):\n",
      " #   Column        Non-Null Count  Dtype  \n",
      "---  ------        --------------  -----  \n",
      " 0   is_genuine    1500 non-null   bool   \n",
      " 1   diagonal      1500 non-null   float64\n",
      " 2   height_left   1500 non-null   float64\n",
      " 3   height_right  1500 non-null   float64\n",
      " 4   margin_low    1500 non-null   float64\n",
      " 5   margin_up     1500 non-null   float64\n",
      " 6   length        1500 non-null   float64\n",
      "dtypes: bool(1), float64(6)\n",
      "memory usage: 71.9 KB\n"
     ]
    }
   ],
   "source": [
    "data_billets.info()"
   ]
  },
  {
   "cell_type": "code",
   "execution_count": 17,
   "id": "03a18cf7",
   "metadata": {},
   "outputs": [],
   "source": [
    "#export des billets avec regression pour utilisation dans un autre dataframe\n",
    "data_billets.to_csv(\"donnee_de_base/billets_bonux.csv\",index=False)"
   ]
  },
  {
   "cell_type": "code",
   "execution_count": 18,
   "id": "8b2622ff",
   "metadata": {},
   "outputs": [],
   "source": [
    "#faire 2 dataframes 1 data_billet_reg avec regulation un autre avec les valeurs enlevées\n",
    "data_billets_reg = pd.read_csv(\"donnee_de_base/billets_bonux.csv\")\n",
    "data_billets = pd.read_csv(\"donnee_de_base/billets.csv\",sep=\";\")\n",
    "data_billets = data_billets.dropna()\n"
   ]
  },
  {
   "cell_type": "markdown",
   "id": "d5a94b2c",
   "metadata": {},
   "source": [
    "## Détection des faux billets\n",
    "<a id=reglogis></a>\n",
    "### Régression logistique pour trouver les faux billets avec le dataset régression linéaire"
   ]
  },
  {
   "cell_type": "markdown",
   "id": "ff75c2b5",
   "metadata": {},
   "source": [
    "[precision et detail de precision et recall](https://kobia.fr/classification-metrics-precision-recall/)<br>\n",
    "[f1-score](https://kobia.fr/classification-metrics-f1-score/)<br>"
   ]
  },
  {
   "cell_type": "code",
   "execution_count": 19,
   "id": "dbe2c0c1",
   "metadata": {},
   "outputs": [],
   "source": [
    "liste_colonne = ['is_genuine',\n",
    "                 #'diagonal',\n",
    "                 #'height_left',\n",
    "                 #'height_right',\n",
    "                 'margin_low',\n",
    "                 'margin_up',\n",
    "                 'length'\n",
    "                ]\n",
    "#enregistrement de la liste pour les autres notebooks\n",
    "perso_pandas.ecris_liste(liste = liste_colonne, chemin_fichier = 'model/liste.liste')"
   ]
  },
  {
   "cell_type": "code",
   "execution_count": 20,
   "id": "a9a4a47c",
   "metadata": {
    "scrolled": false
   },
   "outputs": [
    {
     "name": "stdout",
     "output_type": "stream",
     "text": [
      "rapport sur données d'entrainement :\n",
      "\n",
      "\n",
      "              precision    recall  f1-score   support\n",
      "\n",
      "       False       0.99      0.98      0.99       380\n",
      "        True       0.99      1.00      0.99       745\n",
      "\n",
      "    accuracy                           0.99      1125\n",
      "   macro avg       0.99      0.99      0.99      1125\n",
      "weighted avg       0.99      0.99      0.99      1125\n",
      "\n",
      "\n",
      "\n",
      "rapport sur données de test:\n",
      "\n",
      "\n",
      "              precision    recall  f1-score   support\n",
      "\n",
      "       False       1.00      0.98      0.99       120\n",
      "        True       0.99      1.00      1.00       255\n",
      "\n",
      "    accuracy                           0.99       375\n",
      "   macro avg       1.00      0.99      0.99       375\n",
      "weighted avg       0.99      0.99      0.99       375\n",
      "\n"
     ]
    },
    {
     "data": {
      "image/png": "[encoded data removed]",
      "text/plain": [
       "<Figure size 640x480 with 2 Axes>"
      ]
     },
     "metadata": {},
     "output_type": "display_data"
    },
    {
     "name": "stdout",
     "output_type": "stream",
     "text": [
      "rapport de classification jeu de test\n",
      "              precision    recall  f1-score   support\n",
      "\n",
      "       False       0.99      0.98      0.99       500\n",
      "        True       0.99      1.00      0.99      1000\n",
      "\n",
      "    accuracy                           0.99      1500\n",
      "   macro avg       0.99      0.99      0.99      1500\n",
      "weighted avg       0.99      0.99      0.99      1500\n",
      "\n"
     ]
    },
    {
     "data": {
      "text/plain": [
       "['model/reg_log_reg.modele']"
      ]
     },
     "execution_count": 20,
     "metadata": {},
     "output_type": "execute_result"
    }
   ],
   "source": [
    "model_reg_logis_reg = perso_classement.regression_logistique(data_billets_reg[liste_colonne],'is_genuine')\n",
    "#sauvegarde du modele\n",
    "dump(model_reg_logis_reg, 'model/reg_log_reg.modele') "
   ]
  },
  {
   "cell_type": "markdown",
   "id": "ad38d3da",
   "metadata": {},
   "source": [
    "### Régression logistique pour trouver les faux billets avec le dataset sans régression linéaire"
   ]
  },
  {
   "cell_type": "code",
   "execution_count": 21,
   "id": "bdcd4051",
   "metadata": {},
   "outputs": [
    {
     "name": "stdout",
     "output_type": "stream",
     "text": [
      "rapport sur données d'entrainement :\n",
      "\n",
      "\n",
      "              precision    recall  f1-score   support\n",
      "\n",
      "       False       1.00      0.98      0.99       357\n",
      "        True       0.99      1.00      0.99       740\n",
      "\n",
      "    accuracy                           0.99      1097\n",
      "   macro avg       0.99      0.99      0.99      1097\n",
      "weighted avg       0.99      0.99      0.99      1097\n",
      "\n",
      "\n",
      "\n",
      "rapport sur données de test:\n",
      "\n",
      "\n",
      "              precision    recall  f1-score   support\n",
      "\n",
      "       False       0.99      0.98      0.98       135\n",
      "        True       0.99      0.99      0.99       231\n",
      "\n",
      "    accuracy                           0.99       366\n",
      "   macro avg       0.99      0.98      0.99       366\n",
      "weighted avg       0.99      0.99      0.99       366\n",
      "\n"
     ]
    },
    {
     "data": {
      "image/png": "[encoded data removed]",
      "text/plain": [
       "<Figure size 640x480 with 2 Axes>"
      ]
     },
     "metadata": {},
     "output_type": "display_data"
    },
    {
     "name": "stdout",
     "output_type": "stream",
     "text": [
      "rapport de classification jeu de test\n",
      "              precision    recall  f1-score   support\n",
      "\n",
      "       False       0.99      0.98      0.99       492\n",
      "        True       0.99      1.00      0.99       971\n",
      "\n",
      "    accuracy                           0.99      1463\n",
      "   macro avg       0.99      0.99      0.99      1463\n",
      "weighted avg       0.99      0.99      0.99      1463\n",
      "\n"
     ]
    },
    {
     "data": {
      "text/plain": [
       "['model/reg_log.modele']"
      ]
     },
     "execution_count": 21,
     "metadata": {},
     "output_type": "execute_result"
    }
   ],
   "source": [
    "model_reg_logis = perso_classement.regression_logistique(data_billets[liste_colonne],'is_genuine')\n",
    "#sauvegarde du modele\n",
    "dump(model_reg_logis, 'model/reg_log.modele') "
   ]
  },
  {
   "cell_type": "markdown",
   "id": "cd9620b9",
   "metadata": {},
   "source": [
    "Avec ou sans la régression, la différence n'est pas flagrante.<br>"
   ]
  },
  {
   "cell_type": "markdown",
   "id": "21842c45",
   "metadata": {},
   "source": [
    "<a id=kmean></a>\n",
    "### Model Kmeans\n"
   ]
  },
  {
   "cell_type": "code",
   "execution_count": 22,
   "id": "a6648d58",
   "metadata": {},
   "outputs": [
    {
     "name": "stdout",
     "output_type": "stream",
     "text": [
      "rapport sur données d'entrainement :\n",
      "\n",
      "\n",
      "              precision    recall  f1-score   support\n",
      "\n",
      "       False       0.99      0.95      0.97       380\n",
      "        True       0.97      1.00      0.99       745\n",
      "\n",
      "    accuracy                           0.98      1125\n",
      "   macro avg       0.98      0.97      0.98      1125\n",
      "weighted avg       0.98      0.98      0.98      1125\n",
      "\n",
      "\n",
      "\n",
      "rapport sur données de test:\n",
      "\n",
      "\n",
      "              precision    recall  f1-score   support\n",
      "\n",
      "       False       0.99      0.93      0.96       120\n",
      "        True       0.97      1.00      0.98       255\n",
      "\n",
      "    accuracy                           0.97       375\n",
      "   macro avg       0.98      0.96      0.97       375\n",
      "weighted avg       0.97      0.97      0.97       375\n",
      "\n"
     ]
    },
    {
     "data": {
      "image/png": "[encoded data removed]",
      "text/plain": [
       "<Figure size 640x480 with 2 Axes>"
      ]
     },
     "metadata": {},
     "output_type": "display_data"
    },
    {
     "name": "stdout",
     "output_type": "stream",
     "text": [
      "rapport sur données totales\n",
      "              precision    recall  f1-score   support\n",
      "\n",
      "       False       0.99      0.94      0.97       500\n",
      "        True       0.97      1.00      0.98      1000\n",
      "\n",
      "    accuracy                           0.98      1500\n",
      "   macro avg       0.98      0.97      0.98      1500\n",
      "weighted avg       0.98      0.98      0.98      1500\n",
      "\n"
     ]
    },
    {
     "data": {
      "text/plain": [
       "['model/KMeans_reg.modele']"
      ]
     },
     "execution_count": 22,
     "metadata": {},
     "output_type": "execute_result"
    }
   ],
   "source": [
    "model_KMeans_reg = perso_classement.kmeans_bool(data_billets_reg[liste_colonne],'is_genuine')\n",
    "#sauvegarde du modele\n",
    "dump(model_KMeans_reg, 'model/KMeans_reg.modele')"
   ]
  },
  {
   "cell_type": "code",
   "execution_count": 23,
   "id": "c1ccef53",
   "metadata": {},
   "outputs": [
    {
     "name": "stdout",
     "output_type": "stream",
     "text": [
      "rapport sur données d'entrainement :\n",
      "\n",
      "\n",
      "              precision    recall  f1-score   support\n",
      "\n",
      "       False       0.99      0.95      0.97       387\n",
      "        True       0.97      1.00      0.98       710\n",
      "\n",
      "    accuracy                           0.98      1097\n",
      "   macro avg       0.98      0.97      0.98      1097\n",
      "weighted avg       0.98      0.98      0.98      1097\n",
      "\n",
      "\n",
      "\n",
      "rapport sur données de test:\n",
      "\n",
      "\n",
      "              precision    recall  f1-score   support\n",
      "\n",
      "       False       1.00      0.94      0.97       105\n",
      "        True       0.98      1.00      0.99       261\n",
      "\n",
      "    accuracy                           0.98       366\n",
      "   macro avg       0.99      0.97      0.98       366\n",
      "weighted avg       0.98      0.98      0.98       366\n",
      "\n"
     ]
    },
    {
     "data": {
      "image/png": "[encoded data removed]",
      "text/plain": [
       "<Figure size 640x480 with 2 Axes>"
      ]
     },
     "metadata": {},
     "output_type": "display_data"
    },
    {
     "name": "stdout",
     "output_type": "stream",
     "text": [
      "rapport sur données totales\n",
      "              precision    recall  f1-score   support\n",
      "\n",
      "       False       0.99      0.95      0.97       492\n",
      "        True       0.97      1.00      0.98       971\n",
      "\n",
      "    accuracy                           0.98      1463\n",
      "   macro avg       0.98      0.97      0.98      1463\n",
      "weighted avg       0.98      0.98      0.98      1463\n",
      "\n"
     ]
    },
    {
     "data": {
      "text/plain": [
       "['model/KMeans.modele']"
      ]
     },
     "execution_count": 23,
     "metadata": {},
     "output_type": "execute_result"
    }
   ],
   "source": [
    "model_KMeans = perso_classement.kmeans_bool(data_billets[liste_colonne],'is_genuine')\n",
    "#sauvegarde du modele\n",
    "dump(model_KMeans, 'model/KMeans.modele') "
   ]
  },
  {
   "cell_type": "markdown",
   "id": "e85e70ce",
   "metadata": {},
   "source": [
    "Là aussi la différence entre les datasets avec ou sans régression n'est pas flagrante."
   ]
  },
  {
   "cell_type": "markdown",
   "id": "8bca80c3",
   "metadata": {},
   "source": [
    "<a id=predic_logis></a>\n",
    "### Application des prédictions\n",
    "#### avec le modele de regression logistique"
   ]
  },
  {
   "cell_type": "code",
   "execution_count": 24,
   "id": "9766855e",
   "metadata": {},
   "outputs": [],
   "source": [
    "liste_colonne.remove('is_genuine')"
   ]
  },
  {
   "cell_type": "code",
   "execution_count": 25,
   "id": "d221a3cb",
   "metadata": {},
   "outputs": [],
   "source": [
    "#sur le fichier production livré\n",
    "data_billets_test_exemple['predic Reg_logis']= model_reg_logis.predict(data_billets_test_exemple[liste_colonne])"
   ]
  },
  {
   "cell_type": "code",
   "execution_count": 26,
   "id": "160e2b70",
   "metadata": {},
   "outputs": [
    {
     "data": {
      "text/html": [
       "<div>\n",
       "<style scoped>\n",
       "    .dataframe tbody tr th:only-of-type {\n",
       "        vertical-align: middle;\n",
       "    }\n",
       "\n",
       "    .dataframe tbody tr th {\n",
       "        vertical-align: top;\n",
       "    }\n",
       "\n",
       "    .dataframe thead th {\n",
       "        text-align: right;\n",
       "    }\n",
       "</style>\n",
       "<table border=\"1\" class=\"dataframe\">\n",
       "  <thead>\n",
       "    <tr style=\"text-align: right;\">\n",
       "      <th></th>\n",
       "      <th>diagonal</th>\n",
       "      <th>height_left</th>\n",
       "      <th>height_right</th>\n",
       "      <th>margin_low</th>\n",
       "      <th>margin_up</th>\n",
       "      <th>length</th>\n",
       "      <th>predic Reg_logis</th>\n",
       "    </tr>\n",
       "    <tr>\n",
       "      <th>id</th>\n",
       "      <th></th>\n",
       "      <th></th>\n",
       "      <th></th>\n",
       "      <th></th>\n",
       "      <th></th>\n",
       "      <th></th>\n",
       "      <th></th>\n",
       "    </tr>\n",
       "  </thead>\n",
       "  <tbody>\n",
       "    <tr>\n",
       "      <th>A_1</th>\n",
       "      <td>171.76</td>\n",
       "      <td>104.01</td>\n",
       "      <td>103.54</td>\n",
       "      <td>5.21</td>\n",
       "      <td>3.30</td>\n",
       "      <td>111.42</td>\n",
       "      <td>False</td>\n",
       "    </tr>\n",
       "    <tr>\n",
       "      <th>A_2</th>\n",
       "      <td>171.87</td>\n",
       "      <td>104.17</td>\n",
       "      <td>104.13</td>\n",
       "      <td>6.00</td>\n",
       "      <td>3.31</td>\n",
       "      <td>112.09</td>\n",
       "      <td>False</td>\n",
       "    </tr>\n",
       "    <tr>\n",
       "      <th>A_3</th>\n",
       "      <td>172.00</td>\n",
       "      <td>104.58</td>\n",
       "      <td>104.29</td>\n",
       "      <td>4.99</td>\n",
       "      <td>3.39</td>\n",
       "      <td>111.57</td>\n",
       "      <td>False</td>\n",
       "    </tr>\n",
       "    <tr>\n",
       "      <th>A_4</th>\n",
       "      <td>172.49</td>\n",
       "      <td>104.55</td>\n",
       "      <td>104.34</td>\n",
       "      <td>4.44</td>\n",
       "      <td>3.03</td>\n",
       "      <td>113.20</td>\n",
       "      <td>True</td>\n",
       "    </tr>\n",
       "    <tr>\n",
       "      <th>A_5</th>\n",
       "      <td>171.65</td>\n",
       "      <td>103.63</td>\n",
       "      <td>103.56</td>\n",
       "      <td>3.77</td>\n",
       "      <td>3.16</td>\n",
       "      <td>113.33</td>\n",
       "      <td>True</td>\n",
       "    </tr>\n",
       "  </tbody>\n",
       "</table>\n",
       "</div>"
      ],
      "text/plain": [
       "     diagonal  height_left  height_right  margin_low  margin_up  length  \\\n",
       "id                                                                        \n",
       "A_1    171.76       104.01        103.54        5.21       3.30  111.42   \n",
       "A_2    171.87       104.17        104.13        6.00       3.31  112.09   \n",
       "A_3    172.00       104.58        104.29        4.99       3.39  111.57   \n",
       "A_4    172.49       104.55        104.34        4.44       3.03  113.20   \n",
       "A_5    171.65       103.63        103.56        3.77       3.16  113.33   \n",
       "\n",
       "     predic Reg_logis  \n",
       "id                     \n",
       "A_1             False  \n",
       "A_2             False  \n",
       "A_3             False  \n",
       "A_4              True  \n",
       "A_5              True  "
      ]
     },
     "metadata": {},
     "output_type": "display_data"
    }
   ],
   "source": [
    "display(data_billets_test_exemple)"
   ]
  },
  {
   "cell_type": "markdown",
   "id": "80ce2973",
   "metadata": {},
   "source": [
    "<a id=predic_Kmeans></a>\n",
    "#### avec le modele Kmeans"
   ]
  },
  {
   "cell_type": "code",
   "execution_count": 27,
   "id": "40d77588",
   "metadata": {},
   "outputs": [],
   "source": [
    "#enlever les predictions reg_logis\n",
    "predic_prod_reg_logis = data_billets_test_exemple.pop('predic Reg_logis')"
   ]
  },
  {
   "cell_type": "code",
   "execution_count": 28,
   "id": "5a285948",
   "metadata": {},
   "outputs": [],
   "source": [
    "data_billets_test_exemple['predic Kmeans']= model_KMeans.predict(data_billets_test_exemple[liste_colonne])\n",
    "data_billets_test_exemple['predic Kmeans'] = data_billets_test_exemple['predic Kmeans'].astype('bool')"
   ]
  },
  {
   "cell_type": "code",
   "execution_count": 29,
   "id": "b0e7e592",
   "metadata": {},
   "outputs": [
    {
     "data": {
      "text/html": [
       "<div>\n",
       "<style scoped>\n",
       "    .dataframe tbody tr th:only-of-type {\n",
       "        vertical-align: middle;\n",
       "    }\n",
       "\n",
       "    .dataframe tbody tr th {\n",
       "        vertical-align: top;\n",
       "    }\n",
       "\n",
       "    .dataframe thead th {\n",
       "        text-align: right;\n",
       "    }\n",
       "</style>\n",
       "<table border=\"1\" class=\"dataframe\">\n",
       "  <thead>\n",
       "    <tr style=\"text-align: right;\">\n",
       "      <th></th>\n",
       "      <th>diagonal</th>\n",
       "      <th>height_left</th>\n",
       "      <th>height_right</th>\n",
       "      <th>margin_low</th>\n",
       "      <th>margin_up</th>\n",
       "      <th>length</th>\n",
       "      <th>predic Kmeans</th>\n",
       "    </tr>\n",
       "    <tr>\n",
       "      <th>id</th>\n",
       "      <th></th>\n",
       "      <th></th>\n",
       "      <th></th>\n",
       "      <th></th>\n",
       "      <th></th>\n",
       "      <th></th>\n",
       "      <th></th>\n",
       "    </tr>\n",
       "  </thead>\n",
       "  <tbody>\n",
       "    <tr>\n",
       "      <th>A_1</th>\n",
       "      <td>171.76</td>\n",
       "      <td>104.01</td>\n",
       "      <td>103.54</td>\n",
       "      <td>5.21</td>\n",
       "      <td>3.30</td>\n",
       "      <td>111.42</td>\n",
       "      <td>False</td>\n",
       "    </tr>\n",
       "    <tr>\n",
       "      <th>A_2</th>\n",
       "      <td>171.87</td>\n",
       "      <td>104.17</td>\n",
       "      <td>104.13</td>\n",
       "      <td>6.00</td>\n",
       "      <td>3.31</td>\n",
       "      <td>112.09</td>\n",
       "      <td>False</td>\n",
       "    </tr>\n",
       "    <tr>\n",
       "      <th>A_3</th>\n",
       "      <td>172.00</td>\n",
       "      <td>104.58</td>\n",
       "      <td>104.29</td>\n",
       "      <td>4.99</td>\n",
       "      <td>3.39</td>\n",
       "      <td>111.57</td>\n",
       "      <td>False</td>\n",
       "    </tr>\n",
       "    <tr>\n",
       "      <th>A_4</th>\n",
       "      <td>172.49</td>\n",
       "      <td>104.55</td>\n",
       "      <td>104.34</td>\n",
       "      <td>4.44</td>\n",
       "      <td>3.03</td>\n",
       "      <td>113.20</td>\n",
       "      <td>True</td>\n",
       "    </tr>\n",
       "    <tr>\n",
       "      <th>A_5</th>\n",
       "      <td>171.65</td>\n",
       "      <td>103.63</td>\n",
       "      <td>103.56</td>\n",
       "      <td>3.77</td>\n",
       "      <td>3.16</td>\n",
       "      <td>113.33</td>\n",
       "      <td>True</td>\n",
       "    </tr>\n",
       "  </tbody>\n",
       "</table>\n",
       "</div>"
      ],
      "text/plain": [
       "     diagonal  height_left  height_right  margin_low  margin_up  length  \\\n",
       "id                                                                        \n",
       "A_1    171.76       104.01        103.54        5.21       3.30  111.42   \n",
       "A_2    171.87       104.17        104.13        6.00       3.31  112.09   \n",
       "A_3    172.00       104.58        104.29        4.99       3.39  111.57   \n",
       "A_4    172.49       104.55        104.34        4.44       3.03  113.20   \n",
       "A_5    171.65       103.63        103.56        3.77       3.16  113.33   \n",
       "\n",
       "     predic Kmeans  \n",
       "id                  \n",
       "A_1          False  \n",
       "A_2          False  \n",
       "A_3          False  \n",
       "A_4           True  \n",
       "A_5           True  "
      ]
     },
     "metadata": {},
     "output_type": "display_data"
    }
   ],
   "source": [
    "display(data_billets_test_exemple)"
   ]
  },
  {
   "cell_type": "code",
   "execution_count": 30,
   "id": "a7300f03",
   "metadata": {},
   "outputs": [
    {
     "name": "stdout",
     "output_type": "stream",
     "text": [
      "Help on module fonctions.perso_classement in fonctions:\n",
      "\n",
      "NAME\n",
      "    fonctions.perso_classement\n",
      "\n",
      "FUNCTIONS\n",
      "    KNNtest(data, colonne_cible, kmin=1, kmax=10)\n",
      "        renvoie un modele KNN\n",
      "        arg: data , dataframe a analyser\n",
      "            colonne_cible : nom de la colonnne cible\n",
      "        returns:\n",
      "            courbe apprentissage : dataframe avec les scores train et test\n",
      "    \n",
      "    dentogramme(df, methode='ward', nb_branche=10, taille=(12, 8), nom_colonne_cluster='cluster')\n",
      "        Dessine un dentogramme et rajoute un colonne avec les cluster trouvés.\n",
      "        SRC : https://openclassrooms.com/fr/courses/4525281-realisez-une-analyse-exploratoire-de-donnees/5177936-effectuez-une-classification-hierarchique\n",
      "        parameter :\n",
      "            df: dataframe à analyser\n",
      "            methode : methode voulue default WARD\n",
      "            nb_branche : nombre de branche à afficher\n",
      "            nom_colonne_cluster : nom de la colonne default 'cluster'\n",
      "            taille : taille du graphe en pouce\n",
      "    \n",
      "    determination_cluster(df, nb_cluster, col_cluster='cluster')\n",
      "        recherche des clusters par la methode du Kmeans de sklearn et rajoute une colonne cluster dans le dataframe\n",
      "        parameter:\n",
      "        df : dataframe a categoriser\n",
      "        nb_cluster : nombre de groupe a effectuer\n",
      "        col_cluster : nom de colonne a donné pour la colonne des cluster Default : cluster\n",
      "    \n",
      "    inertie_interclassse(X, nb_cluster_mini=1, nb_cluster_max=10)\n",
      "        Ceci est inspiré très fortement du cours openclassroom: Réalisez une analyse exploratoire de données\n",
      "        https://openclassrooms.com/fr/courses/4525281-realisez-une-analyse-exploratoire-de-donnees\n",
      "        \n",
      "        Trace un graphe pour voir inertie interclasse pour voir determiner le nombre de cluster\n",
      "        parameter :\n",
      "            X : Dataframe \n",
      "            nb_cluster_mini : nombre de cluster minimun pour le graphe\n",
      "            nb_cluster_max : nombre max pour le graphe\n",
      "    \n",
      "    kmeans_bool(data, colonne_cible)\n",
      "        retourne un model de kmeans de sklearn avec 2 cluster 0 faux 1 vrais (un booléen quoi)\n",
      "        arg:\n",
      "            data : dataframe des données\n",
      "            colonne_cible : colonne du dataframe avec les valeurs cibles \n",
      "        return:\n",
      "            model sklearns Kmeans\n",
      "    \n",
      "    naive_bayes_gaussian(data, colonne_cible)\n",
      "        renvoie une objet sklearn de Naive_bayes\n",
      "        Arg : \n",
      "            data : data \n",
      "            colonne_cible : cible pour le classement\n",
      "        return \n",
      "            gnb : objet sklearn de classification\n",
      "    \n",
      "    rapport_confusion(predict_test, target_test)\n",
      "        Affiche 2 matrices de confusion et un rapport de sklearn\n",
      "        Arg:\n",
      "            target_test : data a tester\n",
      "            predict_test ; prediction\n",
      "        Return:\n",
      "            None\n",
      "    \n",
      "    rapport_confusion_model(model, data_test, target_test)\n",
      "    \n",
      "    regression_logistique(data, colonne_cible, max_iter=100)\n",
      "        renvoie un modele de regression logistique sklearn\n",
      "        arg:\n",
      "            data : dataframe dsiponible en apprentissage\n",
      "            colonne_cible : nom de la colonne cible\n",
      "        return:\n",
      "            modele sklearn de regression logistique\n",
      "    \n",
      "    separation_data_train_test_target(data, colonne_test)\n",
      "        separe le dataset en 4 donnée et cible, un jeu de test et un jeu d entrainement\n",
      "        arg \n",
      "            data: dataframe à couper\n",
      "            colonne_test : string nom de la colonne cible\n",
      "        return:\n",
      "            data_train : data frame entrainement\n",
      "            target_data_train : cible entrainement\n",
      "            data_test : data de test\n",
      "            target_data_test : cible de test\n",
      "    \n",
      "    surapprentissage(target_train, predict_train, target_test, predict_test)\n",
      "\n",
      "FILE\n",
      "    /home/barrios/Parcours_Data/projet_10/fonctions/perso_classement.py\n",
      "\n",
      "\n"
     ]
    }
   ],
   "source": [
    "#help perso\n",
    "help(perso_classement)"
   ]
  },
  {
   "cell_type": "code",
   "execution_count": 31,
   "id": "ca302839",
   "metadata": {},
   "outputs": [
    {
     "name": "stdout",
     "output_type": "stream",
     "text": [
      "Help on module fonctions.perso_reg_lin in fonctions:\n",
      "\n",
      "NAME\n",
      "    fonctions.perso_reg_lin\n",
      "\n",
      "FUNCTIONS\n",
      "    auto_regression_lineaire(data, colonne_cible, intercept=True)\n",
      "        crée un modele de regression lineaire\n",
      "        arg:\n",
      "            data : dataframe de donnée\n",
      "            colonne_cible: string nom de la colonne cible\n",
      "        return:\n",
      "            regr : modele sklearn de regression lineaire\n",
      "    \n",
      "    regression_lineaire(data_train, data_test, target_train, target_test, intercept=True)\n",
      "        crée un modele de regression lineaire.\n",
      "        arg :\n",
      "            train : dataframe ou serie ou array données d entrainement         \n",
      "            target dataframe ou serie ou array         \n",
      "            \n",
      "        return :\n",
      "            regr : model sklearn de regression lineaire\n",
      "\n",
      "FILE\n",
      "    /home/barrios/Parcours_Data/projet_10/fonctions/perso_reg_lin.py\n",
      "\n",
      "\n"
     ]
    }
   ],
   "source": [
    "help(perso_reg)"
   ]
  },
  {
   "cell_type": "code",
   "execution_count": null,
   "id": "f9b7a6d2",
   "metadata": {},
   "outputs": [],
   "source": []
  }
 ],
 "metadata": {
  "hide_input": false,
  "kernelspec": {
   "display_name": "Python 3 (ipykernel)",
   "language": "python",
   "name": "python3"
  },
  "language_info": {
   "codemirror_mode": {
    "name": "ipython",
    "version": 3
   },
   "file_extension": ".py",
   "mimetype": "text/x-python",
   "name": "python",
   "nbconvert_exporter": "python",
   "pygments_lexer": "ipython3",
   "version": "3.10.9"
  }
 },
 "nbformat": 4,
 "nbformat_minor": 5
}
