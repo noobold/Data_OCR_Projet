{
 "cells": [
  {
   "cell_type": "markdown",
   "id": "d998a01a",
   "metadata": {},
   "source": [
    "# Projet 5 DataV2 BottleNeck\n",
    "\n",
    "## Notebook 2 : Nettoyage des données\n",
    "\n",
    "Ce notebook créé un fichier csv pour pouvoir faire les analyses. \n",
    "\n",
    "[lien vers le notebook 1 : analyse préparatoire](Barrios_Mathieu_1_notebook_072022.ipynb)<br>\n",
    "\n",
    "[lien vers le notebook 3 : analyse demandée](analyse.ipynb)<br>"
   ]
  },
  {
   "cell_type": "markdown",
   "id": "424df2a5",
   "metadata": {},
   "source": [
    "## code python\n",
    "### importation des bibliothèques"
   ]
  },
  {
   "cell_type": "code",
   "execution_count": 1,
   "id": "ac43e640",
   "metadata": {},
   "outputs": [],
   "source": [
    "import warnings # pour gerer les alarmes de openyxl (inclus dans pandas)\n",
    "import pandas as pd\n",
    "from IPython.display import display\n",
    "\n",
    "#fonction perso se trouvant dans le dossier fonction (plus d'info à la fin du notebook)\n",
    "import fonction.fonction_perso as perso \n"
   ]
  },
  {
   "cell_type": "markdown",
   "id": "6c09dbcf",
   "metadata": {},
   "source": [
    "### Importation des données"
   ]
  },
  {
   "cell_type": "code",
   "execution_count": 2,
   "id": "ae0f3872",
   "metadata": {},
   "outputs": [],
   "source": [
    "warnings.simplefilter(\"ignore\")# openpyxl me met un warning car le systeme ne reconnait pas l'extension excel \n",
    "\n",
    "erp = pd.read_excel('donnee/erp.xlsx')\n",
    "vente_web = pd.read_excel('donnee/web.xlsx')\n",
    "liaison = pd.read_excel('donnee/liaison.xlsx')"
   ]
  },
  {
   "cell_type": "markdown",
   "id": "6820495a",
   "metadata": {},
   "source": [
    "### Nettoyage des données\n",
    "#### Nettoyage du fichier ERP\n",
    "affichage du DataFrame apres nettoyage"
   ]
  },
  {
   "cell_type": "code",
   "execution_count": 3,
   "id": "c2437d52",
   "metadata": {},
   "outputs": [
    {
     "data": {
      "text/html": [
       "<div>\n",
       "<style scoped>\n",
       "    .dataframe tbody tr th:only-of-type {\n",
       "        vertical-align: middle;\n",
       "    }\n",
       "\n",
       "    .dataframe tbody tr th {\n",
       "        vertical-align: top;\n",
       "    }\n",
       "\n",
       "    .dataframe thead th {\n",
       "        text-align: right;\n",
       "    }\n",
       "</style>\n",
       "<table border=\"1\" class=\"dataframe\">\n",
       "  <thead>\n",
       "    <tr style=\"text-align: right;\">\n",
       "      <th></th>\n",
       "      <th>product_id</th>\n",
       "      <th>price</th>\n",
       "      <th>onsale_web</th>\n",
       "      <th>stock_quantity</th>\n",
       "    </tr>\n",
       "  </thead>\n",
       "  <tbody>\n",
       "    <tr>\n",
       "      <th>0</th>\n",
       "      <td>3847</td>\n",
       "      <td>24.2</td>\n",
       "      <td>1</td>\n",
       "      <td>0</td>\n",
       "    </tr>\n",
       "    <tr>\n",
       "      <th>1</th>\n",
       "      <td>3849</td>\n",
       "      <td>34.3</td>\n",
       "      <td>1</td>\n",
       "      <td>0</td>\n",
       "    </tr>\n",
       "    <tr>\n",
       "      <th>2</th>\n",
       "      <td>3850</td>\n",
       "      <td>20.8</td>\n",
       "      <td>1</td>\n",
       "      <td>0</td>\n",
       "    </tr>\n",
       "    <tr>\n",
       "      <th>3</th>\n",
       "      <td>4032</td>\n",
       "      <td>14.1</td>\n",
       "      <td>1</td>\n",
       "      <td>0</td>\n",
       "    </tr>\n",
       "    <tr>\n",
       "      <th>4</th>\n",
       "      <td>4039</td>\n",
       "      <td>46.0</td>\n",
       "      <td>1</td>\n",
       "      <td>0</td>\n",
       "    </tr>\n",
       "  </tbody>\n",
       "</table>\n",
       "</div>"
      ],
      "text/plain": [
       "   product_id  price  onsale_web  stock_quantity\n",
       "0        3847   24.2           1               0\n",
       "1        3849   34.3           1               0\n",
       "2        3850   20.8           1               0\n",
       "3        4032   14.1           1               0\n",
       "4        4039   46.0           1               0"
      ]
     },
     "metadata": {},
     "output_type": "display_data"
    },
    {
     "name": "stdout",
     "output_type": "stream",
     "text": [
      "la colonne product_id est une clé\n"
     ]
    }
   ],
   "source": [
    "#netttoyage des donnees du fichier ERP\n",
    "\n",
    "#drop des colonnes inutiles pour analyse\n",
    "erp = erp[['product_id','price','onsale_web','stock_quantity']]\n",
    "\n",
    "#affichage général du dataframe\n",
    "display(erp.head())\n",
    "\n",
    "#voir si une clé est possible avec ce dataframe\n",
    "perso.detection_clé(erp)"
   ]
  },
  {
   "cell_type": "markdown",
   "id": "e74e3e01",
   "metadata": {},
   "source": [
    "#### Nettoyage du fichier vente_web"
   ]
  },
  {
   "cell_type": "code",
   "execution_count": 4,
   "id": "f61541e9",
   "metadata": {
    "scrolled": true
   },
   "outputs": [
    {
     "data": {
      "text/html": [
       "<div>\n",
       "<style scoped>\n",
       "    .dataframe tbody tr th:only-of-type {\n",
       "        vertical-align: middle;\n",
       "    }\n",
       "\n",
       "    .dataframe tbody tr th {\n",
       "        vertical-align: top;\n",
       "    }\n",
       "\n",
       "    .dataframe thead th {\n",
       "        text-align: right;\n",
       "    }\n",
       "</style>\n",
       "<table border=\"1\" class=\"dataframe\">\n",
       "  <thead>\n",
       "    <tr style=\"text-align: right;\">\n",
       "      <th></th>\n",
       "      <th>sku</th>\n",
       "      <th>total_sales</th>\n",
       "      <th>post_name</th>\n",
       "    </tr>\n",
       "  </thead>\n",
       "  <tbody>\n",
       "    <tr>\n",
       "      <th>0</th>\n",
       "      <td>bon-cadeau-25-euros</td>\n",
       "      <td>10.0</td>\n",
       "      <td>bon-cadeau-de-25-euros</td>\n",
       "    </tr>\n",
       "    <tr>\n",
       "      <th>1</th>\n",
       "      <td>15298</td>\n",
       "      <td>6.0</td>\n",
       "      <td>pierre-jean-villa-saint-joseph-preface-2018</td>\n",
       "    </tr>\n",
       "    <tr>\n",
       "      <th>2</th>\n",
       "      <td>15296</td>\n",
       "      <td>0.0</td>\n",
       "      <td>pierre-jean-villa-saint-joseph-tilde-2017</td>\n",
       "    </tr>\n",
       "    <tr>\n",
       "      <th>3</th>\n",
       "      <td>15300</td>\n",
       "      <td>0.0</td>\n",
       "      <td>pierre-jean-villa-croze-hermitage-accroche-coe...</td>\n",
       "    </tr>\n",
       "    <tr>\n",
       "      <th>4</th>\n",
       "      <td>19814</td>\n",
       "      <td>3.0</td>\n",
       "      <td>pierre-jean-villa-igp-gamine-2018</td>\n",
       "    </tr>\n",
       "  </tbody>\n",
       "</table>\n",
       "</div>"
      ],
      "text/plain": [
       "                   sku  total_sales  \\\n",
       "0  bon-cadeau-25-euros         10.0   \n",
       "1                15298          6.0   \n",
       "2                15296          0.0   \n",
       "3                15300          0.0   \n",
       "4                19814          3.0   \n",
       "\n",
       "                                           post_name  \n",
       "0                             bon-cadeau-de-25-euros  \n",
       "1        pierre-jean-villa-saint-joseph-preface-2018  \n",
       "2          pierre-jean-villa-saint-joseph-tilde-2017  \n",
       "3  pierre-jean-villa-croze-hermitage-accroche-coe...  \n",
       "4                  pierre-jean-villa-igp-gamine-2018  "
      ]
     },
     "metadata": {},
     "output_type": "display_data"
    },
    {
     "name": "stdout",
     "output_type": "stream",
     "text": [
      "la colonne post_name est une clé\n"
     ]
    }
   ],
   "source": [
    "#drop des colonnes inutiles\n",
    "vente_web = vente_web[['sku','total_sales','post_name']]\n",
    "#nettoyage des doublons\n",
    "vente_web = vente_web.drop_duplicates()\n",
    "#affichage du dataFrame\n",
    "display(vente_web.head())\n",
    "#detection si clé possible dans ce dataframe\n",
    "perso.detection_clé(vente_web)"
   ]
  },
  {
   "cell_type": "markdown",
   "id": "31bf2daf",
   "metadata": {},
   "source": [
    "##### la colonne sku n'est pas une clé valide, verification des  doublons dans sku"
   ]
  },
  {
   "cell_type": "code",
   "execution_count": 5,
   "id": "26c62a1f",
   "metadata": {},
   "outputs": [
    {
     "name": "stdout",
     "output_type": "stream",
     "text": [
      "doublons dans la colonne sku\n"
     ]
    },
    {
     "data": {
      "text/html": [
       "<div>\n",
       "<style scoped>\n",
       "    .dataframe tbody tr th:only-of-type {\n",
       "        vertical-align: middle;\n",
       "    }\n",
       "\n",
       "    .dataframe tbody tr th {\n",
       "        vertical-align: top;\n",
       "    }\n",
       "\n",
       "    .dataframe thead th {\n",
       "        text-align: right;\n",
       "    }\n",
       "</style>\n",
       "<table border=\"1\" class=\"dataframe\">\n",
       "  <thead>\n",
       "    <tr style=\"text-align: right;\">\n",
       "      <th></th>\n",
       "      <th>sku</th>\n",
       "      <th>total_sales</th>\n",
       "      <th>post_name</th>\n",
       "    </tr>\n",
       "  </thead>\n",
       "  <tbody>\n",
       "    <tr>\n",
       "      <th>470</th>\n",
       "      <td>NaN</td>\n",
       "      <td>0.0</td>\n",
       "      <td>pierre-jean-villa-cote-rotie-fongeant-2017</td>\n",
       "    </tr>\n",
       "    <tr>\n",
       "      <th>471</th>\n",
       "      <td>NaN</td>\n",
       "      <td>0.0</td>\n",
       "      <td>pierre-jean-villa-condrieu-suspendu-2018</td>\n",
       "    </tr>\n",
       "  </tbody>\n",
       "</table>\n",
       "</div>"
      ],
      "text/plain": [
       "     sku  total_sales                                   post_name\n",
       "470  NaN          0.0  pierre-jean-villa-cote-rotie-fongeant-2017\n",
       "471  NaN          0.0    pierre-jean-villa-condrieu-suspendu-2018"
      ]
     },
     "metadata": {},
     "output_type": "display_data"
    },
    {
     "name": "stdout",
     "output_type": "stream",
     "text": [
      "NaN dans la colonne sku\n"
     ]
    },
    {
     "data": {
      "text/html": [
       "<div>\n",
       "<style scoped>\n",
       "    .dataframe tbody tr th:only-of-type {\n",
       "        vertical-align: middle;\n",
       "    }\n",
       "\n",
       "    .dataframe tbody tr th {\n",
       "        vertical-align: top;\n",
       "    }\n",
       "\n",
       "    .dataframe thead th {\n",
       "        text-align: right;\n",
       "    }\n",
       "</style>\n",
       "<table border=\"1\" class=\"dataframe\">\n",
       "  <thead>\n",
       "    <tr style=\"text-align: right;\">\n",
       "      <th></th>\n",
       "      <th>sku</th>\n",
       "      <th>total_sales</th>\n",
       "      <th>post_name</th>\n",
       "    </tr>\n",
       "  </thead>\n",
       "  <tbody>\n",
       "    <tr>\n",
       "      <th>178</th>\n",
       "      <td>NaN</td>\n",
       "      <td>NaN</td>\n",
       "      <td>NaN</td>\n",
       "    </tr>\n",
       "    <tr>\n",
       "      <th>470</th>\n",
       "      <td>NaN</td>\n",
       "      <td>0.0</td>\n",
       "      <td>pierre-jean-villa-cote-rotie-fongeant-2017</td>\n",
       "    </tr>\n",
       "    <tr>\n",
       "      <th>471</th>\n",
       "      <td>NaN</td>\n",
       "      <td>0.0</td>\n",
       "      <td>pierre-jean-villa-condrieu-suspendu-2018</td>\n",
       "    </tr>\n",
       "  </tbody>\n",
       "</table>\n",
       "</div>"
      ],
      "text/plain": [
       "     sku  total_sales                                   post_name\n",
       "178  NaN          NaN                                         NaN\n",
       "470  NaN          0.0  pierre-jean-villa-cote-rotie-fongeant-2017\n",
       "471  NaN          0.0    pierre-jean-villa-condrieu-suspendu-2018"
      ]
     },
     "metadata": {},
     "output_type": "display_data"
    }
   ],
   "source": [
    "#affichage des double dans la colonne sku\n",
    "print(\"doublons dans la colonne sku\")\n",
    "display(vente_web[vente_web['sku'].duplicated()])\n",
    "print(\"NaN dans la colonne sku\")\n",
    "display(vente_web[vente_web['sku'].isna()])"
   ]
  },
  {
   "cell_type": "markdown",
   "id": "7326e781",
   "metadata": {},
   "source": [
    "##### enlever les lignes fautives et vérification que l'on n'enlève que 2 lignes"
   ]
  },
  {
   "cell_type": "code",
   "execution_count": 6,
   "id": "f420eada",
   "metadata": {},
   "outputs": [
    {
     "name": "stdout",
     "output_type": "stream",
     "text": [
      "nombre de ligne avant drop na : 717\n",
      "nombre de ligne après drop na : 714 \n",
      "\n",
      "la colonne sku est une clé\n",
      "la colonne post_name est une clé\n"
     ]
    }
   ],
   "source": [
    "#elimination et verification que l'on supprime que le nombre de lignes necessaires\n",
    "print(\"nombre de ligne avant drop na :\",vente_web.shape[0])\n",
    "vente_web = vente_web[~vente_web['sku'].isna()] #elimination des valeurs NA\n",
    "print(\"nombre de ligne après drop na :\",vente_web.shape[0],\"\\n\")\n",
    "\n",
    "#détection de clé possible après nettoyage:\n",
    "perso.detection_clé(vente_web)\n"
   ]
  },
  {
   "cell_type": "markdown",
   "id": "f7eddfce",
   "metadata": {},
   "source": [
    "### Nettoyage du fichier liaison\n",
    "changement du nom de colonne id_web -> sku"
   ]
  },
  {
   "cell_type": "code",
   "execution_count": 7,
   "id": "83f0b394",
   "metadata": {},
   "outputs": [],
   "source": [
    "#changement nom de colonne (indiqué dans le mail de Sylvie)\n",
    "liaison = liaison.rename(columns={'id_web' : 'sku'})"
   ]
  },
  {
   "cell_type": "markdown",
   "id": "ce74e093",
   "metadata": {},
   "source": [
    "### Jointure pour créer le fichier d'analyse "
   ]
  },
  {
   "cell_type": "code",
   "execution_count": 8,
   "id": "0c227eac",
   "metadata": {},
   "outputs": [
    {
     "name": "stdout",
     "output_type": "stream",
     "text": [
      "vérification s'il n'y aurait pas des ref manquantes entre liaison et erp\n"
     ]
    },
    {
     "data": {
      "text/html": [
       "<div>\n",
       "<style scoped>\n",
       "    .dataframe tbody tr th:only-of-type {\n",
       "        vertical-align: middle;\n",
       "    }\n",
       "\n",
       "    .dataframe tbody tr th {\n",
       "        vertical-align: top;\n",
       "    }\n",
       "\n",
       "    .dataframe thead th {\n",
       "        text-align: right;\n",
       "    }\n",
       "</style>\n",
       "<table border=\"1\" class=\"dataframe\">\n",
       "  <thead>\n",
       "    <tr style=\"text-align: right;\">\n",
       "      <th></th>\n",
       "      <th>product_id</th>\n",
       "      <th>price</th>\n",
       "      <th>onsale_web</th>\n",
       "      <th>stock_quantity</th>\n",
       "      <th>sku</th>\n",
       "      <th>_merge</th>\n",
       "    </tr>\n",
       "  </thead>\n",
       "  <tbody>\n",
       "  </tbody>\n",
       "</table>\n",
       "</div>"
      ],
      "text/plain": [
       "Empty DataFrame\n",
       "Columns: [product_id, price, onsale_web, stock_quantity, sku, _merge]\n",
       "Index: []"
      ]
     },
     "metadata": {},
     "output_type": "display_data"
    },
    {
     "name": "stdout",
     "output_type": "stream",
     "text": [
      "Vérification si ref manquantes entre liaison et vente web\n"
     ]
    },
    {
     "data": {
      "text/html": [
       "<div>\n",
       "<style scoped>\n",
       "    .dataframe tbody tr th:only-of-type {\n",
       "        vertical-align: middle;\n",
       "    }\n",
       "\n",
       "    .dataframe tbody tr th {\n",
       "        vertical-align: top;\n",
       "    }\n",
       "\n",
       "    .dataframe thead th {\n",
       "        text-align: right;\n",
       "    }\n",
       "</style>\n",
       "<table border=\"1\" class=\"dataframe\">\n",
       "  <thead>\n",
       "    <tr style=\"text-align: right;\">\n",
       "      <th></th>\n",
       "      <th>product_id</th>\n",
       "      <th>price</th>\n",
       "      <th>onsale_web</th>\n",
       "      <th>stock_quantity</th>\n",
       "      <th>sku</th>\n",
       "      <th>total_sales</th>\n",
       "      <th>post_name</th>\n",
       "      <th>_merge</th>\n",
       "    </tr>\n",
       "  </thead>\n",
       "  <tbody>\n",
       "    <tr>\n",
       "      <th>19</th>\n",
       "      <td>4055</td>\n",
       "      <td>86.1</td>\n",
       "      <td>0</td>\n",
       "      <td>0</td>\n",
       "      <td>NaN</td>\n",
       "      <td>NaN</td>\n",
       "      <td>NaN</td>\n",
       "      <td>left_only</td>\n",
       "    </tr>\n",
       "    <tr>\n",
       "      <th>20</th>\n",
       "      <td>4090</td>\n",
       "      <td>73.0</td>\n",
       "      <td>0</td>\n",
       "      <td>0</td>\n",
       "      <td>NaN</td>\n",
       "      <td>NaN</td>\n",
       "      <td>NaN</td>\n",
       "      <td>left_only</td>\n",
       "    </tr>\n",
       "    <tr>\n",
       "      <th>21</th>\n",
       "      <td>4092</td>\n",
       "      <td>47.0</td>\n",
       "      <td>0</td>\n",
       "      <td>0</td>\n",
       "      <td>NaN</td>\n",
       "      <td>NaN</td>\n",
       "      <td>NaN</td>\n",
       "      <td>left_only</td>\n",
       "    </tr>\n",
       "    <tr>\n",
       "      <th>22</th>\n",
       "      <td>4195</td>\n",
       "      <td>14.1</td>\n",
       "      <td>0</td>\n",
       "      <td>0</td>\n",
       "      <td>NaN</td>\n",
       "      <td>NaN</td>\n",
       "      <td>NaN</td>\n",
       "      <td>left_only</td>\n",
       "    </tr>\n",
       "    <tr>\n",
       "      <th>23</th>\n",
       "      <td>4209</td>\n",
       "      <td>73.5</td>\n",
       "      <td>0</td>\n",
       "      <td>0</td>\n",
       "      <td>NaN</td>\n",
       "      <td>NaN</td>\n",
       "      <td>NaN</td>\n",
       "      <td>left_only</td>\n",
       "    </tr>\n",
       "    <tr>\n",
       "      <th>...</th>\n",
       "      <td>...</td>\n",
       "      <td>...</td>\n",
       "      <td>...</td>\n",
       "      <td>...</td>\n",
       "      <td>...</td>\n",
       "      <td>...</td>\n",
       "      <td>...</td>\n",
       "      <td>...</td>\n",
       "    </tr>\n",
       "    <tr>\n",
       "      <th>717</th>\n",
       "      <td>5954</td>\n",
       "      <td>18.8</td>\n",
       "      <td>0</td>\n",
       "      <td>0</td>\n",
       "      <td>15609</td>\n",
       "      <td>NaN</td>\n",
       "      <td>NaN</td>\n",
       "      <td>left_only</td>\n",
       "    </tr>\n",
       "    <tr>\n",
       "      <th>718</th>\n",
       "      <td>5955</td>\n",
       "      <td>27.3</td>\n",
       "      <td>0</td>\n",
       "      <td>0</td>\n",
       "      <td>14377</td>\n",
       "      <td>NaN</td>\n",
       "      <td>NaN</td>\n",
       "      <td>left_only</td>\n",
       "    </tr>\n",
       "    <tr>\n",
       "      <th>720</th>\n",
       "      <td>5957</td>\n",
       "      <td>39.0</td>\n",
       "      <td>0</td>\n",
       "      <td>0</td>\n",
       "      <td>13577</td>\n",
       "      <td>NaN</td>\n",
       "      <td>NaN</td>\n",
       "      <td>left_only</td>\n",
       "    </tr>\n",
       "    <tr>\n",
       "      <th>743</th>\n",
       "      <td>6100</td>\n",
       "      <td>12.9</td>\n",
       "      <td>0</td>\n",
       "      <td>0</td>\n",
       "      <td>15529</td>\n",
       "      <td>NaN</td>\n",
       "      <td>NaN</td>\n",
       "      <td>left_only</td>\n",
       "    </tr>\n",
       "    <tr>\n",
       "      <th>823</th>\n",
       "      <td>7329</td>\n",
       "      <td>26.5</td>\n",
       "      <td>0</td>\n",
       "      <td>14</td>\n",
       "      <td>14680-1</td>\n",
       "      <td>NaN</td>\n",
       "      <td>NaN</td>\n",
       "      <td>left_only</td>\n",
       "    </tr>\n",
       "  </tbody>\n",
       "</table>\n",
       "<p>111 rows × 8 columns</p>\n",
       "</div>"
      ],
      "text/plain": [
       "     product_id  price  onsale_web  stock_quantity      sku  total_sales  \\\n",
       "19         4055   86.1           0               0      NaN          NaN   \n",
       "20         4090   73.0           0               0      NaN          NaN   \n",
       "21         4092   47.0           0               0      NaN          NaN   \n",
       "22         4195   14.1           0               0      NaN          NaN   \n",
       "23         4209   73.5           0               0      NaN          NaN   \n",
       "..          ...    ...         ...             ...      ...          ...   \n",
       "717        5954   18.8           0               0    15609          NaN   \n",
       "718        5955   27.3           0               0    14377          NaN   \n",
       "720        5957   39.0           0               0    13577          NaN   \n",
       "743        6100   12.9           0               0    15529          NaN   \n",
       "823        7329   26.5           0              14  14680-1          NaN   \n",
       "\n",
       "    post_name     _merge  \n",
       "19        NaN  left_only  \n",
       "20        NaN  left_only  \n",
       "21        NaN  left_only  \n",
       "22        NaN  left_only  \n",
       "23        NaN  left_only  \n",
       "..        ...        ...  \n",
       "717       NaN  left_only  \n",
       "718       NaN  left_only  \n",
       "720       NaN  left_only  \n",
       "743       NaN  left_only  \n",
       "823       NaN  left_only  \n",
       "\n",
       "[111 rows x 8 columns]"
      ]
     },
     "metadata": {},
     "output_type": "display_data"
    },
    {
     "name": "stdout",
     "output_type": "stream",
     "text": [
      "C'est normal si onsale_web = 0 le fichier n'est pas en vente sur le net\n",
      "verification si tous les NaN dans SKu sont bien dans les on_saleweb 0\n"
     ]
    },
    {
     "data": {
      "text/html": [
       "<div>\n",
       "<style scoped>\n",
       "    .dataframe tbody tr th:only-of-type {\n",
       "        vertical-align: middle;\n",
       "    }\n",
       "\n",
       "    .dataframe tbody tr th {\n",
       "        vertical-align: top;\n",
       "    }\n",
       "\n",
       "    .dataframe thead th {\n",
       "        text-align: right;\n",
       "    }\n",
       "</style>\n",
       "<table border=\"1\" class=\"dataframe\">\n",
       "  <thead>\n",
       "    <tr style=\"text-align: right;\">\n",
       "      <th></th>\n",
       "      <th>product_id</th>\n",
       "      <th>price</th>\n",
       "      <th>onsale_web</th>\n",
       "      <th>stock_quantity</th>\n",
       "      <th>sku</th>\n",
       "      <th>total_sales</th>\n",
       "      <th>post_name</th>\n",
       "    </tr>\n",
       "  </thead>\n",
       "  <tbody>\n",
       "  </tbody>\n",
       "</table>\n",
       "</div>"
      ],
      "text/plain": [
       "Empty DataFrame\n",
       "Columns: [product_id, price, onsale_web, stock_quantity, sku, total_sales, post_name]\n",
       "Index: []"
      ]
     },
     "metadata": {},
     "output_type": "display_data"
    },
    {
     "name": "stdout",
     "output_type": "stream",
     "text": [
      "Vérification doublons dans la base finale\n"
     ]
    },
    {
     "data": {
      "text/html": [
       "<div>\n",
       "<style scoped>\n",
       "    .dataframe tbody tr th:only-of-type {\n",
       "        vertical-align: middle;\n",
       "    }\n",
       "\n",
       "    .dataframe tbody tr th {\n",
       "        vertical-align: top;\n",
       "    }\n",
       "\n",
       "    .dataframe thead th {\n",
       "        text-align: right;\n",
       "    }\n",
       "</style>\n",
       "<table border=\"1\" class=\"dataframe\">\n",
       "  <thead>\n",
       "    <tr style=\"text-align: right;\">\n",
       "      <th></th>\n",
       "      <th>product_id</th>\n",
       "      <th>price</th>\n",
       "      <th>onsale_web</th>\n",
       "      <th>stock_quantity</th>\n",
       "      <th>sku</th>\n",
       "      <th>total_sales</th>\n",
       "      <th>post_name</th>\n",
       "    </tr>\n",
       "  </thead>\n",
       "  <tbody>\n",
       "  </tbody>\n",
       "</table>\n",
       "</div>"
      ],
      "text/plain": [
       "Empty DataFrame\n",
       "Columns: [product_id, price, onsale_web, stock_quantity, sku, total_sales, post_name]\n",
       "Index: []"
      ]
     },
     "metadata": {},
     "output_type": "display_data"
    }
   ],
   "source": [
    "# jointure du fichier\n",
    "\n",
    "join_liaison_erp = pd.merge(erp,liaison,on =('product_id'),how='outer',indicator = True)\n",
    "\n",
    "print(\"vérification s'il n'y aurait pas des ref manquantes entre liaison et erp\")\n",
    "display(join_liaison_erp[join_liaison_erp['_merge']!='both'])\n",
    "\n",
    "#enlever la colonne _merge car verif OK\n",
    "join_liaison_erp = join_liaison_erp.drop(columns='_merge')\n",
    "\n",
    "#jointure de la deuxieme partie\n",
    "\n",
    "#jointure totale pour une BDD avec toutes les references des magasins (NaN si pas en web)\n",
    "join_erp_venteweb = pd.merge(join_liaison_erp,vente_web,on='sku',how='outer',indicator = True)\n",
    "\n",
    "\n",
    "print(\"Vérification si ref manquantes entre liaison et vente web\")\n",
    "         \n",
    "display(join_erp_venteweb[join_erp_venteweb['_merge']!='both'])\n",
    "print(\"C'est normal si onsale_web = 0 le fichier n'est pas en vente sur le net\")\n",
    "#enlever la colonne merge\n",
    "join_erp_venteweb = join_erp_venteweb.drop(columns='_merge')\n",
    "\n",
    "print(\"verification si tous les NaN dans SKu sont bien dans les on_saleweb 0\")\n",
    "display(join_erp_venteweb[((join_erp_venteweb['onsale_web']!=0) \n",
    "                   & (join_erp_venteweb['sku']==\"NaN\"))])  \n",
    "print (\"Vérification doublons dans la base finale\")\n",
    "display(join_erp_venteweb[join_erp_venteweb.duplicated()])\n",
    "\n",
    "#mettre des post_name_vide à la place des Nan dans la colonne post_name\n",
    "join_erp_venteweb['post_name']=join_erp_venteweb['post_name'].fillna('post_name_vide')"
   ]
  },
  {
   "cell_type": "markdown",
   "id": "894fa4a4",
   "metadata": {},
   "source": [
    "### Exportation  vers fichier csv pour analyse "
   ]
  },
  {
   "cell_type": "code",
   "execution_count": 9,
   "id": "c93001af",
   "metadata": {},
   "outputs": [],
   "source": [
    "# exportation vers fichier csv dans le dossier donnee_analyse\n",
    "join_erp_venteweb.to_csv('donnee_analyse/analyse.csv',index=False)"
   ]
  },
  {
   "cell_type": "code",
   "execution_count": 10,
   "id": "6a8f4338",
   "metadata": {},
   "outputs": [
    {
     "name": "stdout",
     "output_type": "stream",
     "text": [
      "Help on module fonction.fonction_perso in fonction:\n",
      "\n",
      "NAME\n",
      "    fonction.fonction_perso\n",
      "\n",
      "FUNCTIONS\n",
      "    analyseDataFrame(df)\n",
      "        affiche un resumé des Dataframes info describe head et verification doublons\n",
      "        \n",
      "        Args:\n",
      "            df : dataframe à analyser as dataFrame\n",
      "        \n",
      "        Returns:\n",
      "            None\n",
      "    \n",
      "    categoriser(data, nom_col_recherche, mot_cle, nom_categorie, nom_col_categorie='categorie', regex=False)\n",
      "        recherche un mot dans une string et enregistre un nom de categorie dans la colonne categorie (par defaut)\n",
      "        Args:\n",
      "            data : dataframe a categoriser as DataFrame\n",
      "            nom_col_recherche : colonne où rechercher as string\n",
      "            nom_categorie : nom de la catégorie as string\n",
      "            nom_col_categorie : nom de la colonne cat\"egorie a créer as string\n",
      "        Returns :\n",
      "            None\n",
      "    \n",
      "    courbe_Lorentz(plt_ax, df, colonne, titre='', titreX='', titreY='')\n",
      "        configure une courbe de Lorentz sur l'axe matplotlib\n",
      "        Args:\n",
      "            plt_ax : Axe Matplotlib as matplotlib.axes_subplots.AxesSubplot\n",
      "            df : dataframe a exploiter as DataFrame\n",
      "            colonne: nom de la colonne pour faire le graphe as string\n",
      "            titre : titre du graphe as string\n",
      "            titreX : titre de l'axe X as string\n",
      "            titreY: titre de l'axe Y as string\n",
      "        Returns :\n",
      "            None\n",
      "    \n",
      "    detection_clé(df)\n",
      "        indique si une colonne peut être utilisé en clé\n",
      "        Args:\n",
      "            df : dataframe as DataFrame\n",
      "        \n",
      "        Returns :\n",
      "            None\n",
      "\n",
      "FILE\n",
      "    /home/barrios/Parcours_Data/projet_5_fini/DataV2_Bottleneck_Barrios_Mathieu/fonction/fonction_perso.py\n",
      "\n",
      "\n"
     ]
    }
   ],
   "source": [
    "help(perso)"
   ]
  },
  {
   "cell_type": "code",
   "execution_count": 11,
   "id": "6800b0ca",
   "metadata": {},
   "outputs": [
    {
     "data": {
      "text/plain": [
       "'1.4.3'"
      ]
     },
     "execution_count": 11,
     "metadata": {},
     "output_type": "execute_result"
    }
   ],
   "source": [
    "pd.__version__"
   ]
  },
  {
   "cell_type": "code",
   "execution_count": null,
   "id": "f37dd940",
   "metadata": {},
   "outputs": [],
   "source": []
  }
 ],
 "metadata": {
  "hide_input": false,
  "interpreter": {
   "hash": "586ad1ed5c97141e2437e681efbf1ec0adcd17d830cf5af2ca3d2819e743e158"
  },
  "kernelspec": {
   "display_name": "Python 3 (ipykernel)",
   "language": "python",
   "name": "python3"
  },
  "language_info": {
   "codemirror_mode": {
    "name": "ipython",
    "version": 3
   },
   "file_extension": ".py",
   "mimetype": "text/x-python",
   "name": "python",
   "nbconvert_exporter": "python",
   "pygments_lexer": "ipython3",
   "version": "3.10.6"
  }
 },
 "nbformat": 4,
 "nbformat_minor": 5
}
