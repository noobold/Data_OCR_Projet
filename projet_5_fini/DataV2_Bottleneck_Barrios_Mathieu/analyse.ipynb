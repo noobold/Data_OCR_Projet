{
 "cells": [
  {
   "cell_type": "markdown",
   "id": "80f4b937",
   "metadata": {
    "extensions": {
     "jupyter_dashboards": {
      "version": 1,
      "views": {
       "grid_default": {},
       "report_default": {}
      }
     }
    }
   },
   "source": [
    "# Projet 5 DataV2 BottleNeck\n",
    "## Notebook 3 : Analyses demandées\n",
    "\n",
    "[lien vers le notebook 1 : analyse préparatoire](Barrios_Mathieu_1_notebook_072022.ipynb)<br>\n",
    "[lien vers le notebook 2 : nettoyage](nettoyage.ipynb)"
   ]
  },
  {
   "cell_type": "code",
   "execution_count": 1,
   "id": "76fad6ff",
   "metadata": {
    "extensions": {
     "jupyter_dashboards": {
      "version": 1,
      "views": {
       "grid_default": {},
       "report_default": {}
      }
     }
    }
   },
   "outputs": [],
   "source": [
    "import pandas as pd\n",
    "import matplotlib.pyplot as plt\n",
    "import seaborn as sns\n",
    "from IPython.display import display\n",
    "from sklearn.preprocessing import StandardScaler\n",
    "\n",
    "#fonction perso se trouvant dans le dossier fonction (aides des fonctions en fin du notebook)\n",
    "import fonction.fonction_perso as perso \n",
    "%matplotlib inline"
   ]
  },
  {
   "cell_type": "markdown",
   "id": "13824292",
   "metadata": {
    "extensions": {
     "jupyter_dashboards": {
      "version": 1,
      "views": {
       "grid_default": {},
       "report_default": {}
      }
     }
    }
   },
   "source": [
    "### Importation des fichiers et création de variable"
   ]
  },
  {
   "cell_type": "code",
   "execution_count": 2,
   "id": "488dea33",
   "metadata": {
    "extensions": {
     "jupyter_dashboards": {
      "version": 1,
      "views": {
       "grid_default": {},
       "report_default": {}
      }
     }
    }
   },
   "outputs": [],
   "source": [
    "#donnée crée pour l'étude\n",
    "data = pd.read_csv('donnee_analyse/analyse.csv')\n",
    "#valeur significative en écart type \n",
    "ecart_significatif = 1.75"
   ]
  },
  {
   "cell_type": "markdown",
   "id": "8942eef8",
   "metadata": {
    "extensions": {
     "jupyter_dashboards": {
      "version": 1,
      "views": {
       "grid_default": {},
       "report_default": {}
      }
     }
    }
   },
   "source": [
    "#### Analyse du fichier analyse.csv "
   ]
  },
  {
   "cell_type": "code",
   "execution_count": 3,
   "id": "3ef44339",
   "metadata": {
    "extensions": {
     "jupyter_dashboards": {
      "version": 1,
      "views": {
       "grid_default": {},
       "report_default": {}
      }
     }
    }
   },
   "outputs": [
    {
     "name": "stdout",
     "output_type": "stream",
     "text": [
      "################################# INFO  #################################\n",
      "<class 'pandas.core.frame.DataFrame'>\n",
      "RangeIndex: 825 entries, 0 to 824\n",
      "Data columns (total 7 columns):\n",
      " #   Column          Non-Null Count  Dtype  \n",
      "---  ------          --------------  -----  \n",
      " 0   product_id      825 non-null    int64  \n",
      " 1   price           825 non-null    float64\n",
      " 2   onsale_web      825 non-null    int64  \n",
      " 3   stock_quantity  825 non-null    int64  \n",
      " 4   sku             734 non-null    object \n",
      " 5   total_sales     714 non-null    float64\n",
      " 6   post_name       825 non-null    object \n",
      "dtypes: float64(2), int64(3), object(2)\n",
      "memory usage: 45.2+ KB\n",
      "################################# DESCRIBE  #################################\n"
     ]
    },
    {
     "data": {
      "text/html": [
       "<div>\n",
       "<style scoped>\n",
       "    .dataframe tbody tr th:only-of-type {\n",
       "        vertical-align: middle;\n",
       "    }\n",
       "\n",
       "    .dataframe tbody tr th {\n",
       "        vertical-align: top;\n",
       "    }\n",
       "\n",
       "    .dataframe thead th {\n",
       "        text-align: right;\n",
       "    }\n",
       "</style>\n",
       "<table border=\"1\" class=\"dataframe\">\n",
       "  <thead>\n",
       "    <tr style=\"text-align: right;\">\n",
       "      <th></th>\n",
       "      <th>product_id</th>\n",
       "      <th>price</th>\n",
       "      <th>onsale_web</th>\n",
       "      <th>stock_quantity</th>\n",
       "      <th>sku</th>\n",
       "      <th>total_sales</th>\n",
       "      <th>post_name</th>\n",
       "    </tr>\n",
       "  </thead>\n",
       "  <tbody>\n",
       "    <tr>\n",
       "      <th>count</th>\n",
       "      <td>825.000000</td>\n",
       "      <td>825.000000</td>\n",
       "      <td>825.000000</td>\n",
       "      <td>825.000000</td>\n",
       "      <td>734</td>\n",
       "      <td>714.000000</td>\n",
       "      <td>825</td>\n",
       "    </tr>\n",
       "    <tr>\n",
       "      <th>unique</th>\n",
       "      <td>NaN</td>\n",
       "      <td>NaN</td>\n",
       "      <td>NaN</td>\n",
       "      <td>NaN</td>\n",
       "      <td>734</td>\n",
       "      <td>NaN</td>\n",
       "      <td>715</td>\n",
       "    </tr>\n",
       "    <tr>\n",
       "      <th>top</th>\n",
       "      <td>NaN</td>\n",
       "      <td>NaN</td>\n",
       "      <td>NaN</td>\n",
       "      <td>NaN</td>\n",
       "      <td>15298</td>\n",
       "      <td>NaN</td>\n",
       "      <td>post_name_vide</td>\n",
       "    </tr>\n",
       "    <tr>\n",
       "      <th>freq</th>\n",
       "      <td>NaN</td>\n",
       "      <td>NaN</td>\n",
       "      <td>NaN</td>\n",
       "      <td>NaN</td>\n",
       "      <td>1</td>\n",
       "      <td>NaN</td>\n",
       "      <td>111</td>\n",
       "    </tr>\n",
       "    <tr>\n",
       "      <th>mean</th>\n",
       "      <td>5162.597576</td>\n",
       "      <td>32.415636</td>\n",
       "      <td>0.869091</td>\n",
       "      <td>26.496970</td>\n",
       "      <td>NaN</td>\n",
       "      <td>4.012605</td>\n",
       "      <td>NaN</td>\n",
       "    </tr>\n",
       "    <tr>\n",
       "      <th>std</th>\n",
       "      <td>902.644635</td>\n",
       "      <td>26.795849</td>\n",
       "      <td>0.337506</td>\n",
       "      <td>45.892422</td>\n",
       "      <td>NaN</td>\n",
       "      <td>8.518183</td>\n",
       "      <td>NaN</td>\n",
       "    </tr>\n",
       "    <tr>\n",
       "      <th>min</th>\n",
       "      <td>3847.000000</td>\n",
       "      <td>5.200000</td>\n",
       "      <td>0.000000</td>\n",
       "      <td>0.000000</td>\n",
       "      <td>NaN</td>\n",
       "      <td>0.000000</td>\n",
       "      <td>NaN</td>\n",
       "    </tr>\n",
       "    <tr>\n",
       "      <th>25%</th>\n",
       "      <td>4348.000000</td>\n",
       "      <td>14.600000</td>\n",
       "      <td>1.000000</td>\n",
       "      <td>1.000000</td>\n",
       "      <td>NaN</td>\n",
       "      <td>0.000000</td>\n",
       "      <td>NaN</td>\n",
       "    </tr>\n",
       "    <tr>\n",
       "      <th>50%</th>\n",
       "      <td>4907.000000</td>\n",
       "      <td>24.400000</td>\n",
       "      <td>1.000000</td>\n",
       "      <td>11.000000</td>\n",
       "      <td>NaN</td>\n",
       "      <td>1.000000</td>\n",
       "      <td>NaN</td>\n",
       "    </tr>\n",
       "    <tr>\n",
       "      <th>75%</th>\n",
       "      <td>5805.000000</td>\n",
       "      <td>42.000000</td>\n",
       "      <td>1.000000</td>\n",
       "      <td>34.000000</td>\n",
       "      <td>NaN</td>\n",
       "      <td>4.000000</td>\n",
       "      <td>NaN</td>\n",
       "    </tr>\n",
       "    <tr>\n",
       "      <th>max</th>\n",
       "      <td>7338.000000</td>\n",
       "      <td>225.000000</td>\n",
       "      <td>1.000000</td>\n",
       "      <td>578.000000</td>\n",
       "      <td>NaN</td>\n",
       "      <td>96.000000</td>\n",
       "      <td>NaN</td>\n",
       "    </tr>\n",
       "  </tbody>\n",
       "</table>\n",
       "</div>"
      ],
      "text/plain": [
       "         product_id       price  onsale_web  stock_quantity    sku  \\\n",
       "count    825.000000  825.000000  825.000000      825.000000    734   \n",
       "unique          NaN         NaN         NaN             NaN    734   \n",
       "top             NaN         NaN         NaN             NaN  15298   \n",
       "freq            NaN         NaN         NaN             NaN      1   \n",
       "mean    5162.597576   32.415636    0.869091       26.496970    NaN   \n",
       "std      902.644635   26.795849    0.337506       45.892422    NaN   \n",
       "min     3847.000000    5.200000    0.000000        0.000000    NaN   \n",
       "25%     4348.000000   14.600000    1.000000        1.000000    NaN   \n",
       "50%     4907.000000   24.400000    1.000000       11.000000    NaN   \n",
       "75%     5805.000000   42.000000    1.000000       34.000000    NaN   \n",
       "max     7338.000000  225.000000    1.000000      578.000000    NaN   \n",
       "\n",
       "        total_sales       post_name  \n",
       "count    714.000000             825  \n",
       "unique          NaN             715  \n",
       "top             NaN  post_name_vide  \n",
       "freq            NaN             111  \n",
       "mean       4.012605             NaN  \n",
       "std        8.518183             NaN  \n",
       "min        0.000000             NaN  \n",
       "25%        0.000000             NaN  \n",
       "50%        1.000000             NaN  \n",
       "75%        4.000000             NaN  \n",
       "max       96.000000             NaN  "
      ]
     },
     "metadata": {},
     "output_type": "display_data"
    },
    {
     "name": "stdout",
     "output_type": "stream",
     "text": [
      "################################# HEAD  #################################\n"
     ]
    },
    {
     "data": {
      "text/html": [
       "<div>\n",
       "<style scoped>\n",
       "    .dataframe tbody tr th:only-of-type {\n",
       "        vertical-align: middle;\n",
       "    }\n",
       "\n",
       "    .dataframe tbody tr th {\n",
       "        vertical-align: top;\n",
       "    }\n",
       "\n",
       "    .dataframe thead th {\n",
       "        text-align: right;\n",
       "    }\n",
       "</style>\n",
       "<table border=\"1\" class=\"dataframe\">\n",
       "  <thead>\n",
       "    <tr style=\"text-align: right;\">\n",
       "      <th></th>\n",
       "      <th>product_id</th>\n",
       "      <th>price</th>\n",
       "      <th>onsale_web</th>\n",
       "      <th>stock_quantity</th>\n",
       "      <th>sku</th>\n",
       "      <th>total_sales</th>\n",
       "      <th>post_name</th>\n",
       "    </tr>\n",
       "  </thead>\n",
       "  <tbody>\n",
       "    <tr>\n",
       "      <th>0</th>\n",
       "      <td>3847</td>\n",
       "      <td>24.2</td>\n",
       "      <td>1</td>\n",
       "      <td>0</td>\n",
       "      <td>15298</td>\n",
       "      <td>6.0</td>\n",
       "      <td>pierre-jean-villa-saint-joseph-preface-2018</td>\n",
       "    </tr>\n",
       "    <tr>\n",
       "      <th>1</th>\n",
       "      <td>3849</td>\n",
       "      <td>34.3</td>\n",
       "      <td>1</td>\n",
       "      <td>0</td>\n",
       "      <td>15296</td>\n",
       "      <td>0.0</td>\n",
       "      <td>pierre-jean-villa-saint-joseph-tilde-2017</td>\n",
       "    </tr>\n",
       "    <tr>\n",
       "      <th>2</th>\n",
       "      <td>3850</td>\n",
       "      <td>20.8</td>\n",
       "      <td>1</td>\n",
       "      <td>0</td>\n",
       "      <td>15300</td>\n",
       "      <td>0.0</td>\n",
       "      <td>pierre-jean-villa-croze-hermitage-accroche-coe...</td>\n",
       "    </tr>\n",
       "    <tr>\n",
       "      <th>3</th>\n",
       "      <td>4032</td>\n",
       "      <td>14.1</td>\n",
       "      <td>1</td>\n",
       "      <td>0</td>\n",
       "      <td>19814</td>\n",
       "      <td>3.0</td>\n",
       "      <td>pierre-jean-villa-igp-gamine-2018</td>\n",
       "    </tr>\n",
       "    <tr>\n",
       "      <th>4</th>\n",
       "      <td>4039</td>\n",
       "      <td>46.0</td>\n",
       "      <td>1</td>\n",
       "      <td>0</td>\n",
       "      <td>19815</td>\n",
       "      <td>0.0</td>\n",
       "      <td>pierre-jean-villa-cote-rotie-carmina-2017</td>\n",
       "    </tr>\n",
       "  </tbody>\n",
       "</table>\n",
       "</div>"
      ],
      "text/plain": [
       "   product_id  price  onsale_web  stock_quantity    sku  total_sales  \\\n",
       "0        3847   24.2           1               0  15298          6.0   \n",
       "1        3849   34.3           1               0  15296          0.0   \n",
       "2        3850   20.8           1               0  15300          0.0   \n",
       "3        4032   14.1           1               0  19814          3.0   \n",
       "4        4039   46.0           1               0  19815          0.0   \n",
       "\n",
       "                                           post_name  \n",
       "0        pierre-jean-villa-saint-joseph-preface-2018  \n",
       "1          pierre-jean-villa-saint-joseph-tilde-2017  \n",
       "2  pierre-jean-villa-croze-hermitage-accroche-coe...  \n",
       "3                  pierre-jean-villa-igp-gamine-2018  \n",
       "4          pierre-jean-villa-cote-rotie-carmina-2017  "
      ]
     },
     "metadata": {},
     "output_type": "display_data"
    },
    {
     "name": "stdout",
     "output_type": "stream",
     "text": [
      "################################# DOUBLONS  #################################\n"
     ]
    },
    {
     "data": {
      "text/html": [
       "<div>\n",
       "<style scoped>\n",
       "    .dataframe tbody tr th:only-of-type {\n",
       "        vertical-align: middle;\n",
       "    }\n",
       "\n",
       "    .dataframe tbody tr th {\n",
       "        vertical-align: top;\n",
       "    }\n",
       "\n",
       "    .dataframe thead th {\n",
       "        text-align: right;\n",
       "    }\n",
       "</style>\n",
       "<table border=\"1\" class=\"dataframe\">\n",
       "  <thead>\n",
       "    <tr style=\"text-align: right;\">\n",
       "      <th></th>\n",
       "      <th>product_id</th>\n",
       "      <th>price</th>\n",
       "      <th>onsale_web</th>\n",
       "      <th>stock_quantity</th>\n",
       "      <th>sku</th>\n",
       "      <th>total_sales</th>\n",
       "      <th>post_name</th>\n",
       "    </tr>\n",
       "  </thead>\n",
       "  <tbody>\n",
       "  </tbody>\n",
       "</table>\n",
       "</div>"
      ],
      "text/plain": [
       "Empty DataFrame\n",
       "Columns: [product_id, price, onsale_web, stock_quantity, sku, total_sales, post_name]\n",
       "Index: []"
      ]
     },
     "metadata": {},
     "output_type": "display_data"
    },
    {
     "name": "stdout",
     "output_type": "stream",
     "text": [
      "################################## recherche de clé pour merge ###################\n",
      "la colonne product_id est une clé\n",
      "825 product_id uniques\n",
      "735 sku uniques\n"
     ]
    }
   ],
   "source": [
    "#analyse rapide des données en entrées\n",
    "perso.analyseDataFrame(data)\n",
    "print(len(data['product_id'].unique()),\"product_id uniques\")\n",
    "print(len(data['sku'].unique()),\"sku uniques\")"
   ]
  },
  {
   "cell_type": "markdown",
   "id": "a711e5ca",
   "metadata": {
    "extensions": {
     "jupyter_dashboards": {
      "version": 1,
      "views": {
       "grid_default": {},
       "report_default": {}
      }
     }
    }
   },
   "source": [
    "<a id='stock_a_0'></a>\n",
    "### Chiffre d'affaires par produit"
   ]
  },
  {
   "cell_type": "code",
   "execution_count": 4,
   "id": "5e83a09e",
   "metadata": {
    "extensions": {
     "jupyter_dashboards": {
      "version": 1,
      "views": {
       "grid_default": {},
       "report_default": {}
      }
     }
    },
    "scrolled": true
   },
   "outputs": [
    {
     "data": {
      "text/html": [
       "<div>\n",
       "<style scoped>\n",
       "    .dataframe tbody tr th:only-of-type {\n",
       "        vertical-align: middle;\n",
       "    }\n",
       "\n",
       "    .dataframe tbody tr th {\n",
       "        vertical-align: top;\n",
       "    }\n",
       "\n",
       "    .dataframe thead th {\n",
       "        text-align: right;\n",
       "    }\n",
       "</style>\n",
       "<table border=\"1\" class=\"dataframe\">\n",
       "  <thead>\n",
       "    <tr style=\"text-align: right;\">\n",
       "      <th></th>\n",
       "      <th>product_id</th>\n",
       "      <th>price</th>\n",
       "      <th>onsale_web</th>\n",
       "      <th>stock_quantity</th>\n",
       "      <th>sku</th>\n",
       "      <th>total_sales</th>\n",
       "      <th>post_name</th>\n",
       "      <th>CA</th>\n",
       "    </tr>\n",
       "  </thead>\n",
       "  <tbody>\n",
       "    <tr>\n",
       "      <th>286</th>\n",
       "      <td>4334</td>\n",
       "      <td>49.0</td>\n",
       "      <td>1</td>\n",
       "      <td>0</td>\n",
       "      <td>7818</td>\n",
       "      <td>96.0</td>\n",
       "      <td>champagne-gosset-grand-blanc-de-blanc</td>\n",
       "      <td>4704.0</td>\n",
       "    </tr>\n",
       "    <tr>\n",
       "      <th>162</th>\n",
       "      <td>4144</td>\n",
       "      <td>49.0</td>\n",
       "      <td>1</td>\n",
       "      <td>11</td>\n",
       "      <td>1662</td>\n",
       "      <td>87.0</td>\n",
       "      <td>champagne-gosset-grand-rose</td>\n",
       "      <td>4263.0</td>\n",
       "    </tr>\n",
       "    <tr>\n",
       "      <th>310</th>\n",
       "      <td>4402</td>\n",
       "      <td>176.0</td>\n",
       "      <td>1</td>\n",
       "      <td>8</td>\n",
       "      <td>3510</td>\n",
       "      <td>13.0</td>\n",
       "      <td>cognac-frapin-vip-xo</td>\n",
       "      <td>2288.0</td>\n",
       "    </tr>\n",
       "    <tr>\n",
       "      <th>161</th>\n",
       "      <td>4142</td>\n",
       "      <td>53.0</td>\n",
       "      <td>1</td>\n",
       "      <td>8</td>\n",
       "      <td>11641</td>\n",
       "      <td>30.0</td>\n",
       "      <td>champagne-gosset-grand-millesime-2006</td>\n",
       "      <td>1590.0</td>\n",
       "    </tr>\n",
       "    <tr>\n",
       "      <th>160</th>\n",
       "      <td>4141</td>\n",
       "      <td>39.0</td>\n",
       "      <td>1</td>\n",
       "      <td>1</td>\n",
       "      <td>304</td>\n",
       "      <td>40.0</td>\n",
       "      <td>gosset-champagne-grande-reserve</td>\n",
       "      <td>1560.0</td>\n",
       "    </tr>\n",
       "    <tr>\n",
       "      <th>293</th>\n",
       "      <td>4355</td>\n",
       "      <td>126.5</td>\n",
       "      <td>1</td>\n",
       "      <td>2</td>\n",
       "      <td>12589</td>\n",
       "      <td>11.0</td>\n",
       "      <td>champagne-egly-ouriet-grand-cru-brut-blanc-de-...</td>\n",
       "      <td>1391.5</td>\n",
       "    </tr>\n",
       "    <tr>\n",
       "      <th>291</th>\n",
       "      <td>4352</td>\n",
       "      <td>225.0</td>\n",
       "      <td>1</td>\n",
       "      <td>0</td>\n",
       "      <td>15940</td>\n",
       "      <td>5.0</td>\n",
       "      <td>champagne-egly-ouriet-grand-cru-millesime-2008</td>\n",
       "      <td>1125.0</td>\n",
       "    </tr>\n",
       "    <tr>\n",
       "      <th>170</th>\n",
       "      <td>4153</td>\n",
       "      <td>29.0</td>\n",
       "      <td>1</td>\n",
       "      <td>0</td>\n",
       "      <td>16237</td>\n",
       "      <td>36.0</td>\n",
       "      <td>elian-daros-cotes-du-marmandais-clos-baquey-2015</td>\n",
       "      <td>1044.0</td>\n",
       "    </tr>\n",
       "    <tr>\n",
       "      <th>761</th>\n",
       "      <td>6206</td>\n",
       "      <td>25.2</td>\n",
       "      <td>1</td>\n",
       "      <td>120</td>\n",
       "      <td>16580</td>\n",
       "      <td>41.0</td>\n",
       "      <td>domaine-giudicelli-patrimonio-blanc-2019</td>\n",
       "      <td>1033.2</td>\n",
       "    </tr>\n",
       "    <tr>\n",
       "      <th>121</th>\n",
       "      <td>4068</td>\n",
       "      <td>16.6</td>\n",
       "      <td>1</td>\n",
       "      <td>157</td>\n",
       "      <td>16416</td>\n",
       "      <td>62.0</td>\n",
       "      <td>gilles-robin-crozes-hermitage-papillon-2019</td>\n",
       "      <td>1029.2</td>\n",
       "    </tr>\n",
       "  </tbody>\n",
       "</table>\n",
       "</div>"
      ],
      "text/plain": [
       "     product_id  price  onsale_web  stock_quantity    sku  total_sales  \\\n",
       "286        4334   49.0           1               0   7818         96.0   \n",
       "162        4144   49.0           1              11   1662         87.0   \n",
       "310        4402  176.0           1               8   3510         13.0   \n",
       "161        4142   53.0           1               8  11641         30.0   \n",
       "160        4141   39.0           1               1    304         40.0   \n",
       "293        4355  126.5           1               2  12589         11.0   \n",
       "291        4352  225.0           1               0  15940          5.0   \n",
       "170        4153   29.0           1               0  16237         36.0   \n",
       "761        6206   25.2           1             120  16580         41.0   \n",
       "121        4068   16.6           1             157  16416         62.0   \n",
       "\n",
       "                                             post_name      CA  \n",
       "286              champagne-gosset-grand-blanc-de-blanc  4704.0  \n",
       "162                        champagne-gosset-grand-rose  4263.0  \n",
       "310                               cognac-frapin-vip-xo  2288.0  \n",
       "161              champagne-gosset-grand-millesime-2006  1590.0  \n",
       "160                    gosset-champagne-grande-reserve  1560.0  \n",
       "293  champagne-egly-ouriet-grand-cru-brut-blanc-de-...  1391.5  \n",
       "291     champagne-egly-ouriet-grand-cru-millesime-2008  1125.0  \n",
       "170   elian-daros-cotes-du-marmandais-clos-baquey-2015  1044.0  \n",
       "761           domaine-giudicelli-patrimonio-blanc-2019  1033.2  \n",
       "121        gilles-robin-crozes-hermitage-papillon-2019  1029.2  "
      ]
     },
     "metadata": {},
     "output_type": "display_data"
    }
   ],
   "source": [
    "#création d'une colonne avec le chiffre d'affaire par produit\n",
    "\n",
    "data['CA'] = data['price']*data['total_sales']\n",
    "\n",
    "#affichage du dataframe\n",
    "\n",
    "display(data.sort_values(by='CA',ascending=False).head(10))"
   ]
  },
  {
   "cell_type": "markdown",
   "id": "a1614834",
   "metadata": {
    "extensions": {
     "jupyter_dashboards": {
      "version": 1,
      "views": {
       "grid_default": {},
       "report_default": {}
      }
     }
    }
   },
   "source": [
    "Attention au stock de certaines références qui se vendent bien"
   ]
  },
  {
   "cell_type": "markdown",
   "id": "34387658",
   "metadata": {
    "extensions": {
     "jupyter_dashboards": {
      "version": 1,
      "views": {
       "grid_default": {},
       "report_default": {}
      }
     }
    }
   },
   "source": [
    "<a id='lorentz'></a>\n",
    "### Affichage courbe de Lorentz du chiffre d'affaires"
   ]
  },
  {
   "cell_type": "code",
   "execution_count": 5,
   "id": "1cbdee39",
   "metadata": {
    "extensions": {
     "jupyter_dashboards": {
      "version": 1,
      "views": {
       "grid_default": {},
       "report_default": {}
      }
     }
    }
   },
   "outputs": [
    {
     "data": {
      "image/png": "[encoded data removed]",
      "text/plain": [
       "<Figure size 1200x600 with 1 Axes>"
      ]
     },
     "metadata": {},
     "output_type": "display_data"
    }
   ],
   "source": [
    "\n",
    "#creation objet pyplot figure et axe (en mode OOP)\n",
    "sns.set_theme(style='darkgrid')\n",
    "\n",
    "fig , ax = plt.subplots(1,1)\n",
    "\n",
    "perso.courbe_Lorentz(    \n",
    "    plt_ax=ax,\n",
    "    df=data,\n",
    "    colonne='CA',\n",
    "    titre=\"Courbe de Lorentz du chiffre d'affaires\",\n",
    "    titreX=\"pourcentage des références\",\n",
    "    titreY=\"pourcentage de CA\")\n",
    "\n",
    "#agrandissement figure\n",
    "fig.set_size_inches(12, 6)\n",
    "\n",
    "#segments pour representer le pareto\n",
    "ax.plot([0,20,20],[82,82,0],c='green')\n",
    "\n",
    "#une petite legende pour mieux se reperer\n",
    "fig.legend([\"courbe de Lorentz\", \"repartition uniforme\",'Pareto'])\n",
    "\n",
    "#affichage du graphe\n",
    "plt.show()\n",
    "\n",
    "del fig,ax"
   ]
  },
  {
   "cell_type": "markdown",
   "id": "c6e18581",
   "metadata": {
    "extensions": {
     "jupyter_dashboards": {
      "version": 1,
      "views": {
       "grid_default": {},
       "report_default": {}
      }
     }
    }
   },
   "source": [
    " On peut voir un pareto 20% des références produisent 82% du chiffre d'affaires.<br>\n",
    " On peut aussi voir que quasiment 50% des références ne produisent rien.<br>\n",
    " Je conseille de vérifier les prix de ces vins même s'ils ne sont pas forcement en outliers,<br>\n",
    " surtout si on a du stock de ces vins (voir fin du notebook)."
   ]
  },
  {
   "cell_type": "markdown",
   "id": "7fc1e7bc",
   "metadata": {
    "extensions": {
     "jupyter_dashboards": {
      "version": 1,
      "views": {
       "grid_default": {},
       "report_default": {}
      }
     }
    }
   },
   "source": [
    "### Chiffre d'affaires réalisé en ligne"
   ]
  },
  {
   "cell_type": "code",
   "execution_count": 6,
   "id": "affa8d32",
   "metadata": {
    "extensions": {
     "jupyter_dashboards": {
      "version": 1,
      "views": {
       "grid_default": {},
       "report_default": {}
      }
     }
    }
   },
   "outputs": [
    {
     "name": "stdout",
     "output_type": "stream",
     "text": [
      "70568.6 euros de chiffre d'affaires web\n"
     ]
    }
   ],
   "source": [
    "dataweb = data[data['onsale_web'] ==1]\n",
    "print(round(dataweb['CA'].sum(),2),\"euros de chiffre d'affaires web\")\n",
    "\n",
    "#nettoyage memoire\n",
    "del dataweb"
   ]
  },
  {
   "cell_type": "markdown",
   "id": "22dccabf",
   "metadata": {
    "extensions": {
     "jupyter_dashboards": {
      "version": 1,
      "views": {
       "grid_default": {},
       "report_default": {}
      }
     }
    }
   },
   "source": [
    "### Recherche des valeurs aberrantes"
   ]
  },
  {
   "cell_type": "markdown",
   "id": "fe030987",
   "metadata": {
    "extensions": {
     "jupyter_dashboards": {
      "version": 1,
      "views": {
       "grid_default": {},
       "report_default": {}
      }
     }
    }
   },
   "source": [
    "### Analyse graphique des valeurs aberrantes"
   ]
  },
  {
   "cell_type": "code",
   "execution_count": 7,
   "id": "e68b6d1d",
   "metadata": {
    "extensions": {
     "jupyter_dashboards": {
      "version": 1,
      "views": {
       "grid_default": {},
       "report_default": {}
      }
     }
    }
   },
   "outputs": [
    {
     "data": {
      "image/png": "[encoded data removed]",
      "text/plain": [
       "<Figure size 1200x600 with 2 Axes>"
      ]
     },
     "metadata": {},
     "output_type": "display_data"
    }
   ],
   "source": [
    "#theme visuel du graphe\n",
    "sns.set_theme(style='darkgrid')\n",
    "\n",
    "#creation objet pyplot figure et axe (en mode OOP)\n",
    "fig , ax = plt.subplots(1,2)\n",
    "\n",
    "#agrandissement taille figure\n",
    "fig.set_size_inches(12, 6)\n",
    "\n",
    "#creation d'une boite à moustache\n",
    "ax[0].boxplot(data['price']) \n",
    "ax[0].set_title('boîte à moustache des prix',fontsize=20)\n",
    "ax[0].set_ylabel('prix')\n",
    "\n",
    "# creation d'un histogramme\n",
    "ax[1].hist(data['price'])\n",
    "ax[1].set_title('histogramme des prix',fontsize=20)\n",
    "ax[1].plot([72,72],[500,0],c='red')\n",
    "ax[1].set_xlabel('prix')\n",
    "ax[1].set_ylabel('nombre de référence')\n",
    "    \n",
    "#pas utile sur jupyter mais j'aime bien\n",
    "plt.show()\n",
    "\n",
    "#nettoyage memoire:\n",
    "del fig,ax"
   ]
  },
  {
   "cell_type": "markdown",
   "id": "3f155f50",
   "metadata": {
    "extensions": {
     "jupyter_dashboards": {
      "version": 1,
      "views": {
       "grid_default": {},
       "report_default": {}
      }
     }
    }
   },
   "source": [
    "On peut voir des outliers au dessus de 72 €"
   ]
  },
  {
   "cell_type": "markdown",
   "id": "3a80a85d",
   "metadata": {
    "extensions": {
     "jupyter_dashboards": {
      "version": 1,
      "views": {
       "grid_default": {},
       "report_default": {}
      }
     }
    }
   },
   "source": [
    "### Analyse des outliers\n",
    "méthode \"maison\""
   ]
  },
  {
   "cell_type": "code",
   "execution_count": 8,
   "id": "a0318f88",
   "metadata": {
    "extensions": {
     "jupyter_dashboards": {
      "version": 1,
      "views": {
       "grid_default": {},
       "report_default": {}
      }
     }
    }
   },
   "outputs": [
    {
     "data": {
      "text/html": [
       "<div>\n",
       "<style scoped>\n",
       "    .dataframe tbody tr th:only-of-type {\n",
       "        vertical-align: middle;\n",
       "    }\n",
       "\n",
       "    .dataframe tbody tr th {\n",
       "        vertical-align: top;\n",
       "    }\n",
       "\n",
       "    .dataframe thead th {\n",
       "        text-align: right;\n",
       "    }\n",
       "</style>\n",
       "<table border=\"1\" class=\"dataframe\">\n",
       "  <thead>\n",
       "    <tr style=\"text-align: right;\">\n",
       "      <th></th>\n",
       "      <th>product_id</th>\n",
       "      <th>price</th>\n",
       "      <th>CA</th>\n",
       "      <th>post_name</th>\n",
       "    </tr>\n",
       "  </thead>\n",
       "  <tbody>\n",
       "    <tr>\n",
       "      <th>291</th>\n",
       "      <td>4352</td>\n",
       "      <td>225.0</td>\n",
       "      <td>1125.0</td>\n",
       "      <td>champagne-egly-ouriet-grand-cru-millesime-2008</td>\n",
       "    </tr>\n",
       "    <tr>\n",
       "      <th>525</th>\n",
       "      <td>5001</td>\n",
       "      <td>217.5</td>\n",
       "      <td>0.0</td>\n",
       "      <td>david-duband-charmes-chambertin-grand-cru-2014</td>\n",
       "    </tr>\n",
       "    <tr>\n",
       "      <th>692</th>\n",
       "      <td>5892</td>\n",
       "      <td>191.3</td>\n",
       "      <td>573.9</td>\n",
       "      <td>coteaux-champenois-egly-ouriet-ambonnay-rouge-...</td>\n",
       "    </tr>\n",
       "    <tr>\n",
       "      <th>310</th>\n",
       "      <td>4402</td>\n",
       "      <td>176.0</td>\n",
       "      <td>2288.0</td>\n",
       "      <td>cognac-frapin-vip-xo</td>\n",
       "    </tr>\n",
       "    <tr>\n",
       "      <th>657</th>\n",
       "      <td>5767</td>\n",
       "      <td>175.0</td>\n",
       "      <td>0.0</td>\n",
       "      <td>camille-giroud-clos-de-vougeot-2016</td>\n",
       "    </tr>\n",
       "    <tr>\n",
       "      <th>313</th>\n",
       "      <td>4406</td>\n",
       "      <td>157.0</td>\n",
       "      <td>0.0</td>\n",
       "      <td>cognac-frapin-chateau-de-fontpinot-1989-20-ans</td>\n",
       "    </tr>\n",
       "    <tr>\n",
       "      <th>30</th>\n",
       "      <td>4594</td>\n",
       "      <td>144.0</td>\n",
       "      <td>NaN</td>\n",
       "      <td>post_name_vide</td>\n",
       "    </tr>\n",
       "    <tr>\n",
       "      <th>478</th>\n",
       "      <td>4904</td>\n",
       "      <td>137.0</td>\n",
       "      <td>685.0</td>\n",
       "      <td>domaine-des-croix-corton-charlemagne-grand-cru...</td>\n",
       "    </tr>\n",
       "    <tr>\n",
       "      <th>752</th>\n",
       "      <td>6126</td>\n",
       "      <td>135.0</td>\n",
       "      <td>270.0</td>\n",
       "      <td>champagne-gosset-celebris-vintage-2007</td>\n",
       "    </tr>\n",
       "    <tr>\n",
       "      <th>293</th>\n",
       "      <td>4355</td>\n",
       "      <td>126.5</td>\n",
       "      <td>1391.5</td>\n",
       "      <td>champagne-egly-ouriet-grand-cru-brut-blanc-de-...</td>\n",
       "    </tr>\n",
       "    <tr>\n",
       "      <th>615</th>\n",
       "      <td>5612</td>\n",
       "      <td>124.8</td>\n",
       "      <td>0.0</td>\n",
       "      <td>domaine-weinbach-gewurztraminer-gc-furstentum-...</td>\n",
       "    </tr>\n",
       "    <tr>\n",
       "      <th>708</th>\n",
       "      <td>5917</td>\n",
       "      <td>122.0</td>\n",
       "      <td>0.0</td>\n",
       "      <td>wemyss-malts-single-cask-scotch-whisky-choc-n-...</td>\n",
       "    </tr>\n",
       "    <tr>\n",
       "      <th>764</th>\n",
       "      <td>6213</td>\n",
       "      <td>121.0</td>\n",
       "      <td>0.0</td>\n",
       "      <td>domaine-des-comtes-lafon-volnay-1er-cru-santen...</td>\n",
       "    </tr>\n",
       "    <tr>\n",
       "      <th>767</th>\n",
       "      <td>6216</td>\n",
       "      <td>121.0</td>\n",
       "      <td>0.0</td>\n",
       "      <td>domaine-des-comtes-lafon-volnay-1er-cru-champa...</td>\n",
       "    </tr>\n",
       "    <tr>\n",
       "      <th>758</th>\n",
       "      <td>6202</td>\n",
       "      <td>116.4</td>\n",
       "      <td>0.0</td>\n",
       "      <td>domaine-clerget-echezeaux-en-orveaux-2015</td>\n",
       "    </tr>\n",
       "  </tbody>\n",
       "</table>\n",
       "</div>"
      ],
      "text/plain": [
       "     product_id  price      CA  \\\n",
       "291        4352  225.0  1125.0   \n",
       "525        5001  217.5     0.0   \n",
       "692        5892  191.3   573.9   \n",
       "310        4402  176.0  2288.0   \n",
       "657        5767  175.0     0.0   \n",
       "313        4406  157.0     0.0   \n",
       "30         4594  144.0     NaN   \n",
       "478        4904  137.0   685.0   \n",
       "752        6126  135.0   270.0   \n",
       "293        4355  126.5  1391.5   \n",
       "615        5612  124.8     0.0   \n",
       "708        5917  122.0     0.0   \n",
       "764        6213  121.0     0.0   \n",
       "767        6216  121.0     0.0   \n",
       "758        6202  116.4     0.0   \n",
       "\n",
       "                                             post_name  \n",
       "291     champagne-egly-ouriet-grand-cru-millesime-2008  \n",
       "525     david-duband-charmes-chambertin-grand-cru-2014  \n",
       "692  coteaux-champenois-egly-ouriet-ambonnay-rouge-...  \n",
       "310                               cognac-frapin-vip-xo  \n",
       "657                camille-giroud-clos-de-vougeot-2016  \n",
       "313     cognac-frapin-chateau-de-fontpinot-1989-20-ans  \n",
       "30                                      post_name_vide  \n",
       "478  domaine-des-croix-corton-charlemagne-grand-cru...  \n",
       "752             champagne-gosset-celebris-vintage-2007  \n",
       "293  champagne-egly-ouriet-grand-cru-brut-blanc-de-...  \n",
       "615  domaine-weinbach-gewurztraminer-gc-furstentum-...  \n",
       "708  wemyss-malts-single-cask-scotch-whisky-choc-n-...  \n",
       "764  domaine-des-comtes-lafon-volnay-1er-cru-santen...  \n",
       "767  domaine-des-comtes-lafon-volnay-1er-cru-champa...  \n",
       "758          domaine-clerget-echezeaux-en-orveaux-2015  "
      ]
     },
     "metadata": {},
     "output_type": "display_data"
    }
   ],
   "source": [
    "#dataframe ou tableaux avec valeur abérrante en sortie\n",
    "\n",
    "data['score'] = (data['price']-data['price'].mean())/data['price'].std()\n",
    "display(data[abs(data['score'])>ecart_significatif][['product_id','price','CA','post_name']]\n",
    "        .sort_values(by='price',ascending=False).head(15))"
   ]
  },
  {
   "cell_type": "markdown",
   "id": "714d5649",
   "metadata": {
    "extensions": {
     "jupyter_dashboards": {
      "version": 1,
      "views": {
       "grid_default": {},
       "report_default": {}
      }
     }
    }
   },
   "source": [
    "méthode avec la bibliothèque sklearn"
   ]
  },
  {
   "cell_type": "code",
   "execution_count": 9,
   "id": "28e5d4e2",
   "metadata": {
    "extensions": {
     "jupyter_dashboards": {
      "version": 1,
      "views": {
       "grid_default": {},
       "report_default": {}
      }
     }
    }
   },
   "outputs": [
    {
     "data": {
      "text/html": [
       "<div>\n",
       "<style scoped>\n",
       "    .dataframe tbody tr th:only-of-type {\n",
       "        vertical-align: middle;\n",
       "    }\n",
       "\n",
       "    .dataframe tbody tr th {\n",
       "        vertical-align: top;\n",
       "    }\n",
       "\n",
       "    .dataframe thead th {\n",
       "        text-align: right;\n",
       "    }\n",
       "</style>\n",
       "<table border=\"1\" class=\"dataframe\">\n",
       "  <thead>\n",
       "    <tr style=\"text-align: right;\">\n",
       "      <th></th>\n",
       "      <th>product_id</th>\n",
       "      <th>price</th>\n",
       "      <th>CA</th>\n",
       "      <th>post_name</th>\n",
       "    </tr>\n",
       "  </thead>\n",
       "  <tbody>\n",
       "    <tr>\n",
       "      <th>291</th>\n",
       "      <td>4352</td>\n",
       "      <td>225.0</td>\n",
       "      <td>1125.0</td>\n",
       "      <td>champagne-egly-ouriet-grand-cru-millesime-2008</td>\n",
       "    </tr>\n",
       "    <tr>\n",
       "      <th>525</th>\n",
       "      <td>5001</td>\n",
       "      <td>217.5</td>\n",
       "      <td>0.0</td>\n",
       "      <td>david-duband-charmes-chambertin-grand-cru-2014</td>\n",
       "    </tr>\n",
       "    <tr>\n",
       "      <th>692</th>\n",
       "      <td>5892</td>\n",
       "      <td>191.3</td>\n",
       "      <td>573.9</td>\n",
       "      <td>coteaux-champenois-egly-ouriet-ambonnay-rouge-...</td>\n",
       "    </tr>\n",
       "    <tr>\n",
       "      <th>310</th>\n",
       "      <td>4402</td>\n",
       "      <td>176.0</td>\n",
       "      <td>2288.0</td>\n",
       "      <td>cognac-frapin-vip-xo</td>\n",
       "    </tr>\n",
       "    <tr>\n",
       "      <th>657</th>\n",
       "      <td>5767</td>\n",
       "      <td>175.0</td>\n",
       "      <td>0.0</td>\n",
       "      <td>camille-giroud-clos-de-vougeot-2016</td>\n",
       "    </tr>\n",
       "    <tr>\n",
       "      <th>313</th>\n",
       "      <td>4406</td>\n",
       "      <td>157.0</td>\n",
       "      <td>0.0</td>\n",
       "      <td>cognac-frapin-chateau-de-fontpinot-1989-20-ans</td>\n",
       "    </tr>\n",
       "    <tr>\n",
       "      <th>30</th>\n",
       "      <td>4594</td>\n",
       "      <td>144.0</td>\n",
       "      <td>NaN</td>\n",
       "      <td>post_name_vide</td>\n",
       "    </tr>\n",
       "    <tr>\n",
       "      <th>478</th>\n",
       "      <td>4904</td>\n",
       "      <td>137.0</td>\n",
       "      <td>685.0</td>\n",
       "      <td>domaine-des-croix-corton-charlemagne-grand-cru...</td>\n",
       "    </tr>\n",
       "    <tr>\n",
       "      <th>752</th>\n",
       "      <td>6126</td>\n",
       "      <td>135.0</td>\n",
       "      <td>270.0</td>\n",
       "      <td>champagne-gosset-celebris-vintage-2007</td>\n",
       "    </tr>\n",
       "    <tr>\n",
       "      <th>293</th>\n",
       "      <td>4355</td>\n",
       "      <td>126.5</td>\n",
       "      <td>1391.5</td>\n",
       "      <td>champagne-egly-ouriet-grand-cru-brut-blanc-de-...</td>\n",
       "    </tr>\n",
       "    <tr>\n",
       "      <th>615</th>\n",
       "      <td>5612</td>\n",
       "      <td>124.8</td>\n",
       "      <td>0.0</td>\n",
       "      <td>domaine-weinbach-gewurztraminer-gc-furstentum-...</td>\n",
       "    </tr>\n",
       "    <tr>\n",
       "      <th>708</th>\n",
       "      <td>5917</td>\n",
       "      <td>122.0</td>\n",
       "      <td>0.0</td>\n",
       "      <td>wemyss-malts-single-cask-scotch-whisky-choc-n-...</td>\n",
       "    </tr>\n",
       "    <tr>\n",
       "      <th>764</th>\n",
       "      <td>6213</td>\n",
       "      <td>121.0</td>\n",
       "      <td>0.0</td>\n",
       "      <td>domaine-des-comtes-lafon-volnay-1er-cru-santen...</td>\n",
       "    </tr>\n",
       "    <tr>\n",
       "      <th>767</th>\n",
       "      <td>6216</td>\n",
       "      <td>121.0</td>\n",
       "      <td>0.0</td>\n",
       "      <td>domaine-des-comtes-lafon-volnay-1er-cru-champa...</td>\n",
       "    </tr>\n",
       "    <tr>\n",
       "      <th>758</th>\n",
       "      <td>6202</td>\n",
       "      <td>116.4</td>\n",
       "      <td>0.0</td>\n",
       "      <td>domaine-clerget-echezeaux-en-orveaux-2015</td>\n",
       "    </tr>\n",
       "  </tbody>\n",
       "</table>\n",
       "</div>"
      ],
      "text/plain": [
       "     product_id  price      CA  \\\n",
       "291        4352  225.0  1125.0   \n",
       "525        5001  217.5     0.0   \n",
       "692        5892  191.3   573.9   \n",
       "310        4402  176.0  2288.0   \n",
       "657        5767  175.0     0.0   \n",
       "313        4406  157.0     0.0   \n",
       "30         4594  144.0     NaN   \n",
       "478        4904  137.0   685.0   \n",
       "752        6126  135.0   270.0   \n",
       "293        4355  126.5  1391.5   \n",
       "615        5612  124.8     0.0   \n",
       "708        5917  122.0     0.0   \n",
       "764        6213  121.0     0.0   \n",
       "767        6216  121.0     0.0   \n",
       "758        6202  116.4     0.0   \n",
       "\n",
       "                                             post_name  \n",
       "291     champagne-egly-ouriet-grand-cru-millesime-2008  \n",
       "525     david-duband-charmes-chambertin-grand-cru-2014  \n",
       "692  coteaux-champenois-egly-ouriet-ambonnay-rouge-...  \n",
       "310                               cognac-frapin-vip-xo  \n",
       "657                camille-giroud-clos-de-vougeot-2016  \n",
       "313     cognac-frapin-chateau-de-fontpinot-1989-20-ans  \n",
       "30                                      post_name_vide  \n",
       "478  domaine-des-croix-corton-charlemagne-grand-cru...  \n",
       "752             champagne-gosset-celebris-vintage-2007  \n",
       "293  champagne-egly-ouriet-grand-cru-brut-blanc-de-...  \n",
       "615  domaine-weinbach-gewurztraminer-gc-furstentum-...  \n",
       "708  wemyss-malts-single-cask-scotch-whisky-choc-n-...  \n",
       "764  domaine-des-comtes-lafon-volnay-1er-cru-santen...  \n",
       "767  domaine-des-comtes-lafon-volnay-1er-cru-champa...  \n",
       "758          domaine-clerget-echezeaux-en-orveaux-2015  "
      ]
     },
     "metadata": {},
     "output_type": "display_data"
    }
   ],
   "source": [
    "#même chose que précédemment avec la bibliothèque sklearn\n",
    "sc = StandardScaler() #création d'un objet StandartScaler\n",
    "data['score2'] = sc.fit_transform(data[['price']])\n",
    "display(data[abs(data['score2'])>ecart_significatif][['product_id','price','CA','post_name']]\n",
    "        .sort_values(by='price',ascending=False).head(15))"
   ]
  },
  {
   "cell_type": "markdown",
   "id": "92a439f9",
   "metadata": {
    "extensions": {
     "jupyter_dashboards": {
      "version": 1,
      "views": {
       "grid_default": {},
       "report_default": {}
      }
     }
    }
   },
   "source": [
    "avec cette analyse des prix de base , on s'apercoit que les outliers sont en fait des champagnes, des cognacs ,... "
   ]
  },
  {
   "cell_type": "code",
   "execution_count": 10,
   "id": "863506fd",
   "metadata": {
    "extensions": {
     "jupyter_dashboards": {
      "version": 1,
      "views": {
       "grid_default": {},
       "report_default": {}
      }
     }
    }
   },
   "outputs": [],
   "source": [
    "#plus besoin des scores elimination des colonnes\n",
    "data = data.drop(columns='score')\n",
    "data = data.drop(columns='score2')"
   ]
  },
  {
   "cell_type": "markdown",
   "id": "5a66b718",
   "metadata": {
    "extensions": {
     "jupyter_dashboards": {
      "version": 1,
      "views": {
       "grid_default": {},
       "report_default": {}
      }
     }
    }
   },
   "source": [
    "##### pour diminuer le boulot, je propose une classification des vins en fonction de leur type (vin, champagne,etc)"
   ]
  },
  {
   "cell_type": "code",
   "execution_count": 11,
   "id": "03f6686d",
   "metadata": {
    "extensions": {
     "jupyter_dashboards": {
      "version": 1,
      "views": {
       "grid_default": {},
       "report_default": {}
      }
     }
    }
   },
   "outputs": [
    {
     "name": "stdout",
     "output_type": "stream",
     "text": [
      "Help on function categoriser in module fonction.fonction_perso:\n",
      "\n",
      "categoriser(data, nom_col_recherche, mot_cle, nom_categorie, nom_col_categorie='categorie', regex=False)\n",
      "    recherche un mot dans une string et enregistre un nom de categorie dans la colonne categorie (par defaut)\n",
      "    Args:\n",
      "        data : dataframe a categoriser as DataFrame\n",
      "        nom_col_recherche : colonne où rechercher as string\n",
      "        nom_categorie : nom de la catégorie as string\n",
      "        nom_col_categorie : nom de la colonne cat\"egorie a créer as string\n",
      "    Returns :\n",
      "        None\n",
      "\n"
     ]
    }
   ],
   "source": [
    "# pour information :\n",
    "help(perso.categoriser)"
   ]
  },
  {
   "cell_type": "code",
   "execution_count": 12,
   "id": "d9c24bc0",
   "metadata": {
    "extensions": {
     "jupyter_dashboards": {
      "version": 1,
      "views": {
       "grid_default": {},
       "report_default": {}
      }
     }
    },
    "scrolled": false
   },
   "outputs": [],
   "source": [
    "#creation d'une colonne data avec valeurs par defaut 'vin'\n",
    "data['categorie'] = 'vin'\n",
    "\n",
    "#creation d'un dictionnaire avec les mot recherchés et leurs categories\n",
    "dic_categorie = {'grand-cru':'grand-cru',\n",
    "                 'champagne':'champagne',\n",
    "                 '1er-cru':'1er-cru',\n",
    "                 '1cru':'1er-cru',\n",
    "                 '1ercru':'1er-cru',\n",
    "                 'clos':'clos',\n",
    "                 'cognac':'cognac',\n",
    "                 'whisky':'whisky',\n",
    "                 'eau-de-vie':'eau-de-vie',\n",
    "                 'cadeau':'cadeau'\n",
    "                }\n",
    "\n",
    "#changer la categorie en fonction d'un mot contenu dans la chaine de caractere\n",
    "for cle,cat in dic_categorie.items():\n",
    "    perso.categoriser(data,'post_name',cle,cat,regex=False)\n",
    "\n",
    "#affichage des categories trouvées\n",
    "#for cat in data['categorie'].unique():\n",
    "#    display(data[data['categorie'] == cat])\n",
    "    \n",
    "#plus besoin du dictionnaire: effacement en memoire\n",
    "del dic_categorie"
   ]
  },
  {
   "cell_type": "markdown",
   "id": "ff1c7863",
   "metadata": {
    "extensions": {
     "jupyter_dashboards": {
      "version": 1,
      "views": {
       "grid_default": {},
       "report_default": {}
      }
     }
    }
   },
   "source": [
    "#### Affichage graphique des prix aberrants en fonction des categories de vins (3 methodes)\n",
    "méthode avec pandas hist()"
   ]
  },
  {
   "cell_type": "code",
   "execution_count": 13,
   "id": "9ae53f7a",
   "metadata": {
    "extensions": {
     "jupyter_dashboards": {
      "version": 1,
      "views": {
       "grid_default": {},
       "report_default": {}
      }
     }
    }
   },
   "outputs": [
    {
     "name": "stderr",
     "output_type": "stream",
     "text": [
      "/tmp/ipykernel_7043/841595405.py:9: FutureWarning: In a future version of pandas all arguments of DataFrame.pivot will be keyword-only.\n",
      "  data.assign(index=data.groupby('categorie').cumcount()).pivot(\n"
     ]
    },
    {
     "data": {
      "image/png": "[encoded data removed]",
      "text/plain": [
       "<Figure size 1200x800 with 1 Axes>"
      ]
     },
     "metadata": {},
     "output_type": "display_data"
    }
   ],
   "source": [
    "#methode pandas \"pur\"\n",
    "\n",
    "#instruction trouvé la : https://stackoverflow.com/questions/48712274/matplotlib-box-plot-for-each-category\n",
    "\n",
    "#theme ticks\n",
    "sns.set_theme(style='ticks')\n",
    "\n",
    "#affichage avec la methode hist de pandas\n",
    "data.assign(index=data.groupby('categorie').cumcount()).pivot(\n",
    "    'index','categorie','price').plot(kind='box',\n",
    "                                     figsize=(12,8));"
   ]
  },
  {
   "cell_type": "markdown",
   "id": "33d22df2",
   "metadata": {
    "extensions": {
     "jupyter_dashboards": {
      "version": 1,
      "views": {
       "grid_default": {},
       "report_default": {}
      }
     }
    }
   },
   "source": [
    "méthode avec matplotlib"
   ]
  },
  {
   "cell_type": "code",
   "execution_count": 14,
   "id": "230f3512",
   "metadata": {
    "extensions": {
     "jupyter_dashboards": {
      "version": 1,
      "views": {
       "grid_default": {},
       "report_default": {}
      }
     }
    }
   },
   "outputs": [
    {
     "data": {
      "image/png": "[encoded data removed]",
      "text/plain": [
       "<Figure size 1200x800 with 1 Axes>"
      ]
     },
     "metadata": {},
     "output_type": "display_data"
    }
   ],
   "source": [
    "#methode avec matplotlib\n",
    "\n",
    "#création figure matplotlib\n",
    "sns.set_theme(style='whitegrid')\n",
    "fig, ax = plt.subplots()\n",
    "#modification tailles graphique\n",
    "fig.set_size_inches(12, 8)\n",
    "#titre du graphique\n",
    "ax.set_title('boxplot matplotlib')\n",
    "\n",
    "\n",
    "#création des datas pour matplotlib\n",
    "databoxplot =[]\n",
    "listebox=[]\n",
    "\n",
    "for cat in data['categorie'].unique().tolist():\n",
    "    databoxplot.append(data[data['categorie']==cat]['price'])\n",
    "    listebox.append(cat)    \n",
    "\n",
    "#affichage du graphe \n",
    "ax.boxplot(databoxplot,labels=listebox)\n",
    "\n",
    "#affichage de la fenetre du graphique\n",
    "plt.show()\n",
    "\n",
    "#nettoyage memoire\n",
    "del databoxplot,listebox,fig,ax"
   ]
  },
  {
   "cell_type": "markdown",
   "id": "63c313a0",
   "metadata": {
    "extensions": {
     "jupyter_dashboards": {
      "version": 1,
      "views": {
       "grid_default": {},
       "report_default": {}
      }
     }
    }
   },
   "source": [
    "méthode avec Seaborn"
   ]
  },
  {
   "cell_type": "code",
   "execution_count": 15,
   "id": "94541a2d",
   "metadata": {
    "extensions": {
     "jupyter_dashboards": {
      "version": 1,
      "views": {
       "grid_default": {},
       "report_default": {}
      }
     }
    }
   },
   "outputs": [
    {
     "data": {
      "image/png": "[encoded data removed]",
      "text/plain": [
       "<Figure size 1200x800 with 1 Axes>"
      ]
     },
     "metadata": {},
     "output_type": "display_data"
    }
   ],
   "source": [
    "# methode avec seaborn\n",
    "#theme de la figure\n",
    "sns.set_theme(style='darkgrid')\n",
    "\n",
    "#creation d'objet matplotlib\n",
    "fig , ax = plt.subplots(1,1)\n",
    "\n",
    "#agrandissement figure\n",
    "fig.set_size_inches(12, 8)\n",
    "\n",
    "#creation du graphe avec seaborn\n",
    "ax.set_title('boxplot des prix',fontsize=20)\n",
    "sns.boxplot(x=\"categorie\", y=\"price\", data=data, ax=ax)\n",
    "ax.set_ylabel('prix')\n",
    "\n",
    "#affichage fenetre\n",
    "plt.show()\n",
    "\n",
    "#nettoyage memoire\n",
    "del fig,ax"
   ]
  },
  {
   "cell_type": "markdown",
   "id": "151fb6d0",
   "metadata": {
    "extensions": {
     "jupyter_dashboards": {
      "version": 1,
      "views": {
       "grid_default": {},
       "report_default": {}
      }
     }
    }
   },
   "source": [
    "#### Affichage graphique des ventes aberrantes"
   ]
  },
  {
   "cell_type": "code",
   "execution_count": 16,
   "id": "b27c90d8",
   "metadata": {
    "extensions": {
     "jupyter_dashboards": {
      "version": 1,
      "views": {
       "grid_default": {},
       "report_default": {}
      }
     }
    }
   },
   "outputs": [
    {
     "data": {
      "image/png": "[encoded data removed]",
      "text/plain": [
       "<Figure size 1200x800 with 1 Axes>"
      ]
     },
     "metadata": {},
     "output_type": "display_data"
    }
   ],
   "source": [
    "# methode avec seaborn\n",
    "#theme de la figure\n",
    "sns.set_theme(style='darkgrid')\n",
    "\n",
    "#creation d'objet matplotlib\n",
    "fig , ax = plt.subplots(1,1)\n",
    "\n",
    "#agrandissement figure\n",
    "fig.set_size_inches(12, 8)\n",
    "\n",
    "#creation du graphe avec seaborn\n",
    "ax.set_title('boxplot des ventes',fontsize=20)\n",
    "ax = sns.boxplot(x=\"categorie\", y=\"total_sales\", data=data)\n",
    "\n",
    "#affichage fenetre\n",
    "plt.show()\n",
    "\n",
    "#nettoyage memoire\n",
    "del fig,ax"
   ]
  },
  {
   "cell_type": "markdown",
   "id": "01ab029a",
   "metadata": {
    "extensions": {
     "jupyter_dashboards": {
      "version": 1,
      "views": {
       "grid_default": {},
       "report_default": {}
      }
     }
    }
   },
   "source": [
    "#### affichage des ventes sans les ventes nulles"
   ]
  },
  {
   "cell_type": "code",
   "execution_count": 17,
   "id": "caabc9d6",
   "metadata": {
    "extensions": {
     "jupyter_dashboards": {
      "version": 1,
      "views": {
       "grid_default": {},
       "report_default": {}
      }
     }
    }
   },
   "outputs": [
    {
     "data": {
      "image/png": "[encoded data removed]",
      "text/plain": [
       "<Figure size 1200x800 with 1 Axes>"
      ]
     },
     "metadata": {},
     "output_type": "display_data"
    }
   ],
   "source": [
    "#enlevé les valeurs NaN\n",
    "datatemp = data[~data['total_sales'].isna()]\n",
    "#enlevé les valeurs nulles\n",
    "datatemp = data[data['total_sales']!=0]\n",
    "\n",
    "# methode avec seaborn\n",
    "#theme de la figure\n",
    "sns.set_theme(style='darkgrid')\n",
    "\n",
    "#creation d'objet matplotlib\n",
    "fig , ax = plt.subplots(1,1)\n",
    "\n",
    "#agrandissement figure\n",
    "fig.set_size_inches(12, 8)\n",
    "\n",
    "#creation du graphe avec seaborn\n",
    "ax.set_title('boxplot des ventes sans les ventes nulles',fontsize=20)\n",
    "ax = sns.boxplot(x=\"categorie\", y=\"total_sales\", data=datatemp)\n",
    "\n",
    "#affichage fenetre\n",
    "plt.show()\n",
    "\n",
    "#nettoyage memoire\n",
    "del fig,ax,datatemp"
   ]
  },
  {
   "cell_type": "markdown",
   "id": "085a6ea5",
   "metadata": {
    "extensions": {
     "jupyter_dashboards": {
      "version": 1,
      "views": {
       "grid_default": {},
       "report_default": {}
      }
     }
    }
   },
   "source": [
    "#### détection des valeurs aberrantes en fonction des categories"
   ]
  },
  {
   "cell_type": "code",
   "execution_count": 18,
   "id": "0c3235d6",
   "metadata": {
    "extensions": {
     "jupyter_dashboards": {
      "version": 1,
      "views": {
       "grid_default": {},
       "report_default": {}
      }
     }
    },
    "scrolled": false
   },
   "outputs": [
    {
     "name": "stdout",
     "output_type": "stream",
     "text": [
      " valeur du prix aberrante dans la categorie vin\n"
     ]
    },
    {
     "data": {
      "text/html": [
       "<div>\n",
       "<style scoped>\n",
       "    .dataframe tbody tr th:only-of-type {\n",
       "        vertical-align: middle;\n",
       "    }\n",
       "\n",
       "    .dataframe tbody tr th {\n",
       "        vertical-align: top;\n",
       "    }\n",
       "\n",
       "    .dataframe thead th {\n",
       "        text-align: right;\n",
       "    }\n",
       "</style>\n",
       "<table border=\"1\" class=\"dataframe\">\n",
       "  <thead>\n",
       "    <tr style=\"text-align: right;\">\n",
       "      <th></th>\n",
       "      <th>product_id</th>\n",
       "      <th>price</th>\n",
       "      <th>total_sales</th>\n",
       "      <th>stock_quantity</th>\n",
       "      <th>post_name</th>\n",
       "    </tr>\n",
       "  </thead>\n",
       "  <tbody>\n",
       "    <tr>\n",
       "      <th>692</th>\n",
       "      <td>5892</td>\n",
       "      <td>191.3</td>\n",
       "      <td>3.0</td>\n",
       "      <td>10</td>\n",
       "      <td>coteaux-champenois-egly-ouriet-ambonnay-rouge-...</td>\n",
       "    </tr>\n",
       "    <tr>\n",
       "      <th>30</th>\n",
       "      <td>4594</td>\n",
       "      <td>144.0</td>\n",
       "      <td>NaN</td>\n",
       "      <td>0</td>\n",
       "      <td>post_name_vide</td>\n",
       "    </tr>\n",
       "    <tr>\n",
       "      <th>615</th>\n",
       "      <td>5612</td>\n",
       "      <td>124.8</td>\n",
       "      <td>0.0</td>\n",
       "      <td>12</td>\n",
       "      <td>domaine-weinbach-gewurztraminer-gc-furstentum-...</td>\n",
       "    </tr>\n",
       "    <tr>\n",
       "      <th>758</th>\n",
       "      <td>6202</td>\n",
       "      <td>116.4</td>\n",
       "      <td>0.0</td>\n",
       "      <td>14</td>\n",
       "      <td>domaine-clerget-echezeaux-en-orveaux-2015</td>\n",
       "    </tr>\n",
       "    <tr>\n",
       "      <th>707</th>\n",
       "      <td>5916</td>\n",
       "      <td>93.0</td>\n",
       "      <td>0.0</td>\n",
       "      <td>3</td>\n",
       "      <td>wemyss-malts-single-cask-chocolate-moka-cake</td>\n",
       "    </tr>\n",
       "    <tr>\n",
       "      <th>55</th>\n",
       "      <td>6324</td>\n",
       "      <td>92.0</td>\n",
       "      <td>NaN</td>\n",
       "      <td>18</td>\n",
       "      <td>post_name_vide</td>\n",
       "    </tr>\n",
       "    <tr>\n",
       "      <th>605</th>\n",
       "      <td>5565</td>\n",
       "      <td>92.0</td>\n",
       "      <td>0.0</td>\n",
       "      <td>0</td>\n",
       "      <td>tempier-bandol-cabassaou-2017</td>\n",
       "    </tr>\n",
       "    <tr>\n",
       "      <th>19</th>\n",
       "      <td>4055</td>\n",
       "      <td>86.1</td>\n",
       "      <td>NaN</td>\n",
       "      <td>0</td>\n",
       "      <td>post_name_vide</td>\n",
       "    </tr>\n",
       "    <tr>\n",
       "      <th>47</th>\n",
       "      <td>5070</td>\n",
       "      <td>84.7</td>\n",
       "      <td>NaN</td>\n",
       "      <td>0</td>\n",
       "      <td>post_name_vide</td>\n",
       "    </tr>\n",
       "    <tr>\n",
       "      <th>10</th>\n",
       "      <td>4046</td>\n",
       "      <td>80.0</td>\n",
       "      <td>6.0</td>\n",
       "      <td>0</td>\n",
       "      <td>pierre-gaillard-cote-rotie-rose-pourpre-2017</td>\n",
       "    </tr>\n",
       "    <tr>\n",
       "      <th>523</th>\n",
       "      <td>4996</td>\n",
       "      <td>78.0</td>\n",
       "      <td>0.0</td>\n",
       "      <td>33</td>\n",
       "      <td>domaine-peyre-rose-marlene-n3-2008</td>\n",
       "    </tr>\n",
       "    <tr>\n",
       "      <th>522</th>\n",
       "      <td>4995</td>\n",
       "      <td>78.0</td>\n",
       "      <td>0.0</td>\n",
       "      <td>0</td>\n",
       "      <td>domaine-peyre-rose-oro-2002</td>\n",
       "    </tr>\n",
       "    <tr>\n",
       "      <th>521</th>\n",
       "      <td>4994</td>\n",
       "      <td>78.0</td>\n",
       "      <td>0.0</td>\n",
       "      <td>7</td>\n",
       "      <td>domaine-peyre-rose-syrah-leone-2008</td>\n",
       "    </tr>\n",
       "    <tr>\n",
       "      <th>126</th>\n",
       "      <td>4073</td>\n",
       "      <td>77.8</td>\n",
       "      <td>0.0</td>\n",
       "      <td>11</td>\n",
       "      <td>chateau-de-vaudieu-chateauneuf-du-pape-lavenue...</td>\n",
       "    </tr>\n",
       "    <tr>\n",
       "      <th>748</th>\n",
       "      <td>6106</td>\n",
       "      <td>74.8</td>\n",
       "      <td>0.0</td>\n",
       "      <td>15</td>\n",
       "      <td>stephane-tissot-chateau-chalon-2011</td>\n",
       "    </tr>\n",
       "    <tr>\n",
       "      <th>715</th>\n",
       "      <td>5951</td>\n",
       "      <td>74.5</td>\n",
       "      <td>0.0</td>\n",
       "      <td>6</td>\n",
       "      <td>domaine-de-vaccelli-aop-ajaccio-rouge-granit-1...</td>\n",
       "    </tr>\n",
       "    <tr>\n",
       "      <th>23</th>\n",
       "      <td>4209</td>\n",
       "      <td>73.5</td>\n",
       "      <td>NaN</td>\n",
       "      <td>0</td>\n",
       "      <td>post_name_vide</td>\n",
       "    </tr>\n",
       "    <tr>\n",
       "      <th>647</th>\n",
       "      <td>5741</td>\n",
       "      <td>73.3</td>\n",
       "      <td>0.0</td>\n",
       "      <td>0</td>\n",
       "      <td>clerget-chambolle-musigny-charmes-2015</td>\n",
       "    </tr>\n",
       "    <tr>\n",
       "      <th>20</th>\n",
       "      <td>4090</td>\n",
       "      <td>73.0</td>\n",
       "      <td>NaN</td>\n",
       "      <td>0</td>\n",
       "      <td>post_name_vide</td>\n",
       "    </tr>\n",
       "    <tr>\n",
       "      <th>782</th>\n",
       "      <td>6568</td>\n",
       "      <td>72.0</td>\n",
       "      <td>0.0</td>\n",
       "      <td>19</td>\n",
       "      <td>decelle-villa-chambolle-musigny-2017</td>\n",
       "    </tr>\n",
       "    <tr>\n",
       "      <th>732</th>\n",
       "      <td>6041</td>\n",
       "      <td>71.7</td>\n",
       "      <td>0.0</td>\n",
       "      <td>4</td>\n",
       "      <td>chateau-de-vaudieu-chateauneuf-du-pape-amiral-...</td>\n",
       "    </tr>\n",
       "    <tr>\n",
       "      <th>728</th>\n",
       "      <td>5968</td>\n",
       "      <td>71.5</td>\n",
       "      <td>0.0</td>\n",
       "      <td>18</td>\n",
       "      <td>zind-humbrecht-pinot-gris-windsbuhl-2013</td>\n",
       "    </tr>\n",
       "    <tr>\n",
       "      <th>273</th>\n",
       "      <td>4286</td>\n",
       "      <td>69.8</td>\n",
       "      <td>10.0</td>\n",
       "      <td>4</td>\n",
       "      <td>hauvette-baux-provence-amethyste-2017</td>\n",
       "    </tr>\n",
       "    <tr>\n",
       "      <th>821</th>\n",
       "      <td>7025</td>\n",
       "      <td>69.0</td>\n",
       "      <td>0.0</td>\n",
       "      <td>2</td>\n",
       "      <td>jamet-cote-rotie-fructus-voluptas-2018</td>\n",
       "    </tr>\n",
       "    <tr>\n",
       "      <th>341</th>\n",
       "      <td>4617</td>\n",
       "      <td>67.5</td>\n",
       "      <td>0.0</td>\n",
       "      <td>1</td>\n",
       "      <td>alphonse-mellot-sancerre-rouge-generation-xix-...</td>\n",
       "    </tr>\n",
       "    <tr>\n",
       "      <th>548</th>\n",
       "      <td>5069</td>\n",
       "      <td>65.0</td>\n",
       "      <td>0.0</td>\n",
       "      <td>2</td>\n",
       "      <td>albert-mann-pinot-noir-les-saintes-claires-2017</td>\n",
       "    </tr>\n",
       "    <tr>\n",
       "      <th>686</th>\n",
       "      <td>5820</td>\n",
       "      <td>63.5</td>\n",
       "      <td>0.0</td>\n",
       "      <td>7</td>\n",
       "      <td>maison-trimbach-riesling-cuvee-frederic-emile-...</td>\n",
       "    </tr>\n",
       "    <tr>\n",
       "      <th>614</th>\n",
       "      <td>5611</td>\n",
       "      <td>63.4</td>\n",
       "      <td>1.0</td>\n",
       "      <td>1</td>\n",
       "      <td>domaine-weinbach-riesling-schlossberg-catherin...</td>\n",
       "    </tr>\n",
       "    <tr>\n",
       "      <th>749</th>\n",
       "      <td>6107</td>\n",
       "      <td>62.4</td>\n",
       "      <td>0.0</td>\n",
       "      <td>4</td>\n",
       "      <td>stephane-tissot-arbois-vin-jaune-en-spois-2011</td>\n",
       "    </tr>\n",
       "    <tr>\n",
       "      <th>323</th>\n",
       "      <td>4597</td>\n",
       "      <td>61.6</td>\n",
       "      <td>2.0</td>\n",
       "      <td>0</td>\n",
       "      <td>marc-colin-et-fils-chassagne-montrachet-blanc-...</td>\n",
       "    </tr>\n",
       "    <tr>\n",
       "      <th>589</th>\n",
       "      <td>5523</td>\n",
       "      <td>60.4</td>\n",
       "      <td>1.0</td>\n",
       "      <td>16</td>\n",
       "      <td>domaine-chambeyron-cote-rotie-lancement-2017</td>\n",
       "    </tr>\n",
       "    <tr>\n",
       "      <th>8</th>\n",
       "      <td>4043</td>\n",
       "      <td>60.0</td>\n",
       "      <td>3.0</td>\n",
       "      <td>12</td>\n",
       "      <td>pierre-gaillard-cote-rotie-esprit-blond-2017</td>\n",
       "    </tr>\n",
       "    <tr>\n",
       "      <th>122</th>\n",
       "      <td>4069</td>\n",
       "      <td>60.0</td>\n",
       "      <td>0.0</td>\n",
       "      <td>0</td>\n",
       "      <td>gilles-robin-hermitage-2012</td>\n",
       "    </tr>\n",
       "    <tr>\n",
       "      <th>546</th>\n",
       "      <td>5067</td>\n",
       "      <td>59.9</td>\n",
       "      <td>16.0</td>\n",
       "      <td>0</td>\n",
       "      <td>albert-mann-pinot-noir-grand-h-2017</td>\n",
       "    </tr>\n",
       "    <tr>\n",
       "      <th>547</th>\n",
       "      <td>5068</td>\n",
       "      <td>59.9</td>\n",
       "      <td>0.0</td>\n",
       "      <td>1</td>\n",
       "      <td>albert-mann-pinot-noir-grand-p-2017</td>\n",
       "    </tr>\n",
       "    <tr>\n",
       "      <th>609</th>\n",
       "      <td>5574</td>\n",
       "      <td>59.6</td>\n",
       "      <td>0.0</td>\n",
       "      <td>9</td>\n",
       "      <td>domaine-huet-vouvray-le-mont-moelleux-premiere...</td>\n",
       "    </tr>\n",
       "    <tr>\n",
       "      <th>528</th>\n",
       "      <td>5004</td>\n",
       "      <td>59.4</td>\n",
       "      <td>2.0</td>\n",
       "      <td>1</td>\n",
       "      <td>david-duband-vosne-romanee-2017</td>\n",
       "    </tr>\n",
       "  </tbody>\n",
       "</table>\n",
       "</div>"
      ],
      "text/plain": [
       "     product_id  price  total_sales  stock_quantity  \\\n",
       "692        5892  191.3          3.0              10   \n",
       "30         4594  144.0          NaN               0   \n",
       "615        5612  124.8          0.0              12   \n",
       "758        6202  116.4          0.0              14   \n",
       "707        5916   93.0          0.0               3   \n",
       "55         6324   92.0          NaN              18   \n",
       "605        5565   92.0          0.0               0   \n",
       "19         4055   86.1          NaN               0   \n",
       "47         5070   84.7          NaN               0   \n",
       "10         4046   80.0          6.0               0   \n",
       "523        4996   78.0          0.0              33   \n",
       "522        4995   78.0          0.0               0   \n",
       "521        4994   78.0          0.0               7   \n",
       "126        4073   77.8          0.0              11   \n",
       "748        6106   74.8          0.0              15   \n",
       "715        5951   74.5          0.0               6   \n",
       "23         4209   73.5          NaN               0   \n",
       "647        5741   73.3          0.0               0   \n",
       "20         4090   73.0          NaN               0   \n",
       "782        6568   72.0          0.0              19   \n",
       "732        6041   71.7          0.0               4   \n",
       "728        5968   71.5          0.0              18   \n",
       "273        4286   69.8         10.0               4   \n",
       "821        7025   69.0          0.0               2   \n",
       "341        4617   67.5          0.0               1   \n",
       "548        5069   65.0          0.0               2   \n",
       "686        5820   63.5          0.0               7   \n",
       "614        5611   63.4          1.0               1   \n",
       "749        6107   62.4          0.0               4   \n",
       "323        4597   61.6          2.0               0   \n",
       "589        5523   60.4          1.0              16   \n",
       "8          4043   60.0          3.0              12   \n",
       "122        4069   60.0          0.0               0   \n",
       "546        5067   59.9         16.0               0   \n",
       "547        5068   59.9          0.0               1   \n",
       "609        5574   59.6          0.0               9   \n",
       "528        5004   59.4          2.0               1   \n",
       "\n",
       "                                             post_name  \n",
       "692  coteaux-champenois-egly-ouriet-ambonnay-rouge-...  \n",
       "30                                      post_name_vide  \n",
       "615  domaine-weinbach-gewurztraminer-gc-furstentum-...  \n",
       "758          domaine-clerget-echezeaux-en-orveaux-2015  \n",
       "707       wemyss-malts-single-cask-chocolate-moka-cake  \n",
       "55                                      post_name_vide  \n",
       "605                      tempier-bandol-cabassaou-2017  \n",
       "19                                      post_name_vide  \n",
       "47                                      post_name_vide  \n",
       "10        pierre-gaillard-cote-rotie-rose-pourpre-2017  \n",
       "523                 domaine-peyre-rose-marlene-n3-2008  \n",
       "522                        domaine-peyre-rose-oro-2002  \n",
       "521                domaine-peyre-rose-syrah-leone-2008  \n",
       "126  chateau-de-vaudieu-chateauneuf-du-pape-lavenue...  \n",
       "748                stephane-tissot-chateau-chalon-2011  \n",
       "715  domaine-de-vaccelli-aop-ajaccio-rouge-granit-1...  \n",
       "23                                      post_name_vide  \n",
       "647             clerget-chambolle-musigny-charmes-2015  \n",
       "20                                      post_name_vide  \n",
       "782               decelle-villa-chambolle-musigny-2017  \n",
       "732  chateau-de-vaudieu-chateauneuf-du-pape-amiral-...  \n",
       "728           zind-humbrecht-pinot-gris-windsbuhl-2013  \n",
       "273              hauvette-baux-provence-amethyste-2017  \n",
       "821             jamet-cote-rotie-fructus-voluptas-2018  \n",
       "341  alphonse-mellot-sancerre-rouge-generation-xix-...  \n",
       "548    albert-mann-pinot-noir-les-saintes-claires-2017  \n",
       "686  maison-trimbach-riesling-cuvee-frederic-emile-...  \n",
       "614  domaine-weinbach-riesling-schlossberg-catherin...  \n",
       "749     stephane-tissot-arbois-vin-jaune-en-spois-2011  \n",
       "323  marc-colin-et-fils-chassagne-montrachet-blanc-...  \n",
       "589       domaine-chambeyron-cote-rotie-lancement-2017  \n",
       "8         pierre-gaillard-cote-rotie-esprit-blond-2017  \n",
       "122                        gilles-robin-hermitage-2012  \n",
       "546                albert-mann-pinot-noir-grand-h-2017  \n",
       "547                albert-mann-pinot-noir-grand-p-2017  \n",
       "609  domaine-huet-vouvray-le-mont-moelleux-premiere...  \n",
       "528                    david-duband-vosne-romanee-2017  "
      ]
     },
     "metadata": {},
     "output_type": "display_data"
    },
    {
     "name": "stdout",
     "output_type": "stream",
     "text": [
      " valeur du prix aberrante dans la categorie clos\n"
     ]
    },
    {
     "data": {
      "text/html": [
       "<div>\n",
       "<style scoped>\n",
       "    .dataframe tbody tr th:only-of-type {\n",
       "        vertical-align: middle;\n",
       "    }\n",
       "\n",
       "    .dataframe tbody tr th {\n",
       "        vertical-align: top;\n",
       "    }\n",
       "\n",
       "    .dataframe thead th {\n",
       "        text-align: right;\n",
       "    }\n",
       "</style>\n",
       "<table border=\"1\" class=\"dataframe\">\n",
       "  <thead>\n",
       "    <tr style=\"text-align: right;\">\n",
       "      <th></th>\n",
       "      <th>product_id</th>\n",
       "      <th>price</th>\n",
       "      <th>total_sales</th>\n",
       "      <th>stock_quantity</th>\n",
       "      <th>post_name</th>\n",
       "    </tr>\n",
       "  </thead>\n",
       "  <tbody>\n",
       "    <tr>\n",
       "      <th>657</th>\n",
       "      <td>5767</td>\n",
       "      <td>175.0</td>\n",
       "      <td>0.0</td>\n",
       "      <td>12</td>\n",
       "      <td>camille-giroud-clos-de-vougeot-2016</td>\n",
       "    </tr>\n",
       "  </tbody>\n",
       "</table>\n",
       "</div>"
      ],
      "text/plain": [
       "     product_id  price  total_sales  stock_quantity  \\\n",
       "657        5767  175.0          0.0              12   \n",
       "\n",
       "                               post_name  \n",
       "657  camille-giroud-clos-de-vougeot-2016  "
      ]
     },
     "metadata": {},
     "output_type": "display_data"
    },
    {
     "name": "stdout",
     "output_type": "stream",
     "text": [
      " valeur du prix aberrante dans la categorie grand-cru\n"
     ]
    },
    {
     "data": {
      "text/html": [
       "<div>\n",
       "<style scoped>\n",
       "    .dataframe tbody tr th:only-of-type {\n",
       "        vertical-align: middle;\n",
       "    }\n",
       "\n",
       "    .dataframe tbody tr th {\n",
       "        vertical-align: top;\n",
       "    }\n",
       "\n",
       "    .dataframe thead th {\n",
       "        text-align: right;\n",
       "    }\n",
       "</style>\n",
       "<table border=\"1\" class=\"dataframe\">\n",
       "  <thead>\n",
       "    <tr style=\"text-align: right;\">\n",
       "      <th></th>\n",
       "      <th>product_id</th>\n",
       "      <th>price</th>\n",
       "      <th>total_sales</th>\n",
       "      <th>stock_quantity</th>\n",
       "      <th>post_name</th>\n",
       "    </tr>\n",
       "  </thead>\n",
       "  <tbody>\n",
       "    <tr>\n",
       "      <th>525</th>\n",
       "      <td>5001</td>\n",
       "      <td>217.5</td>\n",
       "      <td>0.0</td>\n",
       "      <td>20</td>\n",
       "      <td>david-duband-charmes-chambertin-grand-cru-2014</td>\n",
       "    </tr>\n",
       "  </tbody>\n",
       "</table>\n",
       "</div>"
      ],
      "text/plain": [
       "     product_id  price  total_sales  stock_quantity  \\\n",
       "525        5001  217.5          0.0              20   \n",
       "\n",
       "                                          post_name  \n",
       "525  david-duband-charmes-chambertin-grand-cru-2014  "
      ]
     },
     "metadata": {},
     "output_type": "display_data"
    },
    {
     "name": "stdout",
     "output_type": "stream",
     "text": [
      " valeur du prix aberrante dans la categorie champagne\n"
     ]
    },
    {
     "data": {
      "text/html": [
       "<div>\n",
       "<style scoped>\n",
       "    .dataframe tbody tr th:only-of-type {\n",
       "        vertical-align: middle;\n",
       "    }\n",
       "\n",
       "    .dataframe tbody tr th {\n",
       "        vertical-align: top;\n",
       "    }\n",
       "\n",
       "    .dataframe thead th {\n",
       "        text-align: right;\n",
       "    }\n",
       "</style>\n",
       "<table border=\"1\" class=\"dataframe\">\n",
       "  <thead>\n",
       "    <tr style=\"text-align: right;\">\n",
       "      <th></th>\n",
       "      <th>product_id</th>\n",
       "      <th>price</th>\n",
       "      <th>total_sales</th>\n",
       "      <th>stock_quantity</th>\n",
       "      <th>post_name</th>\n",
       "    </tr>\n",
       "  </thead>\n",
       "  <tbody>\n",
       "    <tr>\n",
       "      <th>291</th>\n",
       "      <td>4352</td>\n",
       "      <td>225.0</td>\n",
       "      <td>5.0</td>\n",
       "      <td>0</td>\n",
       "      <td>champagne-egly-ouriet-grand-cru-millesime-2008</td>\n",
       "    </tr>\n",
       "  </tbody>\n",
       "</table>\n",
       "</div>"
      ],
      "text/plain": [
       "     product_id  price  total_sales  stock_quantity  \\\n",
       "291        4352  225.0          5.0               0   \n",
       "\n",
       "                                          post_name  \n",
       "291  champagne-egly-ouriet-grand-cru-millesime-2008  "
      ]
     },
     "metadata": {},
     "output_type": "display_data"
    },
    {
     "name": "stdout",
     "output_type": "stream",
     "text": [
      " valeur du prix aberrante dans la categorie 1er-cru\n"
     ]
    },
    {
     "data": {
      "text/html": [
       "<div>\n",
       "<style scoped>\n",
       "    .dataframe tbody tr th:only-of-type {\n",
       "        vertical-align: middle;\n",
       "    }\n",
       "\n",
       "    .dataframe tbody tr th {\n",
       "        vertical-align: top;\n",
       "    }\n",
       "\n",
       "    .dataframe thead th {\n",
       "        text-align: right;\n",
       "    }\n",
       "</style>\n",
       "<table border=\"1\" class=\"dataframe\">\n",
       "  <thead>\n",
       "    <tr style=\"text-align: right;\">\n",
       "      <th></th>\n",
       "      <th>product_id</th>\n",
       "      <th>price</th>\n",
       "      <th>total_sales</th>\n",
       "      <th>stock_quantity</th>\n",
       "      <th>post_name</th>\n",
       "    </tr>\n",
       "  </thead>\n",
       "  <tbody>\n",
       "  </tbody>\n",
       "</table>\n",
       "</div>"
      ],
      "text/plain": [
       "Empty DataFrame\n",
       "Columns: [product_id, price, total_sales, stock_quantity, post_name]\n",
       "Index: []"
      ]
     },
     "metadata": {},
     "output_type": "display_data"
    },
    {
     "name": "stdout",
     "output_type": "stream",
     "text": [
      " valeur du prix aberrante dans la categorie whisky\n"
     ]
    },
    {
     "data": {
      "text/html": [
       "<div>\n",
       "<style scoped>\n",
       "    .dataframe tbody tr th:only-of-type {\n",
       "        vertical-align: middle;\n",
       "    }\n",
       "\n",
       "    .dataframe tbody tr th {\n",
       "        vertical-align: top;\n",
       "    }\n",
       "\n",
       "    .dataframe thead th {\n",
       "        text-align: right;\n",
       "    }\n",
       "</style>\n",
       "<table border=\"1\" class=\"dataframe\">\n",
       "  <thead>\n",
       "    <tr style=\"text-align: right;\">\n",
       "      <th></th>\n",
       "      <th>product_id</th>\n",
       "      <th>price</th>\n",
       "      <th>total_sales</th>\n",
       "      <th>stock_quantity</th>\n",
       "      <th>post_name</th>\n",
       "    </tr>\n",
       "  </thead>\n",
       "  <tbody>\n",
       "    <tr>\n",
       "      <th>708</th>\n",
       "      <td>5917</td>\n",
       "      <td>122.0</td>\n",
       "      <td>0.0</td>\n",
       "      <td>4</td>\n",
       "      <td>wemyss-malts-single-cask-scotch-whisky-choc-n-...</td>\n",
       "    </tr>\n",
       "    <tr>\n",
       "      <th>709</th>\n",
       "      <td>5918</td>\n",
       "      <td>114.0</td>\n",
       "      <td>0.0</td>\n",
       "      <td>8</td>\n",
       "      <td>wemyss-malts-single-cask-scotch-whisky-chai-ca...</td>\n",
       "    </tr>\n",
       "  </tbody>\n",
       "</table>\n",
       "</div>"
      ],
      "text/plain": [
       "     product_id  price  total_sales  stock_quantity  \\\n",
       "708        5917  122.0          0.0               4   \n",
       "709        5918  114.0          0.0               8   \n",
       "\n",
       "                                             post_name  \n",
       "708  wemyss-malts-single-cask-scotch-whisky-choc-n-...  \n",
       "709  wemyss-malts-single-cask-scotch-whisky-chai-ca...  "
      ]
     },
     "metadata": {},
     "output_type": "display_data"
    },
    {
     "name": "stdout",
     "output_type": "stream",
     "text": [
      " valeur du prix aberrante dans la categorie cognac\n"
     ]
    },
    {
     "data": {
      "text/html": [
       "<div>\n",
       "<style scoped>\n",
       "    .dataframe tbody tr th:only-of-type {\n",
       "        vertical-align: middle;\n",
       "    }\n",
       "\n",
       "    .dataframe tbody tr th {\n",
       "        vertical-align: top;\n",
       "    }\n",
       "\n",
       "    .dataframe thead th {\n",
       "        text-align: right;\n",
       "    }\n",
       "</style>\n",
       "<table border=\"1\" class=\"dataframe\">\n",
       "  <thead>\n",
       "    <tr style=\"text-align: right;\">\n",
       "      <th></th>\n",
       "      <th>product_id</th>\n",
       "      <th>price</th>\n",
       "      <th>total_sales</th>\n",
       "      <th>stock_quantity</th>\n",
       "      <th>post_name</th>\n",
       "    </tr>\n",
       "  </thead>\n",
       "  <tbody>\n",
       "  </tbody>\n",
       "</table>\n",
       "</div>"
      ],
      "text/plain": [
       "Empty DataFrame\n",
       "Columns: [product_id, price, total_sales, stock_quantity, post_name]\n",
       "Index: []"
      ]
     },
     "metadata": {},
     "output_type": "display_data"
    },
    {
     "name": "stdout",
     "output_type": "stream",
     "text": [
      " valeur du prix aberrante dans la categorie eau-de-vie\n"
     ]
    },
    {
     "data": {
      "text/html": [
       "<div>\n",
       "<style scoped>\n",
       "    .dataframe tbody tr th:only-of-type {\n",
       "        vertical-align: middle;\n",
       "    }\n",
       "\n",
       "    .dataframe tbody tr th {\n",
       "        vertical-align: top;\n",
       "    }\n",
       "\n",
       "    .dataframe thead th {\n",
       "        text-align: right;\n",
       "    }\n",
       "</style>\n",
       "<table border=\"1\" class=\"dataframe\">\n",
       "  <thead>\n",
       "    <tr style=\"text-align: right;\">\n",
       "      <th></th>\n",
       "      <th>product_id</th>\n",
       "      <th>price</th>\n",
       "      <th>total_sales</th>\n",
       "      <th>stock_quantity</th>\n",
       "      <th>post_name</th>\n",
       "    </tr>\n",
       "  </thead>\n",
       "  <tbody>\n",
       "    <tr>\n",
       "      <th>352</th>\n",
       "      <td>4631</td>\n",
       "      <td>76.8</td>\n",
       "      <td>0.0</td>\n",
       "      <td>3</td>\n",
       "      <td>marcel-windholtz-eau-de-vie-de-baie-de-houx</td>\n",
       "    </tr>\n",
       "  </tbody>\n",
       "</table>\n",
       "</div>"
      ],
      "text/plain": [
       "     product_id  price  total_sales  stock_quantity  \\\n",
       "352        4631   76.8          0.0               3   \n",
       "\n",
       "                                       post_name  \n",
       "352  marcel-windholtz-eau-de-vie-de-baie-de-houx  "
      ]
     },
     "metadata": {},
     "output_type": "display_data"
    },
    {
     "name": "stdout",
     "output_type": "stream",
     "text": [
      " valeur du prix aberrante dans la categorie cadeau\n"
     ]
    },
    {
     "data": {
      "text/html": [
       "<div>\n",
       "<style scoped>\n",
       "    .dataframe tbody tr th:only-of-type {\n",
       "        vertical-align: middle;\n",
       "    }\n",
       "\n",
       "    .dataframe tbody tr th {\n",
       "        vertical-align: top;\n",
       "    }\n",
       "\n",
       "    .dataframe thead th {\n",
       "        text-align: right;\n",
       "    }\n",
       "</style>\n",
       "<table border=\"1\" class=\"dataframe\">\n",
       "  <thead>\n",
       "    <tr style=\"text-align: right;\">\n",
       "      <th></th>\n",
       "      <th>product_id</th>\n",
       "      <th>price</th>\n",
       "      <th>total_sales</th>\n",
       "      <th>stock_quantity</th>\n",
       "      <th>post_name</th>\n",
       "    </tr>\n",
       "  </thead>\n",
       "  <tbody>\n",
       "  </tbody>\n",
       "</table>\n",
       "</div>"
      ],
      "text/plain": [
       "Empty DataFrame\n",
       "Columns: [product_id, price, total_sales, stock_quantity, post_name]\n",
       "Index: []"
      ]
     },
     "metadata": {},
     "output_type": "display_data"
    }
   ],
   "source": [
    "#calcul de l'ecart à la moyenne en écart type\n",
    "for cat in data['categorie'].unique().tolist():\n",
    "    #creation d'un data temporaire\n",
    "    datatemp = data[data['categorie'] == cat].copy(deep=True)\n",
    "    #calcul de l'indice par rapport à l'écart type\n",
    "    datatemp['score'] = sc.fit_transform(datatemp[['price']])\n",
    "    #affichage\n",
    "    print(\" valeur du prix aberrante dans la categorie\",cat)\n",
    "    display(datatemp[abs(datatemp['score'])>ecart_significatif]\n",
    "            [['product_id','price','total_sales','stock_quantity','post_name']]\n",
    "            .sort_values(by='price',ascending=False))\n",
    "    \n",
    "#effacement du datatemp\n",
    "del datatemp"
   ]
  },
  {
   "cell_type": "markdown",
   "id": "4aa8ea9f",
   "metadata": {
    "extensions": {
     "jupyter_dashboards": {
      "version": 1,
      "views": {
       "grid_default": {},
       "report_default": {}
      }
     }
    }
   },
   "source": [
    "<a id='vente_nulle'></a>\n",
    "#### affichage des ventes nulles par catégorie"
   ]
  },
  {
   "cell_type": "code",
   "execution_count": 19,
   "id": "45b62eec",
   "metadata": {
    "extensions": {
     "jupyter_dashboards": {
      "version": 1,
      "views": {
       "grid_default": {},
       "report_default": {}
      }
     }
    },
    "scrolled": false
   },
   "outputs": [
    {
     "name": "stdout",
     "output_type": "stream",
     "text": [
      "référence sans vente dans la categorie vin\n"
     ]
    },
    {
     "data": {
      "text/html": [
       "<div>\n",
       "<style scoped>\n",
       "    .dataframe tbody tr th:only-of-type {\n",
       "        vertical-align: middle;\n",
       "    }\n",
       "\n",
       "    .dataframe tbody tr th {\n",
       "        vertical-align: top;\n",
       "    }\n",
       "\n",
       "    .dataframe thead th {\n",
       "        text-align: right;\n",
       "    }\n",
       "</style>\n",
       "<table border=\"1\" class=\"dataframe\">\n",
       "  <thead>\n",
       "    <tr style=\"text-align: right;\">\n",
       "      <th></th>\n",
       "      <th>product_id</th>\n",
       "      <th>price</th>\n",
       "      <th>total_sales</th>\n",
       "      <th>stock_quantity</th>\n",
       "      <th>post_name</th>\n",
       "    </tr>\n",
       "  </thead>\n",
       "  <tbody>\n",
       "    <tr>\n",
       "      <th>1</th>\n",
       "      <td>3849</td>\n",
       "      <td>34.3</td>\n",
       "      <td>0.0</td>\n",
       "      <td>0</td>\n",
       "      <td>pierre-jean-villa-saint-joseph-tilde-2017</td>\n",
       "    </tr>\n",
       "    <tr>\n",
       "      <th>656</th>\n",
       "      <td>5766</td>\n",
       "      <td>35.6</td>\n",
       "      <td>0.0</td>\n",
       "      <td>30</td>\n",
       "      <td>camille-giroud-auxey-duresses-blc-2017</td>\n",
       "    </tr>\n",
       "    <tr>\n",
       "      <th>624</th>\n",
       "      <td>5629</td>\n",
       "      <td>10.3</td>\n",
       "      <td>0.0</td>\n",
       "      <td>51</td>\n",
       "      <td>pares-balta-cava-brut-nature</td>\n",
       "    </tr>\n",
       "    <tr>\n",
       "      <th>626</th>\n",
       "      <td>5690</td>\n",
       "      <td>44.6</td>\n",
       "      <td>0.0</td>\n",
       "      <td>8</td>\n",
       "      <td>domaine-hauvette-igp-alpilles-dolia-2012</td>\n",
       "    </tr>\n",
       "    <tr>\n",
       "      <th>630</th>\n",
       "      <td>5696</td>\n",
       "      <td>17.5</td>\n",
       "      <td>0.0</td>\n",
       "      <td>35</td>\n",
       "      <td>planeta-sicilia-etna-bianco-2018</td>\n",
       "    </tr>\n",
       "    <tr>\n",
       "      <th>...</th>\n",
       "      <td>...</td>\n",
       "      <td>...</td>\n",
       "      <td>...</td>\n",
       "      <td>...</td>\n",
       "      <td>...</td>\n",
       "    </tr>\n",
       "    <tr>\n",
       "      <th>421</th>\n",
       "      <td>4733</td>\n",
       "      <td>16.8</td>\n",
       "      <td>0.0</td>\n",
       "      <td>13</td>\n",
       "      <td>camin-larredya-jurancon-sec-la-part-davant-2018</td>\n",
       "    </tr>\n",
       "    <tr>\n",
       "      <th>423</th>\n",
       "      <td>4739</td>\n",
       "      <td>7.4</td>\n",
       "      <td>0.0</td>\n",
       "      <td>50</td>\n",
       "      <td>jean-paul-brun-beaujolais-le-ronsay-2016</td>\n",
       "    </tr>\n",
       "    <tr>\n",
       "      <th>424</th>\n",
       "      <td>4740</td>\n",
       "      <td>9.7</td>\n",
       "      <td>0.0</td>\n",
       "      <td>8</td>\n",
       "      <td>jean-paul-brun-beaujolais-lancien-2016</td>\n",
       "    </tr>\n",
       "    <tr>\n",
       "      <th>426</th>\n",
       "      <td>4748</td>\n",
       "      <td>14.5</td>\n",
       "      <td>0.0</td>\n",
       "      <td>14</td>\n",
       "      <td>jean-paul-brun-saint-amour-2017</td>\n",
       "    </tr>\n",
       "    <tr>\n",
       "      <th>824</th>\n",
       "      <td>7338</td>\n",
       "      <td>16.3</td>\n",
       "      <td>0.0</td>\n",
       "      <td>45</td>\n",
       "      <td>domaine-saint-nicolas-fiefs-vendeens-blanc-les...</td>\n",
       "    </tr>\n",
       "  </tbody>\n",
       "</table>\n",
       "<p>249 rows × 5 columns</p>\n",
       "</div>"
      ],
      "text/plain": [
       "     product_id  price  total_sales  stock_quantity  \\\n",
       "1          3849   34.3          0.0               0   \n",
       "656        5766   35.6          0.0              30   \n",
       "624        5629   10.3          0.0              51   \n",
       "626        5690   44.6          0.0               8   \n",
       "630        5696   17.5          0.0              35   \n",
       "..          ...    ...          ...             ...   \n",
       "421        4733   16.8          0.0              13   \n",
       "423        4739    7.4          0.0              50   \n",
       "424        4740    9.7          0.0               8   \n",
       "426        4748   14.5          0.0              14   \n",
       "824        7338   16.3          0.0              45   \n",
       "\n",
       "                                             post_name  \n",
       "1            pierre-jean-villa-saint-joseph-tilde-2017  \n",
       "656             camille-giroud-auxey-duresses-blc-2017  \n",
       "624                       pares-balta-cava-brut-nature  \n",
       "626           domaine-hauvette-igp-alpilles-dolia-2012  \n",
       "630                   planeta-sicilia-etna-bianco-2018  \n",
       "..                                                 ...  \n",
       "421    camin-larredya-jurancon-sec-la-part-davant-2018  \n",
       "423           jean-paul-brun-beaujolais-le-ronsay-2016  \n",
       "424             jean-paul-brun-beaujolais-lancien-2016  \n",
       "426                    jean-paul-brun-saint-amour-2017  \n",
       "824  domaine-saint-nicolas-fiefs-vendeens-blanc-les...  \n",
       "\n",
       "[249 rows x 5 columns]"
      ]
     },
     "metadata": {},
     "output_type": "display_data"
    },
    {
     "name": "stdout",
     "output_type": "stream",
     "text": [
      "référence sans vente dans la categorie clos\n"
     ]
    },
    {
     "data": {
      "text/html": [
       "<div>\n",
       "<style scoped>\n",
       "    .dataframe tbody tr th:only-of-type {\n",
       "        vertical-align: middle;\n",
       "    }\n",
       "\n",
       "    .dataframe tbody tr th {\n",
       "        vertical-align: top;\n",
       "    }\n",
       "\n",
       "    .dataframe thead th {\n",
       "        text-align: right;\n",
       "    }\n",
       "</style>\n",
       "<table border=\"1\" class=\"dataframe\">\n",
       "  <thead>\n",
       "    <tr style=\"text-align: right;\">\n",
       "      <th></th>\n",
       "      <th>product_id</th>\n",
       "      <th>price</th>\n",
       "      <th>total_sales</th>\n",
       "      <th>stock_quantity</th>\n",
       "      <th>post_name</th>\n",
       "    </tr>\n",
       "  </thead>\n",
       "  <tbody>\n",
       "    <tr>\n",
       "      <th>154</th>\n",
       "      <td>4115</td>\n",
       "      <td>100.0</td>\n",
       "      <td>0.0</td>\n",
       "      <td>11</td>\n",
       "      <td>zind-humbrecht-riesling-gc-rangen-thann-clos-s...</td>\n",
       "    </tr>\n",
       "    <tr>\n",
       "      <th>156</th>\n",
       "      <td>4132</td>\n",
       "      <td>88.4</td>\n",
       "      <td>0.0</td>\n",
       "      <td>5</td>\n",
       "      <td>zind-humbrecht-pinot-gris-grand-cru-rangen-de-...</td>\n",
       "    </tr>\n",
       "    <tr>\n",
       "      <th>795</th>\n",
       "      <td>6618</td>\n",
       "      <td>13.5</td>\n",
       "      <td>0.0</td>\n",
       "      <td>2</td>\n",
       "      <td>clos-du-mont-olivet-vins-de-pays-du-gard-confl...</td>\n",
       "    </tr>\n",
       "    <tr>\n",
       "      <th>792</th>\n",
       "      <td>6615</td>\n",
       "      <td>32.8</td>\n",
       "      <td>0.0</td>\n",
       "      <td>8</td>\n",
       "      <td>clos-du-mont-olivet-chateauneuf-du-pape-2018</td>\n",
       "    </tr>\n",
       "    <tr>\n",
       "      <th>742</th>\n",
       "      <td>6095</td>\n",
       "      <td>29.8</td>\n",
       "      <td>0.0</td>\n",
       "      <td>3</td>\n",
       "      <td>chateau-de-villeneuve-saumur-champigny-grand-c...</td>\n",
       "    </tr>\n",
       "    <tr>\n",
       "      <th>729</th>\n",
       "      <td>5969</td>\n",
       "      <td>69.0</td>\n",
       "      <td>0.0</td>\n",
       "      <td>0</td>\n",
       "      <td>zind-humbrecht-riesling-clos-windsbuhl-2014</td>\n",
       "    </tr>\n",
       "    <tr>\n",
       "      <th>719</th>\n",
       "      <td>5956</td>\n",
       "      <td>17.2</td>\n",
       "      <td>0.0</td>\n",
       "      <td>12</td>\n",
       "      <td>clos-du-prieur-terrasses-du-larzac-2018</td>\n",
       "    </tr>\n",
       "    <tr>\n",
       "      <th>661</th>\n",
       "      <td>5771</td>\n",
       "      <td>38.4</td>\n",
       "      <td>0.0</td>\n",
       "      <td>3</td>\n",
       "      <td>camille-giroud-santenay-rge-1er-cru-clos-rouss...</td>\n",
       "    </tr>\n",
       "    <tr>\n",
       "      <th>657</th>\n",
       "      <td>5767</td>\n",
       "      <td>175.0</td>\n",
       "      <td>0.0</td>\n",
       "      <td>12</td>\n",
       "      <td>camille-giroud-clos-de-vougeot-2016</td>\n",
       "    </tr>\n",
       "    <tr>\n",
       "      <th>608</th>\n",
       "      <td>5573</td>\n",
       "      <td>34.7</td>\n",
       "      <td>0.0</td>\n",
       "      <td>5</td>\n",
       "      <td>domaine-huet-vouvray-le-clos-du-bourg-demi-sec...</td>\n",
       "    </tr>\n",
       "    <tr>\n",
       "      <th>600</th>\n",
       "      <td>5554</td>\n",
       "      <td>38.0</td>\n",
       "      <td>0.0</td>\n",
       "      <td>10</td>\n",
       "      <td>thierry-germain-saumur-champigny-clos-echelier...</td>\n",
       "    </tr>\n",
       "    <tr>\n",
       "      <th>599</th>\n",
       "      <td>5552</td>\n",
       "      <td>57.7</td>\n",
       "      <td>0.0</td>\n",
       "      <td>12</td>\n",
       "      <td>thierry-germain-saumur-blanc-clos-romans-2016</td>\n",
       "    </tr>\n",
       "    <tr>\n",
       "      <th>452</th>\n",
       "      <td>4797</td>\n",
       "      <td>78.0</td>\n",
       "      <td>0.0</td>\n",
       "      <td>0</td>\n",
       "      <td>domaine-peyre-rose-clos-des-cistes-2008</td>\n",
       "    </tr>\n",
       "    <tr>\n",
       "      <th>436</th>\n",
       "      <td>4778</td>\n",
       "      <td>13.9</td>\n",
       "      <td>0.0</td>\n",
       "      <td>0</td>\n",
       "      <td>clos-du-mont-olivet-cotes-du-rhone-rose-farel-...</td>\n",
       "    </tr>\n",
       "    <tr>\n",
       "      <th>414</th>\n",
       "      <td>4725</td>\n",
       "      <td>23.4</td>\n",
       "      <td>0.0</td>\n",
       "      <td>1</td>\n",
       "      <td>francois-baur-riesling-grand-cru-brand-clos-de...</td>\n",
       "    </tr>\n",
       "    <tr>\n",
       "      <th>248</th>\n",
       "      <td>4253</td>\n",
       "      <td>59.6</td>\n",
       "      <td>0.0</td>\n",
       "      <td>15</td>\n",
       "      <td>domaine-huet-vouvray-le-clos-du-bourg-moelleux...</td>\n",
       "    </tr>\n",
       "    <tr>\n",
       "      <th>159</th>\n",
       "      <td>4139</td>\n",
       "      <td>77.4</td>\n",
       "      <td>0.0</td>\n",
       "      <td>7</td>\n",
       "      <td>zind-humbrecht-gewurzt-grand-cru-rangen-de-tha...</td>\n",
       "    </tr>\n",
       "    <tr>\n",
       "      <th>822</th>\n",
       "      <td>7247</td>\n",
       "      <td>54.8</td>\n",
       "      <td>0.0</td>\n",
       "      <td>23</td>\n",
       "      <td>clos-du-mont-olivet-chateauneuf-du-pape-2007-2</td>\n",
       "    </tr>\n",
       "  </tbody>\n",
       "</table>\n",
       "</div>"
      ],
      "text/plain": [
       "     product_id  price  total_sales  stock_quantity  \\\n",
       "154        4115  100.0          0.0              11   \n",
       "156        4132   88.4          0.0               5   \n",
       "795        6618   13.5          0.0               2   \n",
       "792        6615   32.8          0.0               8   \n",
       "742        6095   29.8          0.0               3   \n",
       "729        5969   69.0          0.0               0   \n",
       "719        5956   17.2          0.0              12   \n",
       "661        5771   38.4          0.0               3   \n",
       "657        5767  175.0          0.0              12   \n",
       "608        5573   34.7          0.0               5   \n",
       "600        5554   38.0          0.0              10   \n",
       "599        5552   57.7          0.0              12   \n",
       "452        4797   78.0          0.0               0   \n",
       "436        4778   13.9          0.0               0   \n",
       "414        4725   23.4          0.0               1   \n",
       "248        4253   59.6          0.0              15   \n",
       "159        4139   77.4          0.0               7   \n",
       "822        7247   54.8          0.0              23   \n",
       "\n",
       "                                             post_name  \n",
       "154  zind-humbrecht-riesling-gc-rangen-thann-clos-s...  \n",
       "156  zind-humbrecht-pinot-gris-grand-cru-rangen-de-...  \n",
       "795  clos-du-mont-olivet-vins-de-pays-du-gard-confl...  \n",
       "792       clos-du-mont-olivet-chateauneuf-du-pape-2018  \n",
       "742  chateau-de-villeneuve-saumur-champigny-grand-c...  \n",
       "729        zind-humbrecht-riesling-clos-windsbuhl-2014  \n",
       "719            clos-du-prieur-terrasses-du-larzac-2018  \n",
       "661  camille-giroud-santenay-rge-1er-cru-clos-rouss...  \n",
       "657                camille-giroud-clos-de-vougeot-2016  \n",
       "608  domaine-huet-vouvray-le-clos-du-bourg-demi-sec...  \n",
       "600  thierry-germain-saumur-champigny-clos-echelier...  \n",
       "599      thierry-germain-saumur-blanc-clos-romans-2016  \n",
       "452            domaine-peyre-rose-clos-des-cistes-2008  \n",
       "436  clos-du-mont-olivet-cotes-du-rhone-rose-farel-...  \n",
       "414  francois-baur-riesling-grand-cru-brand-clos-de...  \n",
       "248  domaine-huet-vouvray-le-clos-du-bourg-moelleux...  \n",
       "159  zind-humbrecht-gewurzt-grand-cru-rangen-de-tha...  \n",
       "822     clos-du-mont-olivet-chateauneuf-du-pape-2007-2  "
      ]
     },
     "metadata": {},
     "output_type": "display_data"
    },
    {
     "name": "stdout",
     "output_type": "stream",
     "text": [
      "référence sans vente dans la categorie grand-cru\n"
     ]
    },
    {
     "data": {
      "text/html": [
       "<div>\n",
       "<style scoped>\n",
       "    .dataframe tbody tr th:only-of-type {\n",
       "        vertical-align: middle;\n",
       "    }\n",
       "\n",
       "    .dataframe tbody tr th {\n",
       "        vertical-align: top;\n",
       "    }\n",
       "\n",
       "    .dataframe thead th {\n",
       "        text-align: right;\n",
       "    }\n",
       "</style>\n",
       "<table border=\"1\" class=\"dataframe\">\n",
       "  <thead>\n",
       "    <tr style=\"text-align: right;\">\n",
       "      <th></th>\n",
       "      <th>product_id</th>\n",
       "      <th>price</th>\n",
       "      <th>total_sales</th>\n",
       "      <th>stock_quantity</th>\n",
       "      <th>post_name</th>\n",
       "    </tr>\n",
       "  </thead>\n",
       "  <tbody>\n",
       "    <tr>\n",
       "      <th>449</th>\n",
       "      <td>4793</td>\n",
       "      <td>18.7</td>\n",
       "      <td>0.0</td>\n",
       "      <td>17</td>\n",
       "      <td>maurice-schoech-pinot-gris-grand-cru-schlossbe...</td>\n",
       "    </tr>\n",
       "    <tr>\n",
       "      <th>450</th>\n",
       "      <td>4794</td>\n",
       "      <td>41.6</td>\n",
       "      <td>0.0</td>\n",
       "      <td>0</td>\n",
       "      <td>maurice-schoech-riesling-grand-cru-rangen-de-t...</td>\n",
       "    </tr>\n",
       "    <tr>\n",
       "      <th>477</th>\n",
       "      <td>4903</td>\n",
       "      <td>102.3</td>\n",
       "      <td>0.0</td>\n",
       "      <td>20</td>\n",
       "      <td>domaine-des-croix-corton-grand-cru-les-greves-...</td>\n",
       "    </tr>\n",
       "    <tr>\n",
       "      <th>525</th>\n",
       "      <td>5001</td>\n",
       "      <td>217.5</td>\n",
       "      <td>0.0</td>\n",
       "      <td>20</td>\n",
       "      <td>david-duband-charmes-chambertin-grand-cru-2014</td>\n",
       "    </tr>\n",
       "    <tr>\n",
       "      <th>621</th>\n",
       "      <td>5618</td>\n",
       "      <td>71.3</td>\n",
       "      <td>0.0</td>\n",
       "      <td>31</td>\n",
       "      <td>albert-boxler-riesling-grand-cru-sommerberg-d-...</td>\n",
       "    </tr>\n",
       "    <tr>\n",
       "      <th>622</th>\n",
       "      <td>5619</td>\n",
       "      <td>71.3</td>\n",
       "      <td>0.0</td>\n",
       "      <td>13</td>\n",
       "      <td>albert-boxler-riesling-grand-cru-sommerberg-e-...</td>\n",
       "    </tr>\n",
       "    <tr>\n",
       "      <th>684</th>\n",
       "      <td>5818</td>\n",
       "      <td>63.5</td>\n",
       "      <td>0.0</td>\n",
       "      <td>19</td>\n",
       "      <td>maison-trimbach-riesling-grand-cru-schlossberg...</td>\n",
       "    </tr>\n",
       "    <tr>\n",
       "      <th>816</th>\n",
       "      <td>6920</td>\n",
       "      <td>50.5</td>\n",
       "      <td>0.0</td>\n",
       "      <td>1</td>\n",
       "      <td>jean-faure-saint-emilion-grand-cru-2015</td>\n",
       "    </tr>\n",
       "  </tbody>\n",
       "</table>\n",
       "</div>"
      ],
      "text/plain": [
       "     product_id  price  total_sales  stock_quantity  \\\n",
       "449        4793   18.7          0.0              17   \n",
       "450        4794   41.6          0.0               0   \n",
       "477        4903  102.3          0.0              20   \n",
       "525        5001  217.5          0.0              20   \n",
       "621        5618   71.3          0.0              31   \n",
       "622        5619   71.3          0.0              13   \n",
       "684        5818   63.5          0.0              19   \n",
       "816        6920   50.5          0.0               1   \n",
       "\n",
       "                                             post_name  \n",
       "449  maurice-schoech-pinot-gris-grand-cru-schlossbe...  \n",
       "450  maurice-schoech-riesling-grand-cru-rangen-de-t...  \n",
       "477  domaine-des-croix-corton-grand-cru-les-greves-...  \n",
       "525     david-duband-charmes-chambertin-grand-cru-2014  \n",
       "621  albert-boxler-riesling-grand-cru-sommerberg-d-...  \n",
       "622  albert-boxler-riesling-grand-cru-sommerberg-e-...  \n",
       "684  maison-trimbach-riesling-grand-cru-schlossberg...  \n",
       "816            jean-faure-saint-emilion-grand-cru-2015  "
      ]
     },
     "metadata": {},
     "output_type": "display_data"
    },
    {
     "name": "stdout",
     "output_type": "stream",
     "text": [
      "référence sans vente dans la categorie champagne\n"
     ]
    },
    {
     "data": {
      "text/html": [
       "<div>\n",
       "<style scoped>\n",
       "    .dataframe tbody tr th:only-of-type {\n",
       "        vertical-align: middle;\n",
       "    }\n",
       "\n",
       "    .dataframe tbody tr th {\n",
       "        vertical-align: top;\n",
       "    }\n",
       "\n",
       "    .dataframe thead th {\n",
       "        text-align: right;\n",
       "    }\n",
       "</style>\n",
       "<table border=\"1\" class=\"dataframe\">\n",
       "  <thead>\n",
       "    <tr style=\"text-align: right;\">\n",
       "      <th></th>\n",
       "      <th>product_id</th>\n",
       "      <th>price</th>\n",
       "      <th>total_sales</th>\n",
       "      <th>stock_quantity</th>\n",
       "      <th>post_name</th>\n",
       "    </tr>\n",
       "  </thead>\n",
       "  <tbody>\n",
       "    <tr>\n",
       "      <th>163</th>\n",
       "      <td>4146</td>\n",
       "      <td>29.5</td>\n",
       "      <td>0.0</td>\n",
       "      <td>33</td>\n",
       "      <td>champagne-mailly-gc-brut-reserve</td>\n",
       "    </tr>\n",
       "    <tr>\n",
       "      <th>165</th>\n",
       "      <td>4148</td>\n",
       "      <td>37.5</td>\n",
       "      <td>0.0</td>\n",
       "      <td>18</td>\n",
       "      <td>champagne-mailly-grand-cru-brut-rose</td>\n",
       "    </tr>\n",
       "    <tr>\n",
       "      <th>166</th>\n",
       "      <td>4149</td>\n",
       "      <td>69.0</td>\n",
       "      <td>0.0</td>\n",
       "      <td>34</td>\n",
       "      <td>champagne-mailly-grand-cru-intemporelle-rose-2009</td>\n",
       "    </tr>\n",
       "    <tr>\n",
       "      <th>288</th>\n",
       "      <td>4337</td>\n",
       "      <td>83.0</td>\n",
       "      <td>0.0</td>\n",
       "      <td>13</td>\n",
       "      <td>champagne-mailly-grand-cru-les-echansons-2007</td>\n",
       "    </tr>\n",
       "    <tr>\n",
       "      <th>289</th>\n",
       "      <td>4348</td>\n",
       "      <td>59.0</td>\n",
       "      <td>0.0</td>\n",
       "      <td>21</td>\n",
       "      <td>champagne-egly-ouriet-tradition-grand-cru</td>\n",
       "    </tr>\n",
       "    <tr>\n",
       "      <th>290</th>\n",
       "      <td>4350</td>\n",
       "      <td>79.5</td>\n",
       "      <td>0.0</td>\n",
       "      <td>20</td>\n",
       "      <td>champagne-egly-ouriet-extra-brut-vp</td>\n",
       "    </tr>\n",
       "    <tr>\n",
       "      <th>295</th>\n",
       "      <td>4357</td>\n",
       "      <td>39.0</td>\n",
       "      <td>0.0</td>\n",
       "      <td>0</td>\n",
       "      <td>champagne-larmandier-bernier-latitude</td>\n",
       "    </tr>\n",
       "    <tr>\n",
       "      <th>296</th>\n",
       "      <td>4358</td>\n",
       "      <td>77.0</td>\n",
       "      <td>0.0</td>\n",
       "      <td>0</td>\n",
       "      <td>champagne-larmandier-bernier-vieilles-vignes-l...</td>\n",
       "    </tr>\n",
       "    <tr>\n",
       "      <th>514</th>\n",
       "      <td>4970</td>\n",
       "      <td>49.5</td>\n",
       "      <td>0.0</td>\n",
       "      <td>0</td>\n",
       "      <td>champagne-larmandier-bernier-terre-de-vertus-p...</td>\n",
       "    </tr>\n",
       "    <tr>\n",
       "      <th>537</th>\n",
       "      <td>5024</td>\n",
       "      <td>45.0</td>\n",
       "      <td>0.0</td>\n",
       "      <td>0</td>\n",
       "      <td>champagne-agrapart-fils-les-7-crus-brut-blanc-...</td>\n",
       "    </tr>\n",
       "    <tr>\n",
       "      <th>538</th>\n",
       "      <td>5025</td>\n",
       "      <td>112.0</td>\n",
       "      <td>0.0</td>\n",
       "      <td>0</td>\n",
       "      <td>champagne-agrapart-fils-lavizoise-grand-cru-20...</td>\n",
       "    </tr>\n",
       "    <tr>\n",
       "      <th>539</th>\n",
       "      <td>5026</td>\n",
       "      <td>86.8</td>\n",
       "      <td>0.0</td>\n",
       "      <td>2</td>\n",
       "      <td>champagne-agrapart-fils-mineral-extra-brut-bla...</td>\n",
       "    </tr>\n",
       "    <tr>\n",
       "      <th>540</th>\n",
       "      <td>5027</td>\n",
       "      <td>62.1</td>\n",
       "      <td>0.0</td>\n",
       "      <td>0</td>\n",
       "      <td>champagne-agrapart-fils-terroirs-brut-blanc-de...</td>\n",
       "    </tr>\n",
       "  </tbody>\n",
       "</table>\n",
       "</div>"
      ],
      "text/plain": [
       "     product_id  price  total_sales  stock_quantity  \\\n",
       "163        4146   29.5          0.0              33   \n",
       "165        4148   37.5          0.0              18   \n",
       "166        4149   69.0          0.0              34   \n",
       "288        4337   83.0          0.0              13   \n",
       "289        4348   59.0          0.0              21   \n",
       "290        4350   79.5          0.0              20   \n",
       "295        4357   39.0          0.0               0   \n",
       "296        4358   77.0          0.0               0   \n",
       "514        4970   49.5          0.0               0   \n",
       "537        5024   45.0          0.0               0   \n",
       "538        5025  112.0          0.0               0   \n",
       "539        5026   86.8          0.0               2   \n",
       "540        5027   62.1          0.0               0   \n",
       "\n",
       "                                             post_name  \n",
       "163                   champagne-mailly-gc-brut-reserve  \n",
       "165               champagne-mailly-grand-cru-brut-rose  \n",
       "166  champagne-mailly-grand-cru-intemporelle-rose-2009  \n",
       "288      champagne-mailly-grand-cru-les-echansons-2007  \n",
       "289          champagne-egly-ouriet-tradition-grand-cru  \n",
       "290                champagne-egly-ouriet-extra-brut-vp  \n",
       "295              champagne-larmandier-bernier-latitude  \n",
       "296  champagne-larmandier-bernier-vieilles-vignes-l...  \n",
       "514  champagne-larmandier-bernier-terre-de-vertus-p...  \n",
       "537  champagne-agrapart-fils-les-7-crus-brut-blanc-...  \n",
       "538  champagne-agrapart-fils-lavizoise-grand-cru-20...  \n",
       "539  champagne-agrapart-fils-mineral-extra-brut-bla...  \n",
       "540  champagne-agrapart-fils-terroirs-brut-blanc-de...  "
      ]
     },
     "metadata": {},
     "output_type": "display_data"
    },
    {
     "name": "stdout",
     "output_type": "stream",
     "text": [
      "référence sans vente dans la categorie 1er-cru\n"
     ]
    },
    {
     "data": {
      "text/html": [
       "<div>\n",
       "<style scoped>\n",
       "    .dataframe tbody tr th:only-of-type {\n",
       "        vertical-align: middle;\n",
       "    }\n",
       "\n",
       "    .dataframe tbody tr th {\n",
       "        vertical-align: top;\n",
       "    }\n",
       "\n",
       "    .dataframe thead th {\n",
       "        text-align: right;\n",
       "    }\n",
       "</style>\n",
       "<table border=\"1\" class=\"dataframe\">\n",
       "  <thead>\n",
       "    <tr style=\"text-align: right;\">\n",
       "      <th></th>\n",
       "      <th>product_id</th>\n",
       "      <th>price</th>\n",
       "      <th>total_sales</th>\n",
       "      <th>stock_quantity</th>\n",
       "      <th>post_name</th>\n",
       "    </tr>\n",
       "  </thead>\n",
       "  <tbody>\n",
       "    <tr>\n",
       "      <th>218</th>\n",
       "      <td>4210</td>\n",
       "      <td>79.8</td>\n",
       "      <td>0.0</td>\n",
       "      <td>0</td>\n",
       "      <td>lucien-boillot-nuits-saint-georges-1ercru-prul...</td>\n",
       "    </tr>\n",
       "    <tr>\n",
       "      <th>592</th>\n",
       "      <td>5544</td>\n",
       "      <td>61.6</td>\n",
       "      <td>0.0</td>\n",
       "      <td>0</td>\n",
       "      <td>marc-colin-et-fils-chassagne-montrachet-blanc-...</td>\n",
       "    </tr>\n",
       "    <tr>\n",
       "      <th>777</th>\n",
       "      <td>6299</td>\n",
       "      <td>78.0</td>\n",
       "      <td>0.0</td>\n",
       "      <td>10</td>\n",
       "      <td>lucien-boillot-gevrey-chambertin-1er-cru-les-c...</td>\n",
       "    </tr>\n",
       "    <tr>\n",
       "      <th>767</th>\n",
       "      <td>6216</td>\n",
       "      <td>121.0</td>\n",
       "      <td>0.0</td>\n",
       "      <td>6</td>\n",
       "      <td>domaine-des-comtes-lafon-volnay-1er-cru-champa...</td>\n",
       "    </tr>\n",
       "    <tr>\n",
       "      <th>766</th>\n",
       "      <td>6215</td>\n",
       "      <td>115.0</td>\n",
       "      <td>0.0</td>\n",
       "      <td>4</td>\n",
       "      <td>domaine-des-comtes-lafon-volnay-1er-cru-champa...</td>\n",
       "    </tr>\n",
       "    <tr>\n",
       "      <th>765</th>\n",
       "      <td>6214</td>\n",
       "      <td>99.0</td>\n",
       "      <td>0.0</td>\n",
       "      <td>7</td>\n",
       "      <td>domaine-des-comtes-lafon-volnay-1er-cru-champa...</td>\n",
       "    </tr>\n",
       "    <tr>\n",
       "      <th>764</th>\n",
       "      <td>6213</td>\n",
       "      <td>121.0</td>\n",
       "      <td>0.0</td>\n",
       "      <td>7</td>\n",
       "      <td>domaine-des-comtes-lafon-volnay-1er-cru-santen...</td>\n",
       "    </tr>\n",
       "    <tr>\n",
       "      <th>757</th>\n",
       "      <td>6201</td>\n",
       "      <td>105.6</td>\n",
       "      <td>0.0</td>\n",
       "      <td>7</td>\n",
       "      <td>david-duband-chambolle-musigny-1er-cru-les-sen...</td>\n",
       "    </tr>\n",
       "    <tr>\n",
       "      <th>739</th>\n",
       "      <td>6073</td>\n",
       "      <td>24.5</td>\n",
       "      <td>0.0</td>\n",
       "      <td>19</td>\n",
       "      <td>jacqueson-rully-rouge-1er-cru-les-preaux-2018</td>\n",
       "    </tr>\n",
       "    <tr>\n",
       "      <th>610</th>\n",
       "      <td>5580</td>\n",
       "      <td>83.7</td>\n",
       "      <td>0.0</td>\n",
       "      <td>18</td>\n",
       "      <td>lucien-boillot-puligny-montrachet-1er-cru-les-...</td>\n",
       "    </tr>\n",
       "    <tr>\n",
       "      <th>545</th>\n",
       "      <td>5063</td>\n",
       "      <td>67.0</td>\n",
       "      <td>0.0</td>\n",
       "      <td>0</td>\n",
       "      <td>lucien-boillot-pommard-1er-cru-les-croix-noire...</td>\n",
       "    </tr>\n",
       "    <tr>\n",
       "      <th>221</th>\n",
       "      <td>4213</td>\n",
       "      <td>58.8</td>\n",
       "      <td>0.0</td>\n",
       "      <td>2</td>\n",
       "      <td>lucien-boillot-volnay-1ercru-angles-2017</td>\n",
       "    </tr>\n",
       "    <tr>\n",
       "      <th>532</th>\n",
       "      <td>5010</td>\n",
       "      <td>55.6</td>\n",
       "      <td>0.0</td>\n",
       "      <td>17</td>\n",
       "      <td>domaine-des-comtes-lafon-monthelie-1er-cru-les...</td>\n",
       "    </tr>\n",
       "    <tr>\n",
       "      <th>531</th>\n",
       "      <td>5008</td>\n",
       "      <td>105.0</td>\n",
       "      <td>0.0</td>\n",
       "      <td>10</td>\n",
       "      <td>domaine-des-comtes-lafon-volnay-1er-cru-santen...</td>\n",
       "    </tr>\n",
       "    <tr>\n",
       "      <th>530</th>\n",
       "      <td>5007</td>\n",
       "      <td>105.0</td>\n",
       "      <td>0.0</td>\n",
       "      <td>17</td>\n",
       "      <td>domaine-des-comtes-lafon-volnay-1er-cru-santen...</td>\n",
       "    </tr>\n",
       "    <tr>\n",
       "      <th>526</th>\n",
       "      <td>5002</td>\n",
       "      <td>64.9</td>\n",
       "      <td>0.0</td>\n",
       "      <td>1</td>\n",
       "      <td>david-duband-morey-saint-denis-1er-cru-les-bro...</td>\n",
       "    </tr>\n",
       "    <tr>\n",
       "      <th>476</th>\n",
       "      <td>4902</td>\n",
       "      <td>46.0</td>\n",
       "      <td>0.0</td>\n",
       "      <td>11</td>\n",
       "      <td>domaine-des-croix-savigny-les-beaune-1er-cru-l...</td>\n",
       "    </tr>\n",
       "    <tr>\n",
       "      <th>475</th>\n",
       "      <td>4901</td>\n",
       "      <td>41.0</td>\n",
       "      <td>0.0</td>\n",
       "      <td>36</td>\n",
       "      <td>domaine-des-croix-beaune-1er-cru-les-cent-vign...</td>\n",
       "    </tr>\n",
       "    <tr>\n",
       "      <th>320</th>\n",
       "      <td>4582</td>\n",
       "      <td>109.6</td>\n",
       "      <td>0.0</td>\n",
       "      <td>7</td>\n",
       "      <td>chateau-de-puligny-montrachet-1cru-champ-canet...</td>\n",
       "    </tr>\n",
       "    <tr>\n",
       "      <th>319</th>\n",
       "      <td>4573</td>\n",
       "      <td>67.2</td>\n",
       "      <td>0.0</td>\n",
       "      <td>9</td>\n",
       "      <td>cdme-beaune-1ercru-greves-3-journaux-2015</td>\n",
       "    </tr>\n",
       "    <tr>\n",
       "      <th>787</th>\n",
       "      <td>6575</td>\n",
       "      <td>41.8</td>\n",
       "      <td>0.0</td>\n",
       "      <td>1</td>\n",
       "      <td>marc-colin-et-fils-saint-aubin-1ercru-chatenie...</td>\n",
       "    </tr>\n",
       "  </tbody>\n",
       "</table>\n",
       "</div>"
      ],
      "text/plain": [
       "     product_id  price  total_sales  stock_quantity  \\\n",
       "218        4210   79.8          0.0               0   \n",
       "592        5544   61.6          0.0               0   \n",
       "777        6299   78.0          0.0              10   \n",
       "767        6216  121.0          0.0               6   \n",
       "766        6215  115.0          0.0               4   \n",
       "765        6214   99.0          0.0               7   \n",
       "764        6213  121.0          0.0               7   \n",
       "757        6201  105.6          0.0               7   \n",
       "739        6073   24.5          0.0              19   \n",
       "610        5580   83.7          0.0              18   \n",
       "545        5063   67.0          0.0               0   \n",
       "221        4213   58.8          0.0               2   \n",
       "532        5010   55.6          0.0              17   \n",
       "531        5008  105.0          0.0              10   \n",
       "530        5007  105.0          0.0              17   \n",
       "526        5002   64.9          0.0               1   \n",
       "476        4902   46.0          0.0              11   \n",
       "475        4901   41.0          0.0              36   \n",
       "320        4582  109.6          0.0               7   \n",
       "319        4573   67.2          0.0               9   \n",
       "787        6575   41.8          0.0               1   \n",
       "\n",
       "                                             post_name  \n",
       "218  lucien-boillot-nuits-saint-georges-1ercru-prul...  \n",
       "592  marc-colin-et-fils-chassagne-montrachet-blanc-...  \n",
       "777  lucien-boillot-gevrey-chambertin-1er-cru-les-c...  \n",
       "767  domaine-des-comtes-lafon-volnay-1er-cru-champa...  \n",
       "766  domaine-des-comtes-lafon-volnay-1er-cru-champa...  \n",
       "765  domaine-des-comtes-lafon-volnay-1er-cru-champa...  \n",
       "764  domaine-des-comtes-lafon-volnay-1er-cru-santen...  \n",
       "757  david-duband-chambolle-musigny-1er-cru-les-sen...  \n",
       "739      jacqueson-rully-rouge-1er-cru-les-preaux-2018  \n",
       "610  lucien-boillot-puligny-montrachet-1er-cru-les-...  \n",
       "545  lucien-boillot-pommard-1er-cru-les-croix-noire...  \n",
       "221           lucien-boillot-volnay-1ercru-angles-2017  \n",
       "532  domaine-des-comtes-lafon-monthelie-1er-cru-les...  \n",
       "531  domaine-des-comtes-lafon-volnay-1er-cru-santen...  \n",
       "530  domaine-des-comtes-lafon-volnay-1er-cru-santen...  \n",
       "526  david-duband-morey-saint-denis-1er-cru-les-bro...  \n",
       "476  domaine-des-croix-savigny-les-beaune-1er-cru-l...  \n",
       "475  domaine-des-croix-beaune-1er-cru-les-cent-vign...  \n",
       "320  chateau-de-puligny-montrachet-1cru-champ-canet...  \n",
       "319          cdme-beaune-1ercru-greves-3-journaux-2015  \n",
       "787  marc-colin-et-fils-saint-aubin-1ercru-chatenie...  "
      ]
     },
     "metadata": {},
     "output_type": "display_data"
    },
    {
     "name": "stdout",
     "output_type": "stream",
     "text": [
      "référence sans vente dans la categorie whisky\n"
     ]
    },
    {
     "data": {
      "text/html": [
       "<div>\n",
       "<style scoped>\n",
       "    .dataframe tbody tr th:only-of-type {\n",
       "        vertical-align: middle;\n",
       "    }\n",
       "\n",
       "    .dataframe tbody tr th {\n",
       "        vertical-align: top;\n",
       "    }\n",
       "\n",
       "    .dataframe thead th {\n",
       "        text-align: right;\n",
       "    }\n",
       "</style>\n",
       "<table border=\"1\" class=\"dataframe\">\n",
       "  <thead>\n",
       "    <tr style=\"text-align: right;\">\n",
       "      <th></th>\n",
       "      <th>product_id</th>\n",
       "      <th>price</th>\n",
       "      <th>total_sales</th>\n",
       "      <th>stock_quantity</th>\n",
       "      <th>post_name</th>\n",
       "    </tr>\n",
       "  </thead>\n",
       "  <tbody>\n",
       "    <tr>\n",
       "      <th>299</th>\n",
       "      <td>4391</td>\n",
       "      <td>49.5</td>\n",
       "      <td>0.0</td>\n",
       "      <td>7</td>\n",
       "      <td>whisky-wemyss-peat-chimney</td>\n",
       "    </tr>\n",
       "    <tr>\n",
       "      <th>300</th>\n",
       "      <td>4392</td>\n",
       "      <td>49.5</td>\n",
       "      <td>0.0</td>\n",
       "      <td>13</td>\n",
       "      <td>whisky-wemyss-spice-king</td>\n",
       "    </tr>\n",
       "    <tr>\n",
       "      <th>301</th>\n",
       "      <td>4393</td>\n",
       "      <td>57.0</td>\n",
       "      <td>0.0</td>\n",
       "      <td>2</td>\n",
       "      <td>whisky-wemyss-vanilla-burst</td>\n",
       "    </tr>\n",
       "    <tr>\n",
       "      <th>302</th>\n",
       "      <td>4394</td>\n",
       "      <td>59.8</td>\n",
       "      <td>0.0</td>\n",
       "      <td>0</td>\n",
       "      <td>whisky-wemyss-treacle-chest</td>\n",
       "    </tr>\n",
       "    <tr>\n",
       "      <th>303</th>\n",
       "      <td>4395</td>\n",
       "      <td>27.5</td>\n",
       "      <td>0.0</td>\n",
       "      <td>8</td>\n",
       "      <td>whisky-lord-elcho</td>\n",
       "    </tr>\n",
       "    <tr>\n",
       "      <th>304</th>\n",
       "      <td>4396</td>\n",
       "      <td>62.0</td>\n",
       "      <td>0.0</td>\n",
       "      <td>7</td>\n",
       "      <td>whisky-wemyss-the-hive-12-ans</td>\n",
       "    </tr>\n",
       "    <tr>\n",
       "      <th>305</th>\n",
       "      <td>4397</td>\n",
       "      <td>59.0</td>\n",
       "      <td>0.0</td>\n",
       "      <td>7</td>\n",
       "      <td>whisky-wemyss-the-hive-batch-strength</td>\n",
       "    </tr>\n",
       "    <tr>\n",
       "      <th>306</th>\n",
       "      <td>4398</td>\n",
       "      <td>59.0</td>\n",
       "      <td>0.0</td>\n",
       "      <td>0</td>\n",
       "      <td>whisky-wemyss-peat-chimney-batch-strength</td>\n",
       "    </tr>\n",
       "    <tr>\n",
       "      <th>704</th>\n",
       "      <td>5912</td>\n",
       "      <td>57.0</td>\n",
       "      <td>0.0</td>\n",
       "      <td>8</td>\n",
       "      <td>whisky-kingsbarns-lowland-single-malt</td>\n",
       "    </tr>\n",
       "    <tr>\n",
       "      <th>708</th>\n",
       "      <td>5917</td>\n",
       "      <td>122.0</td>\n",
       "      <td>0.0</td>\n",
       "      <td>4</td>\n",
       "      <td>wemyss-malts-single-cask-scotch-whisky-choc-n-...</td>\n",
       "    </tr>\n",
       "    <tr>\n",
       "      <th>709</th>\n",
       "      <td>5918</td>\n",
       "      <td>114.0</td>\n",
       "      <td>0.0</td>\n",
       "      <td>8</td>\n",
       "      <td>wemyss-malts-single-cask-scotch-whisky-chai-ca...</td>\n",
       "    </tr>\n",
       "  </tbody>\n",
       "</table>\n",
       "</div>"
      ],
      "text/plain": [
       "     product_id  price  total_sales  stock_quantity  \\\n",
       "299        4391   49.5          0.0               7   \n",
       "300        4392   49.5          0.0              13   \n",
       "301        4393   57.0          0.0               2   \n",
       "302        4394   59.8          0.0               0   \n",
       "303        4395   27.5          0.0               8   \n",
       "304        4396   62.0          0.0               7   \n",
       "305        4397   59.0          0.0               7   \n",
       "306        4398   59.0          0.0               0   \n",
       "704        5912   57.0          0.0               8   \n",
       "708        5917  122.0          0.0               4   \n",
       "709        5918  114.0          0.0               8   \n",
       "\n",
       "                                             post_name  \n",
       "299                         whisky-wemyss-peat-chimney  \n",
       "300                           whisky-wemyss-spice-king  \n",
       "301                        whisky-wemyss-vanilla-burst  \n",
       "302                        whisky-wemyss-treacle-chest  \n",
       "303                                  whisky-lord-elcho  \n",
       "304                      whisky-wemyss-the-hive-12-ans  \n",
       "305              whisky-wemyss-the-hive-batch-strength  \n",
       "306          whisky-wemyss-peat-chimney-batch-strength  \n",
       "704              whisky-kingsbarns-lowland-single-malt  \n",
       "708  wemyss-malts-single-cask-scotch-whisky-choc-n-...  \n",
       "709  wemyss-malts-single-cask-scotch-whisky-chai-ca...  "
      ]
     },
     "metadata": {},
     "output_type": "display_data"
    },
    {
     "name": "stdout",
     "output_type": "stream",
     "text": [
      "référence sans vente dans la categorie cognac\n"
     ]
    },
    {
     "data": {
      "text/html": [
       "<div>\n",
       "<style scoped>\n",
       "    .dataframe tbody tr th:only-of-type {\n",
       "        vertical-align: middle;\n",
       "    }\n",
       "\n",
       "    .dataframe tbody tr th {\n",
       "        vertical-align: top;\n",
       "    }\n",
       "\n",
       "    .dataframe thead th {\n",
       "        text-align: right;\n",
       "    }\n",
       "</style>\n",
       "<table border=\"1\" class=\"dataframe\">\n",
       "  <thead>\n",
       "    <tr style=\"text-align: right;\">\n",
       "      <th></th>\n",
       "      <th>product_id</th>\n",
       "      <th>price</th>\n",
       "      <th>total_sales</th>\n",
       "      <th>stock_quantity</th>\n",
       "      <th>post_name</th>\n",
       "    </tr>\n",
       "  </thead>\n",
       "  <tbody>\n",
       "    <tr>\n",
       "      <th>308</th>\n",
       "      <td>4400</td>\n",
       "      <td>44.0</td>\n",
       "      <td>0.0</td>\n",
       "      <td>0</td>\n",
       "      <td>cognac-frapin-1270</td>\n",
       "    </tr>\n",
       "    <tr>\n",
       "      <th>312</th>\n",
       "      <td>4405</td>\n",
       "      <td>68.1</td>\n",
       "      <td>0.0</td>\n",
       "      <td>6</td>\n",
       "      <td>cognac-frapin-chateau-de-fontpinot-xo-1-2</td>\n",
       "    </tr>\n",
       "    <tr>\n",
       "      <th>313</th>\n",
       "      <td>4406</td>\n",
       "      <td>157.0</td>\n",
       "      <td>0.0</td>\n",
       "      <td>3</td>\n",
       "      <td>cognac-frapin-chateau-de-fontpinot-1989-20-ans</td>\n",
       "    </tr>\n",
       "    <tr>\n",
       "      <th>713</th>\n",
       "      <td>5932</td>\n",
       "      <td>59.9</td>\n",
       "      <td>0.0</td>\n",
       "      <td>3</td>\n",
       "      <td>cognac-normandin-mercier-vfc</td>\n",
       "    </tr>\n",
       "  </tbody>\n",
       "</table>\n",
       "</div>"
      ],
      "text/plain": [
       "     product_id  price  total_sales  stock_quantity  \\\n",
       "308        4400   44.0          0.0               0   \n",
       "312        4405   68.1          0.0               6   \n",
       "313        4406  157.0          0.0               3   \n",
       "713        5932   59.9          0.0               3   \n",
       "\n",
       "                                          post_name  \n",
       "308                              cognac-frapin-1270  \n",
       "312       cognac-frapin-chateau-de-fontpinot-xo-1-2  \n",
       "313  cognac-frapin-chateau-de-fontpinot-1989-20-ans  \n",
       "713                    cognac-normandin-mercier-vfc  "
      ]
     },
     "metadata": {},
     "output_type": "display_data"
    },
    {
     "name": "stdout",
     "output_type": "stream",
     "text": [
      "référence sans vente dans la categorie eau-de-vie\n"
     ]
    },
    {
     "data": {
      "text/html": [
       "<div>\n",
       "<style scoped>\n",
       "    .dataframe tbody tr th:only-of-type {\n",
       "        vertical-align: middle;\n",
       "    }\n",
       "\n",
       "    .dataframe tbody tr th {\n",
       "        vertical-align: top;\n",
       "    }\n",
       "\n",
       "    .dataframe thead th {\n",
       "        text-align: right;\n",
       "    }\n",
       "</style>\n",
       "<table border=\"1\" class=\"dataframe\">\n",
       "  <thead>\n",
       "    <tr style=\"text-align: right;\">\n",
       "      <th></th>\n",
       "      <th>product_id</th>\n",
       "      <th>price</th>\n",
       "      <th>total_sales</th>\n",
       "      <th>stock_quantity</th>\n",
       "      <th>post_name</th>\n",
       "    </tr>\n",
       "  </thead>\n",
       "  <tbody>\n",
       "    <tr>\n",
       "      <th>346</th>\n",
       "      <td>4625</td>\n",
       "      <td>52.4</td>\n",
       "      <td>0.0</td>\n",
       "      <td>3</td>\n",
       "      <td>marcel-windholtz-eau-de-vie-de-sureau</td>\n",
       "    </tr>\n",
       "    <tr>\n",
       "      <th>347</th>\n",
       "      <td>4626</td>\n",
       "      <td>52.9</td>\n",
       "      <td>0.0</td>\n",
       "      <td>2</td>\n",
       "      <td>marcel-windholtz-eau-de-vie-de-sureau-copie</td>\n",
       "    </tr>\n",
       "    <tr>\n",
       "      <th>349</th>\n",
       "      <td>4628</td>\n",
       "      <td>39.6</td>\n",
       "      <td>0.0</td>\n",
       "      <td>2</td>\n",
       "      <td>marcel-windholtz-eau-de-vie-de-marc-de-muscat</td>\n",
       "    </tr>\n",
       "    <tr>\n",
       "      <th>352</th>\n",
       "      <td>4631</td>\n",
       "      <td>76.8</td>\n",
       "      <td>0.0</td>\n",
       "      <td>3</td>\n",
       "      <td>marcel-windholtz-eau-de-vie-de-baie-de-houx</td>\n",
       "    </tr>\n",
       "    <tr>\n",
       "      <th>356</th>\n",
       "      <td>4635</td>\n",
       "      <td>62.4</td>\n",
       "      <td>0.0</td>\n",
       "      <td>3</td>\n",
       "      <td>marcel-windholtz-eau-de-vie-de-kirsch-dalsace-...</td>\n",
       "    </tr>\n",
       "  </tbody>\n",
       "</table>\n",
       "</div>"
      ],
      "text/plain": [
       "     product_id  price  total_sales  stock_quantity  \\\n",
       "346        4625   52.4          0.0               3   \n",
       "347        4626   52.9          0.0               2   \n",
       "349        4628   39.6          0.0               2   \n",
       "352        4631   76.8          0.0               3   \n",
       "356        4635   62.4          0.0               3   \n",
       "\n",
       "                                             post_name  \n",
       "346              marcel-windholtz-eau-de-vie-de-sureau  \n",
       "347        marcel-windholtz-eau-de-vie-de-sureau-copie  \n",
       "349      marcel-windholtz-eau-de-vie-de-marc-de-muscat  \n",
       "352        marcel-windholtz-eau-de-vie-de-baie-de-houx  \n",
       "356  marcel-windholtz-eau-de-vie-de-kirsch-dalsace-...  "
      ]
     },
     "metadata": {},
     "output_type": "display_data"
    },
    {
     "name": "stdout",
     "output_type": "stream",
     "text": [
      "référence sans vente dans la categorie cadeau\n"
     ]
    },
    {
     "data": {
      "text/html": [
       "<div>\n",
       "<style scoped>\n",
       "    .dataframe tbody tr th:only-of-type {\n",
       "        vertical-align: middle;\n",
       "    }\n",
       "\n",
       "    .dataframe tbody tr th {\n",
       "        vertical-align: top;\n",
       "    }\n",
       "\n",
       "    .dataframe thead th {\n",
       "        text-align: right;\n",
       "    }\n",
       "</style>\n",
       "<table border=\"1\" class=\"dataframe\">\n",
       "  <thead>\n",
       "    <tr style=\"text-align: right;\">\n",
       "      <th></th>\n",
       "      <th>product_id</th>\n",
       "      <th>price</th>\n",
       "      <th>total_sales</th>\n",
       "      <th>stock_quantity</th>\n",
       "      <th>post_name</th>\n",
       "    </tr>\n",
       "  </thead>\n",
       "  <tbody>\n",
       "  </tbody>\n",
       "</table>\n",
       "</div>"
      ],
      "text/plain": [
       "Empty DataFrame\n",
       "Columns: [product_id, price, total_sales, stock_quantity, post_name]\n",
       "Index: []"
      ]
     },
     "metadata": {},
     "output_type": "display_data"
    }
   ],
   "source": [
    "#affichage des ventes nulle par catégorie\n",
    "for cat in data['categorie'].unique().tolist():\n",
    "    #creation d'un data temporaire\n",
    "    datatemp = data[data['categorie'] == cat].copy(deep=True)\n",
    "    #affichage\n",
    "    print(\"référence sans vente dans la categorie\",cat)\n",
    "    display(datatemp[datatemp['total_sales']==0]\n",
    "            [['product_id','price','total_sales','stock_quantity','post_name']]\n",
    "            .sort_values(by='total_sales',ascending=False))\n",
    "    \n",
    "#effacement du datatemp\n",
    "del datatemp"
   ]
  },
  {
   "cell_type": "markdown",
   "id": "038ae9b5",
   "metadata": {
    "extensions": {
     "jupyter_dashboards": {
      "version": 1,
      "views": {
       "grid_default": {},
       "report_default": {}
      }
     }
    }
   },
   "source": [
    "#### Affichage des ventes abérrantes"
   ]
  },
  {
   "cell_type": "code",
   "execution_count": 20,
   "id": "0f819ac5",
   "metadata": {
    "extensions": {
     "jupyter_dashboards": {
      "version": 1,
      "views": {
       "grid_default": {},
       "report_default": {}
      }
     }
    },
    "scrolled": false
   },
   "outputs": [
    {
     "name": "stdout",
     "output_type": "stream",
     "text": [
      " valeur des ventes aberrantes dans la categorie vin\n"
     ]
    },
    {
     "data": {
      "text/html": [
       "<div>\n",
       "<style scoped>\n",
       "    .dataframe tbody tr th:only-of-type {\n",
       "        vertical-align: middle;\n",
       "    }\n",
       "\n",
       "    .dataframe tbody tr th {\n",
       "        vertical-align: top;\n",
       "    }\n",
       "\n",
       "    .dataframe thead th {\n",
       "        text-align: right;\n",
       "    }\n",
       "</style>\n",
       "<table border=\"1\" class=\"dataframe\">\n",
       "  <thead>\n",
       "    <tr style=\"text-align: right;\">\n",
       "      <th></th>\n",
       "      <th>product_id</th>\n",
       "      <th>price</th>\n",
       "      <th>total_sales</th>\n",
       "      <th>stock_quantity</th>\n",
       "      <th>post_name</th>\n",
       "    </tr>\n",
       "  </thead>\n",
       "  <tbody>\n",
       "    <tr>\n",
       "      <th>121</th>\n",
       "      <td>4068</td>\n",
       "      <td>16.6</td>\n",
       "      <td>62.0</td>\n",
       "      <td>157</td>\n",
       "      <td>gilles-robin-crozes-hermitage-papillon-2019</td>\n",
       "    </tr>\n",
       "    <tr>\n",
       "      <th>210</th>\n",
       "      <td>4200</td>\n",
       "      <td>5.8</td>\n",
       "      <td>46.0</td>\n",
       "      <td>190</td>\n",
       "      <td>moulin-de-gassac-igp-pays-dherault-guilhem-ros...</td>\n",
       "    </tr>\n",
       "    <tr>\n",
       "      <th>188</th>\n",
       "      <td>4172</td>\n",
       "      <td>5.7</td>\n",
       "      <td>43.0</td>\n",
       "      <td>167</td>\n",
       "      <td>maurel-pays-oc-chardonnay-2019</td>\n",
       "    </tr>\n",
       "    <tr>\n",
       "      <th>200</th>\n",
       "      <td>4187</td>\n",
       "      <td>13.3</td>\n",
       "      <td>42.0</td>\n",
       "      <td>90</td>\n",
       "      <td>le-pas-de-lescalette-languedoc-petits-pas-2019</td>\n",
       "    </tr>\n",
       "    <tr>\n",
       "      <th>761</th>\n",
       "      <td>6206</td>\n",
       "      <td>25.2</td>\n",
       "      <td>41.0</td>\n",
       "      <td>120</td>\n",
       "      <td>domaine-giudicelli-patrimonio-blanc-2019</td>\n",
       "    </tr>\n",
       "    <tr>\n",
       "      <th>734</th>\n",
       "      <td>6047</td>\n",
       "      <td>10.9</td>\n",
       "      <td>38.0</td>\n",
       "      <td>46</td>\n",
       "      <td>chateau-de-la-liquiere-faugeres-ampoule-2019</td>\n",
       "    </tr>\n",
       "    <tr>\n",
       "      <th>418</th>\n",
       "      <td>4729</td>\n",
       "      <td>8.6</td>\n",
       "      <td>38.0</td>\n",
       "      <td>151</td>\n",
       "      <td>emile-boeckel-cremant-brut-blanc-de-blancs</td>\n",
       "    </tr>\n",
       "    <tr>\n",
       "      <th>762</th>\n",
       "      <td>6207</td>\n",
       "      <td>25.2</td>\n",
       "      <td>37.0</td>\n",
       "      <td>363</td>\n",
       "      <td>domaine-giudicelli-patrimonio-rouge-2016</td>\n",
       "    </tr>\n",
       "    <tr>\n",
       "      <th>463</th>\n",
       "      <td>4870</td>\n",
       "      <td>9.3</td>\n",
       "      <td>33.0</td>\n",
       "      <td>0</td>\n",
       "      <td>triennes-igp-mediterranee-rose-2019</td>\n",
       "    </tr>\n",
       "    <tr>\n",
       "      <th>398</th>\n",
       "      <td>4706</td>\n",
       "      <td>16.8</td>\n",
       "      <td>32.0</td>\n",
       "      <td>23</td>\n",
       "      <td>albert-mann-muscat-2018</td>\n",
       "    </tr>\n",
       "    <tr>\n",
       "      <th>456</th>\n",
       "      <td>4861</td>\n",
       "      <td>8.5</td>\n",
       "      <td>29.0</td>\n",
       "      <td>284</td>\n",
       "      <td>philippe-nusswitz-duche-uzes-orenia-rouge-2017</td>\n",
       "    </tr>\n",
       "    <tr>\n",
       "      <th>513</th>\n",
       "      <td>4965</td>\n",
       "      <td>7.1</td>\n",
       "      <td>26.0</td>\n",
       "      <td>203</td>\n",
       "      <td>chateau-turcaud-entre-deux-mers-2019</td>\n",
       "    </tr>\n",
       "    <tr>\n",
       "      <th>487</th>\n",
       "      <td>4918</td>\n",
       "      <td>37.2</td>\n",
       "      <td>24.0</td>\n",
       "      <td>0</td>\n",
       "      <td>alain-graillot-crozes-hermitage-rouge-la-guira...</td>\n",
       "    </tr>\n",
       "    <tr>\n",
       "      <th>665</th>\n",
       "      <td>5778</td>\n",
       "      <td>5.8</td>\n",
       "      <td>24.0</td>\n",
       "      <td>36</td>\n",
       "      <td>maurel-pays-d-oc-merot-2018</td>\n",
       "    </tr>\n",
       "    <tr>\n",
       "      <th>322</th>\n",
       "      <td>4596</td>\n",
       "      <td>43.9</td>\n",
       "      <td>23.0</td>\n",
       "      <td>0</td>\n",
       "      <td>marc-colin-et-fils-chassagne-montrachet-blanc-...</td>\n",
       "    </tr>\n",
       "    <tr>\n",
       "      <th>464</th>\n",
       "      <td>4876</td>\n",
       "      <td>22.8</td>\n",
       "      <td>22.0</td>\n",
       "      <td>4</td>\n",
       "      <td>tempier-bandol-rose-2019</td>\n",
       "    </tr>\n",
       "    <tr>\n",
       "      <th>586</th>\n",
       "      <td>5519</td>\n",
       "      <td>12.9</td>\n",
       "      <td>22.0</td>\n",
       "      <td>35</td>\n",
       "      <td>chambeyron-cotes-du-rhone-2017</td>\n",
       "    </tr>\n",
       "  </tbody>\n",
       "</table>\n",
       "</div>"
      ],
      "text/plain": [
       "     product_id  price  total_sales  stock_quantity  \\\n",
       "121        4068   16.6         62.0             157   \n",
       "210        4200    5.8         46.0             190   \n",
       "188        4172    5.7         43.0             167   \n",
       "200        4187   13.3         42.0              90   \n",
       "761        6206   25.2         41.0             120   \n",
       "734        6047   10.9         38.0              46   \n",
       "418        4729    8.6         38.0             151   \n",
       "762        6207   25.2         37.0             363   \n",
       "463        4870    9.3         33.0               0   \n",
       "398        4706   16.8         32.0              23   \n",
       "456        4861    8.5         29.0             284   \n",
       "513        4965    7.1         26.0             203   \n",
       "487        4918   37.2         24.0               0   \n",
       "665        5778    5.8         24.0              36   \n",
       "322        4596   43.9         23.0               0   \n",
       "464        4876   22.8         22.0               4   \n",
       "586        5519   12.9         22.0              35   \n",
       "\n",
       "                                             post_name  \n",
       "121        gilles-robin-crozes-hermitage-papillon-2019  \n",
       "210  moulin-de-gassac-igp-pays-dherault-guilhem-ros...  \n",
       "188                     maurel-pays-oc-chardonnay-2019  \n",
       "200     le-pas-de-lescalette-languedoc-petits-pas-2019  \n",
       "761           domaine-giudicelli-patrimonio-blanc-2019  \n",
       "734       chateau-de-la-liquiere-faugeres-ampoule-2019  \n",
       "418         emile-boeckel-cremant-brut-blanc-de-blancs  \n",
       "762           domaine-giudicelli-patrimonio-rouge-2016  \n",
       "463                triennes-igp-mediterranee-rose-2019  \n",
       "398                            albert-mann-muscat-2018  \n",
       "456     philippe-nusswitz-duche-uzes-orenia-rouge-2017  \n",
       "513               chateau-turcaud-entre-deux-mers-2019  \n",
       "487  alain-graillot-crozes-hermitage-rouge-la-guira...  \n",
       "665                        maurel-pays-d-oc-merot-2018  \n",
       "322  marc-colin-et-fils-chassagne-montrachet-blanc-...  \n",
       "464                           tempier-bandol-rose-2019  \n",
       "586                     chambeyron-cotes-du-rhone-2017  "
      ]
     },
     "metadata": {},
     "output_type": "display_data"
    },
    {
     "name": "stdout",
     "output_type": "stream",
     "text": [
      " valeur des ventes aberrantes dans la categorie clos\n"
     ]
    },
    {
     "data": {
      "text/html": [
       "<div>\n",
       "<style scoped>\n",
       "    .dataframe tbody tr th:only-of-type {\n",
       "        vertical-align: middle;\n",
       "    }\n",
       "\n",
       "    .dataframe tbody tr th {\n",
       "        vertical-align: top;\n",
       "    }\n",
       "\n",
       "    .dataframe thead th {\n",
       "        text-align: right;\n",
       "    }\n",
       "</style>\n",
       "<table border=\"1\" class=\"dataframe\">\n",
       "  <thead>\n",
       "    <tr style=\"text-align: right;\">\n",
       "      <th></th>\n",
       "      <th>product_id</th>\n",
       "      <th>price</th>\n",
       "      <th>total_sales</th>\n",
       "      <th>stock_quantity</th>\n",
       "      <th>post_name</th>\n",
       "    </tr>\n",
       "  </thead>\n",
       "  <tbody>\n",
       "    <tr>\n",
       "      <th>170</th>\n",
       "      <td>4153</td>\n",
       "      <td>29.0</td>\n",
       "      <td>36.0</td>\n",
       "      <td>0</td>\n",
       "      <td>elian-daros-cotes-du-marmandais-clos-baquey-2015</td>\n",
       "    </tr>\n",
       "  </tbody>\n",
       "</table>\n",
       "</div>"
      ],
      "text/plain": [
       "     product_id  price  total_sales  stock_quantity  \\\n",
       "170        4153   29.0         36.0               0   \n",
       "\n",
       "                                            post_name  \n",
       "170  elian-daros-cotes-du-marmandais-clos-baquey-2015  "
      ]
     },
     "metadata": {},
     "output_type": "display_data"
    },
    {
     "name": "stdout",
     "output_type": "stream",
     "text": [
      " valeur des ventes aberrantes dans la categorie grand-cru\n"
     ]
    },
    {
     "data": {
      "text/html": [
       "<div>\n",
       "<style scoped>\n",
       "    .dataframe tbody tr th:only-of-type {\n",
       "        vertical-align: middle;\n",
       "    }\n",
       "\n",
       "    .dataframe tbody tr th {\n",
       "        vertical-align: top;\n",
       "    }\n",
       "\n",
       "    .dataframe thead th {\n",
       "        text-align: right;\n",
       "    }\n",
       "</style>\n",
       "<table border=\"1\" class=\"dataframe\">\n",
       "  <thead>\n",
       "    <tr style=\"text-align: right;\">\n",
       "      <th></th>\n",
       "      <th>product_id</th>\n",
       "      <th>price</th>\n",
       "      <th>total_sales</th>\n",
       "      <th>stock_quantity</th>\n",
       "      <th>post_name</th>\n",
       "    </tr>\n",
       "  </thead>\n",
       "  <tbody>\n",
       "    <tr>\n",
       "      <th>448</th>\n",
       "      <td>4792</td>\n",
       "      <td>21.0</td>\n",
       "      <td>19.0</td>\n",
       "      <td>13</td>\n",
       "      <td>maurice-schoech-riesling-grand-cru-kaefferkopf...</td>\n",
       "    </tr>\n",
       "  </tbody>\n",
       "</table>\n",
       "</div>"
      ],
      "text/plain": [
       "     product_id  price  total_sales  stock_quantity  \\\n",
       "448        4792   21.0         19.0              13   \n",
       "\n",
       "                                             post_name  \n",
       "448  maurice-schoech-riesling-grand-cru-kaefferkopf...  "
      ]
     },
     "metadata": {},
     "output_type": "display_data"
    },
    {
     "name": "stdout",
     "output_type": "stream",
     "text": [
      " valeur des ventes aberrantes dans la categorie champagne\n"
     ]
    },
    {
     "data": {
      "text/html": [
       "<div>\n",
       "<style scoped>\n",
       "    .dataframe tbody tr th:only-of-type {\n",
       "        vertical-align: middle;\n",
       "    }\n",
       "\n",
       "    .dataframe tbody tr th {\n",
       "        vertical-align: top;\n",
       "    }\n",
       "\n",
       "    .dataframe thead th {\n",
       "        text-align: right;\n",
       "    }\n",
       "</style>\n",
       "<table border=\"1\" class=\"dataframe\">\n",
       "  <thead>\n",
       "    <tr style=\"text-align: right;\">\n",
       "      <th></th>\n",
       "      <th>product_id</th>\n",
       "      <th>price</th>\n",
       "      <th>total_sales</th>\n",
       "      <th>stock_quantity</th>\n",
       "      <th>post_name</th>\n",
       "    </tr>\n",
       "  </thead>\n",
       "  <tbody>\n",
       "    <tr>\n",
       "      <th>286</th>\n",
       "      <td>4334</td>\n",
       "      <td>49.0</td>\n",
       "      <td>96.0</td>\n",
       "      <td>0</td>\n",
       "      <td>champagne-gosset-grand-blanc-de-blanc</td>\n",
       "    </tr>\n",
       "    <tr>\n",
       "      <th>162</th>\n",
       "      <td>4144</td>\n",
       "      <td>49.0</td>\n",
       "      <td>87.0</td>\n",
       "      <td>11</td>\n",
       "      <td>champagne-gosset-grand-rose</td>\n",
       "    </tr>\n",
       "  </tbody>\n",
       "</table>\n",
       "</div>"
      ],
      "text/plain": [
       "     product_id  price  total_sales  stock_quantity  \\\n",
       "286        4334   49.0         96.0               0   \n",
       "162        4144   49.0         87.0              11   \n",
       "\n",
       "                                 post_name  \n",
       "286  champagne-gosset-grand-blanc-de-blanc  \n",
       "162            champagne-gosset-grand-rose  "
      ]
     },
     "metadata": {},
     "output_type": "display_data"
    },
    {
     "name": "stdout",
     "output_type": "stream",
     "text": [
      " valeur des ventes aberrantes dans la categorie whisky\n"
     ]
    },
    {
     "data": {
      "text/html": [
       "<div>\n",
       "<style scoped>\n",
       "    .dataframe tbody tr th:only-of-type {\n",
       "        vertical-align: middle;\n",
       "    }\n",
       "\n",
       "    .dataframe tbody tr th {\n",
       "        vertical-align: top;\n",
       "    }\n",
       "\n",
       "    .dataframe thead th {\n",
       "        text-align: right;\n",
       "    }\n",
       "</style>\n",
       "<table border=\"1\" class=\"dataframe\">\n",
       "  <thead>\n",
       "    <tr style=\"text-align: right;\">\n",
       "      <th></th>\n",
       "      <th>product_id</th>\n",
       "      <th>price</th>\n",
       "      <th>total_sales</th>\n",
       "      <th>stock_quantity</th>\n",
       "      <th>post_name</th>\n",
       "    </tr>\n",
       "  </thead>\n",
       "  <tbody>\n",
       "  </tbody>\n",
       "</table>\n",
       "</div>"
      ],
      "text/plain": [
       "Empty DataFrame\n",
       "Columns: [product_id, price, total_sales, stock_quantity, post_name]\n",
       "Index: []"
      ]
     },
     "metadata": {},
     "output_type": "display_data"
    },
    {
     "name": "stdout",
     "output_type": "stream",
     "text": [
      " valeur des ventes aberrantes dans la categorie cognac\n"
     ]
    },
    {
     "data": {
      "text/html": [
       "<div>\n",
       "<style scoped>\n",
       "    .dataframe tbody tr th:only-of-type {\n",
       "        vertical-align: middle;\n",
       "    }\n",
       "\n",
       "    .dataframe tbody tr th {\n",
       "        vertical-align: top;\n",
       "    }\n",
       "\n",
       "    .dataframe thead th {\n",
       "        text-align: right;\n",
       "    }\n",
       "</style>\n",
       "<table border=\"1\" class=\"dataframe\">\n",
       "  <thead>\n",
       "    <tr style=\"text-align: right;\">\n",
       "      <th></th>\n",
       "      <th>product_id</th>\n",
       "      <th>price</th>\n",
       "      <th>total_sales</th>\n",
       "      <th>stock_quantity</th>\n",
       "      <th>post_name</th>\n",
       "    </tr>\n",
       "  </thead>\n",
       "  <tbody>\n",
       "  </tbody>\n",
       "</table>\n",
       "</div>"
      ],
      "text/plain": [
       "Empty DataFrame\n",
       "Columns: [product_id, price, total_sales, stock_quantity, post_name]\n",
       "Index: []"
      ]
     },
     "metadata": {},
     "output_type": "display_data"
    },
    {
     "name": "stdout",
     "output_type": "stream",
     "text": [
      " valeur des ventes aberrantes dans la categorie 1er-cru\n"
     ]
    },
    {
     "data": {
      "text/html": [
       "<div>\n",
       "<style scoped>\n",
       "    .dataframe tbody tr th:only-of-type {\n",
       "        vertical-align: middle;\n",
       "    }\n",
       "\n",
       "    .dataframe tbody tr th {\n",
       "        vertical-align: top;\n",
       "    }\n",
       "\n",
       "    .dataframe thead th {\n",
       "        text-align: right;\n",
       "    }\n",
       "</style>\n",
       "<table border=\"1\" class=\"dataframe\">\n",
       "  <thead>\n",
       "    <tr style=\"text-align: right;\">\n",
       "      <th></th>\n",
       "      <th>product_id</th>\n",
       "      <th>price</th>\n",
       "      <th>total_sales</th>\n",
       "      <th>stock_quantity</th>\n",
       "      <th>post_name</th>\n",
       "    </tr>\n",
       "  </thead>\n",
       "  <tbody>\n",
       "    <tr>\n",
       "      <th>470</th>\n",
       "      <td>4891</td>\n",
       "      <td>27.9</td>\n",
       "      <td>36.0</td>\n",
       "      <td>0</td>\n",
       "      <td>jacqueson-rully-blanc-1er-cru-la-pucelle-2018</td>\n",
       "    </tr>\n",
       "  </tbody>\n",
       "</table>\n",
       "</div>"
      ],
      "text/plain": [
       "     product_id  price  total_sales  stock_quantity  \\\n",
       "470        4891   27.9         36.0               0   \n",
       "\n",
       "                                         post_name  \n",
       "470  jacqueson-rully-blanc-1er-cru-la-pucelle-2018  "
      ]
     },
     "metadata": {},
     "output_type": "display_data"
    },
    {
     "name": "stdout",
     "output_type": "stream",
     "text": [
      " valeur des ventes aberrantes dans la categorie eau-de-vie\n"
     ]
    },
    {
     "data": {
      "text/html": [
       "<div>\n",
       "<style scoped>\n",
       "    .dataframe tbody tr th:only-of-type {\n",
       "        vertical-align: middle;\n",
       "    }\n",
       "\n",
       "    .dataframe tbody tr th {\n",
       "        vertical-align: top;\n",
       "    }\n",
       "\n",
       "    .dataframe thead th {\n",
       "        text-align: right;\n",
       "    }\n",
       "</style>\n",
       "<table border=\"1\" class=\"dataframe\">\n",
       "  <thead>\n",
       "    <tr style=\"text-align: right;\">\n",
       "      <th></th>\n",
       "      <th>product_id</th>\n",
       "      <th>price</th>\n",
       "      <th>total_sales</th>\n",
       "      <th>stock_quantity</th>\n",
       "      <th>post_name</th>\n",
       "    </tr>\n",
       "  </thead>\n",
       "  <tbody>\n",
       "  </tbody>\n",
       "</table>\n",
       "</div>"
      ],
      "text/plain": [
       "Empty DataFrame\n",
       "Columns: [product_id, price, total_sales, stock_quantity, post_name]\n",
       "Index: []"
      ]
     },
     "metadata": {},
     "output_type": "display_data"
    },
    {
     "name": "stdout",
     "output_type": "stream",
     "text": [
      " valeur des ventes aberrantes dans la categorie cadeau\n"
     ]
    },
    {
     "data": {
      "text/html": [
       "<div>\n",
       "<style scoped>\n",
       "    .dataframe tbody tr th:only-of-type {\n",
       "        vertical-align: middle;\n",
       "    }\n",
       "\n",
       "    .dataframe tbody tr th {\n",
       "        vertical-align: top;\n",
       "    }\n",
       "\n",
       "    .dataframe thead th {\n",
       "        text-align: right;\n",
       "    }\n",
       "</style>\n",
       "<table border=\"1\" class=\"dataframe\">\n",
       "  <thead>\n",
       "    <tr style=\"text-align: right;\">\n",
       "      <th></th>\n",
       "      <th>product_id</th>\n",
       "      <th>price</th>\n",
       "      <th>total_sales</th>\n",
       "      <th>stock_quantity</th>\n",
       "      <th>post_name</th>\n",
       "    </tr>\n",
       "  </thead>\n",
       "  <tbody>\n",
       "  </tbody>\n",
       "</table>\n",
       "</div>"
      ],
      "text/plain": [
       "Empty DataFrame\n",
       "Columns: [product_id, price, total_sales, stock_quantity, post_name]\n",
       "Index: []"
      ]
     },
     "metadata": {},
     "output_type": "display_data"
    }
   ],
   "source": [
    "#calcul de l'ecart à la moyenne en écart type\n",
    "#enlevé les valeurs NaN\n",
    "data = data[~data['total_sales'].isna()]\n",
    "#enlevé les valeurs nulles\n",
    "data = data[data['total_sales']!=0]\n",
    "\n",
    "for cat in data['categorie'].unique().tolist():\n",
    "    #création d'un dataframe temporaire\n",
    "    datatemp = data[data['categorie'] == cat].copy(deep=True)\n",
    "    #calcul de l'indice par rapport à l'écart type\n",
    "    datatemp['score'] = sc.fit_transform(datatemp[['total_sales']])\n",
    "    \n",
    "    #affichage\n",
    "    print(\" valeur des ventes aberrantes dans la categorie\",cat)\n",
    "    display(datatemp[abs(datatemp['score'])>ecart_significatif]\n",
    "            [['product_id','price','total_sales','stock_quantity','post_name']]\n",
    "            .sort_values(by='total_sales',ascending=False))\n",
    "    \n",
    "#effacement du datatemp\n",
    "del datatemp"
   ]
  },
  {
   "cell_type": "code",
   "execution_count": 21,
   "id": "9885f694",
   "metadata": {
    "extensions": {
     "jupyter_dashboards": {
      "version": 1,
      "views": {
       "grid_default": {},
       "report_default": {}
      }
     }
    }
   },
   "outputs": [
    {
     "name": "stdout",
     "output_type": "stream",
     "text": [
      "Help on module fonction.fonction_perso in fonction:\n",
      "\n",
      "NAME\n",
      "    fonction.fonction_perso\n",
      "\n",
      "FUNCTIONS\n",
      "    analyseDataFrame(df)\n",
      "        affiche un resumé des Dataframes info describe head et verification doublons\n",
      "        \n",
      "        Args:\n",
      "            df : dataframe à analyser as dataFrame\n",
      "        \n",
      "        Returns:\n",
      "            None\n",
      "    \n",
      "    categoriser(data, nom_col_recherche, mot_cle, nom_categorie, nom_col_categorie='categorie', regex=False)\n",
      "        recherche un mot dans une string et enregistre un nom de categorie dans la colonne categorie (par defaut)\n",
      "        Args:\n",
      "            data : dataframe a categoriser as DataFrame\n",
      "            nom_col_recherche : colonne où rechercher as string\n",
      "            nom_categorie : nom de la catégorie as string\n",
      "            nom_col_categorie : nom de la colonne cat\"egorie a créer as string\n",
      "        Returns :\n",
      "            None\n",
      "    \n",
      "    courbe_Lorentz(plt_ax, df, colonne, titre='', titreX='', titreY='')\n",
      "        configure une courbe de Lorentz sur l'axe matplotlib\n",
      "        Args:\n",
      "            plt_ax : Axe Matplotlib as matplotlib.axes_subplots.AxesSubplot\n",
      "            df : dataframe a exploiter as DataFrame\n",
      "            colonne: nom de la colonne pour faire le graphe as string\n",
      "            titre : titre du graphe as string\n",
      "            titreX : titre de l'axe X as string\n",
      "            titreY: titre de l'axe Y as string\n",
      "        Returns :\n",
      "            None\n",
      "    \n",
      "    detection_clé(df)\n",
      "        indique si une colonne peut être utilisé en clé\n",
      "        Args:\n",
      "            df : dataframe as DataFrame\n",
      "        \n",
      "        Returns :\n",
      "            None\n",
      "\n",
      "FILE\n",
      "    /home/barrios/Parcours_Data/projet_5_fini/DataV2_Bottleneck_Barrios_Mathieu/fonction/fonction_perso.py\n",
      "\n",
      "\n"
     ]
    }
   ],
   "source": [
    "help(perso)"
   ]
  },
  {
   "cell_type": "markdown",
   "id": "e39fdffd",
   "metadata": {
    "extensions": {
     "jupyter_dashboards": {
      "version": 1,
      "views": {
       "grid_default": {},
       "report_default": {}
      }
     }
    }
   },
   "source": [
    "### Conclusion :\n",
    "[20% des références produisent 80%](#lorentz) du chiffre d'affaires<br>\n",
    "Certaines références ne se [vendent pas](#vente_nulle), à cause du prix? une autre raison?<br>\n",
    "Des références à bas prix ne se vendent pas et prennent de la place en stock, faire des promotions?<br>\n",
    "Il faudrait avoir plus d'informations sur certains vins (sku et postname vide) pour pouvoir les classer et les vérifier.<br>\n",
    "Il faudrait aussi avoir l'avis d'un(e) spécialiste pour savoir s'il ne faudrait pas d'autres catégories, classer différemment les vins.<br>\n",
    "Il faut aussi un connaisseur pour vérifier les prix des différents outliers trouvés<br>\n",
    "#### Pour la gestion des stocks:\n",
    "Une erreur dans les données est à rectifier entre le stock disponible et l'état du stock (trouvé dans les analyses préparatoires)<br>\n",
    "Des [stocks de produits sont à 0](#stock_a_0), y compris sur des produits générants un fort chiffre d'affaires.<br> \n",
    "Voir pour instaurer une politique de gestion de stock (stock minimal, stock de sécurité) sur certains produits."
   ]
  },
  {
   "cell_type": "code",
   "execution_count": null,
   "id": "0cd48996",
   "metadata": {
    "extensions": {
     "jupyter_dashboards": {
      "version": 1,
      "views": {
       "grid_default": {},
       "report_default": {}
      }
     }
    }
   },
   "outputs": [],
   "source": []
  }
 ],
 "metadata": {
  "extensions": {
   "jupyter_dashboards": {
    "activeView": "grid_default",
    "version": 1,
    "views": {
     "grid_default": {
      "cellMargin": 10,
      "defaultCellHeight": 20,
      "maxColumns": 12,
      "name": "grid",
      "type": "grid"
     },
     "report_default": {
      "name": "report",
      "type": "report"
     }
    }
   }
  },
  "hide_input": false,
  "interpreter": {
   "hash": "586ad1ed5c97141e2437e681efbf1ec0adcd17d830cf5af2ca3d2819e743e158"
  },
  "kernelspec": {
   "display_name": "Python 3 (ipykernel)",
   "language": "python",
   "name": "python3"
  },
  "language_info": {
   "codemirror_mode": {
    "name": "ipython",
    "version": 3
   },
   "file_extension": ".py",
   "mimetype": "text/x-python",
   "name": "python",
   "nbconvert_exporter": "python",
   "pygments_lexer": "ipython3",
   "version": "3.10.8"
  }
 },
 "nbformat": 4,
 "nbformat_minor": 5
}
