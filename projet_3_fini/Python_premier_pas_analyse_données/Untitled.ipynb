{
 "cells": [
  {
   "cell_type": "code",
   "execution_count": 3,
   "id": "0527d62d",
   "metadata": {},
   "outputs": [
    {
     "name": "stdout",
     "output_type": "stream",
     "text": [
      "['rouge', 'jaune', 'orange', 'vert', 'bleu']\n",
      "['rouge', 'jaune', 'orange', 'émeraude', 'bleu']\n"
     ]
    }
   ],
   "source": [
    "couleurs = [\"rouge\",\"jaune\",\"orange\",\"vert\",\"bleu\"]\n",
    "print (couleurs)\n",
    "couleurs[3]=\"émeraude\"\n",
    "print(couleurs)"
   ]
  },
  {
   "cell_type": "code",
   "execution_count": 10,
   "id": "e26e0fd9",
   "metadata": {},
   "outputs": [
    {
     "name": "stdout",
     "output_type": "stream",
     "text": [
      "['Joey', 'John', 'Marie']\n",
      "['John', 'Marie']\n"
     ]
    }
   ],
   "source": [
    "invites=[]\n",
    "invites.append(\"Joey\")\n",
    "invites.append(\"Martin\")\n",
    "invites.append(\"Marie\")\n",
    "len(invites)\n",
    "invites[1]=\"John\"\n",
    "print(invites)\n",
    "del invites[0]\n",
    "print(invites)"
   ]
  },
  {
   "cell_type": "code",
   "execution_count": 1,
   "id": "927f47ed",
   "metadata": {},
   "outputs": [],
   "source": [
    "from tkinter import *\n",
    "from math import log10\n",
    "\n",
    "class Application(object):\n",
    "    def __init__(self):\n",
    "        \"\"\"constructeur de la fenetre principale\"\"\"\n",
    "        self.root = Tk()\n",
    "        self.root.title(\"Code des Couleurs\")\n",
    "        self.dessineResistance()\n",
    "        Label(self.root,text=\"Entrez la valeur de la résistance en ohms :\").grid(row=2,column=1, columnspan=3)\n",
    "        Button(self.root,text=\"montrer\",command=self.changeCouleurs).grid(row=3,column=1)\n",
    "\n",
    "        Button(self.root,text=\"Quitter\",command=self.root.quit).grid(row=3,column=3)\n",
    "        self.entree=Entry(self.root,width=14)\n",
    "        self.entree.bind(\"<Return>\",self.changeCouleurs) #modif pour exo 13.4\n",
    "        self.entree.grid(row=3,column=2)\n",
    "        #code des couleurs pour le valeur de zéro a neuf\n",
    "        self.cc = [\"black\",\"brown\",\"red\",\"orange\",\"yellow\",\"green\",\"blue\",\"purple\",\"grey\",\"white\"]\n",
    "        self.root.mainloop()\n",
    "\n",
    "    def dessineResistance(self):\n",
    "        \"\"\"canevas avec un modele de resistance à trois lignes colorées\"\"\"\n",
    "        #exo 13.1 modif fond de l'image en bleue clair(OK) corps de resistance beige(OK) fil resistance plus fin (OK) bande coloré plus large(OK)\n",
    "        #exo 13.2 modif pour que l'image sois 2 fois plus grande\n",
    "        #self.can= Canvas(self.root, width=250, height= 100, bg=\"ivory\")\n",
    "        #self.can= Canvas(self.root, width=250, height= 100, bg=\"light blue\")\n",
    "        self.can= Canvas(self.root, width=500, height= 200, bg=\"light blue\")\n",
    "        \n",
    "        self.can.grid(row=1,column=1, columnspan=3,pady=5,padx=5)\n",
    "        \n",
    "        #self.can.create_line(10,50,240,50,width=5)\n",
    "        #self.can.create_line(10,50,240,50,width=1)\n",
    "        self.can.create_line(10,100,480,100,width=1)\n",
    "\n",
    "        #self.can.create_rectangle(65,30,185,70,fill=\"light grey\",width=2)\n",
    "        #self.can.create_rectangle(65,30,185,70,fill=\"beige\",width=2)\n",
    "        self.can.create_rectangle(130,60,370,140,fill=\"beige\",width=2)\n",
    "        #dessin des trois ligne colorées (noire au depart):\n",
    "        self.ligne=[]\n",
    "        for x in range(85,150,24):\n",
    "            #self.ligne.append(self.can.create_rectangle(x,30,x+12,70,fill=\"black\",width=0))\n",
    "            #self.ligne.append(self.can.create_rectangle(x,30,x+20,70,fill=\"black\",width=0))\n",
    "            self.ligne.append(self.can.create_rectangle(x*2,30*2,(x+20)*2,70*2,fill=\"black\",width=0))\n",
    "\n",
    "    def changeCouleurs(self,event=0):#modification ajout event=0 pour pouvoir appuyer sur entrée avec entree\n",
    "        \"\"\"affichage des couleurs correspondant à la valeur entrée\"\"\"\n",
    "        #exo13.3 modifier le scirpt pour accepter les valeur inferieur a 10 ohm\n",
    "        #exo13.4 modifier le script pour enlever le bouton montrer un simple appuyer sur entrée feras l'affaire\n",
    "        #exo13.5 modifier le script pour que les 3 bande redevienne noire si mauvaise entré\n",
    "        self.v1ch = self.entree.get() #cette methode renvoie une chaine\n",
    "        try:\n",
    "            v=float(self.v1ch) #conversion en valeur numerique\n",
    "        except:\n",
    "            err = 1\n",
    "        else:\n",
    "            err = 0\n",
    "        if err==1 or v<0 or v>1e11: # pour exo 13.3 modifier v<10 en v<0\n",
    "            self.signaleErreur() #entrée hors limite\n",
    "        else:\n",
    "            li=[0]*3 #liste des 3 code a affiché\n",
    "            if v<10:\n",
    "                li[0]=0\n",
    "                decim=int(v)\n",
    "                li[1]=decim\n",
    "                li[2]=int((v-decim)*10)\n",
    "            else:\n",
    "                logv= int(log10(v)) #partie entiere du logarythme\n",
    "                ordgr=10**logv #ordre de grandeur\n",
    "                #extraction du premier chiffre significatifs\n",
    "                li[0]=int(v/ordgr) #partie entiere\n",
    "                decim=v/ordgr - li[0] #partie decimale\n",
    "                #extraction du seconde chiffre significatif\n",
    "                li[1]=int (decim*10+0.5) #+ 0.5 pour arrondir correctement\n",
    "                #nombre de 0 a accoler au 2 chiffres significatifs\n",
    "                li[2]= logv-1\n",
    "            #coloration des 3 lignes:\n",
    "            for n in range(3):\n",
    "                self.can.itemconfigure(self.ligne[n],fill=self.cc[li[n]])\n",
    "\n",
    "    def signaleErreur(self):\n",
    "        self.entree.configure(bg=\"red\") #colorer le fond du champs\n",
    "        for n in range(3):\n",
    "                self.can.itemconfigure(self.ligne[n],fill=\"black\")\n",
    "        self.root.after(1000,self.videEntree) #après 1 seconde, effacer\n",
    "\n",
    "    def videEntree(self):\n",
    "        self.entree.configure(bg=\"white\") #retablir le fond blanc\n",
    "        self.entree.delete(0,len(self.v1ch)) #enlever les car. presents\n",
    "        \n",
    "#programme principal:\n",
    "if __name__ == \"__main__\":\n",
    "            \n",
    "    f=Application()"
   ]
  },
  {
   "cell_type": "code",
   "execution_count": null,
   "id": "c7619b83",
   "metadata": {},
   "outputs": [],
   "source": []
  }
 ],
 "metadata": {
  "kernelspec": {
   "display_name": "Python 3 (ipykernel)",
   "language": "python",
   "name": "python3"
  },
  "language_info": {
   "codemirror_mode": {
    "name": "ipython",
    "version": 3
   },
   "file_extension": ".py",
   "mimetype": "text/x-python",
   "name": "python",
   "nbconvert_exporter": "python",
   "pygments_lexer": "ipython3",
   "version": "3.10.2"
  }
 },
 "nbformat": 4,
 "nbformat_minor": 5
}
