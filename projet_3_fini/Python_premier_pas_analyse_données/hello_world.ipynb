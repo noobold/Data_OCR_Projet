{
 "cells": [
  {
   "cell_type": "code",
   "execution_count": 1,
   "id": "486b8248",
   "metadata": {},
   "outputs": [
    {
     "name": "stdout",
     "output_type": "stream",
     "text": [
      "Bonjour le Disque Monde\n"
     ]
    }
   ],
   "source": [
    "print(\"Bonjour le Disque Monde\")"
   ]
  },
  {
   "cell_type": "code",
   "execution_count": 2,
   "id": "15786d2b",
   "metadata": {},
   "outputs": [
    {
     "name": "stdout",
     "output_type": "stream",
     "text": [
      "Le solde de votre compte était de 10000 €\n",
      "Il vous a rapporté 75.0 € cette année\n"
     ]
    }
   ],
   "source": [
    "compteEpargne = 10000\n",
    "taux = 0.75\n",
    "interets = compteEpargne *(taux/100)\n",
    "print(\"Le solde de votre compte était de\", compteEpargne, \"€\\nIl vous a rapporté\", interets, \"€ cette année\")"
   ]
  },
  {
   "cell_type": "code",
   "execution_count": 3,
   "id": "4bc1136e",
   "metadata": {},
   "outputs": [],
   "source": [
    "maPhrase = 'JE SUIS ENERVE !!'"
   ]
  },
  {
   "cell_type": "code",
   "execution_count": 4,
   "id": "43977fc0",
   "metadata": {},
   "outputs": [
    {
     "name": "stdout",
     "output_type": "stream",
     "text": [
      "je suis enerve !!\n"
     ]
    }
   ],
   "source": [
    "print (maPhrase.lower())"
   ]
  },
  {
   "cell_type": "code",
   "execution_count": 5,
   "id": "cc02a1a4",
   "metadata": {},
   "outputs": [
    {
     "name": "stdout",
     "output_type": "stream",
     "text": [
      "27 5\n"
     ]
    }
   ],
   "source": [
    "x = 10\n",
    "\n",
    "x += 12\n",
    "\n",
    "y = int(x/4)\n",
    "\n",
    "x = x + y\n",
    "print(x,y)"
   ]
  },
  {
   "cell_type": "code",
   "execution_count": 7,
   "id": "58dc10e7",
   "metadata": {},
   "outputs": [
    {
     "name": "stdout",
     "output_type": "stream",
     "text": [
      "This is a test\n"
     ]
    }
   ],
   "source": [
    "a = \"This is A TEST\"\n",
    "print (a.capitalize())"
   ]
  },
  {
   "cell_type": "code",
   "execution_count": null,
   "id": "ad76d627",
   "metadata": {},
   "outputs": [],
   "source": []
  }
 ],
 "metadata": {
  "kernelspec": {
   "display_name": "Python 3 (ipykernel)",
   "language": "python",
   "name": "python3"
  },
  "language_info": {
   "codemirror_mode": {
    "name": "ipython",
    "version": 3
   },
   "file_extension": ".py",
   "mimetype": "text/x-python",
   "name": "python",
   "nbconvert_exporter": "python",
   "pygments_lexer": "ipython3",
   "version": "3.10.2"
  }
 },
 "nbformat": 4,
 "nbformat_minor": 5
}
